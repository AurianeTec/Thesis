{
 "cells": [
  {
   "cell_type": "markdown",
   "id": "5b9c27de",
   "metadata": {
    "tags": []
   },
   "source": [
    "# Create complete network\n",
    "- get all layers created so far (IRIS, centroids, roads for cars and bikes, public transport layer(s))\n",
    "\n",
    "- connect centroids to the carbike network: \n",
    "    - combine centroids and carbike nodes into one nodes_network dataframe\n",
    "    - put the combined nodes and the carbike edges into snkit\n",
    "    - create a base_network with them, create a linked network\n",
    "    - go back to separate carbike and centroid dataframes as needed\n",
    "\n"
   ]
  },
  {
   "cell_type": "code",
   "execution_count": 1,
   "id": "f4daab84",
   "metadata": {},
   "outputs": [
    {
     "name": "stderr",
     "output_type": "stream",
     "text": [
      "/Users/auriane/opt/miniconda3/envs/thesis/lib/python3.10/site-packages/geopandas/_compat.py:123: UserWarning: The Shapely GEOS version (3.11.2-CAPI-1.17.2) is incompatible with the GEOS version PyGEOS was compiled with (3.10.4-CAPI-1.16.2). Conversions between both will be slow.\n",
      "  warnings.warn(\n"
     ]
    }
   ],
   "source": [
    "import networkx as nx\n",
    "import os\n",
    "os.environ['USE_PYGEOS'] = '1'\n",
    "import geopandas as gpd\n",
    "import pandas as pd\n",
    "import matplotlib.pyplot as plt\n",
    "import shapely\n",
    "import snkit\n",
    "import snkit.network\n",
    "crs_fr = 2154 #4326 ?\n",
    "plt.rcParams['figure.figsize'] = (10, 10)"
   ]
  },
  {
   "cell_type": "code",
   "execution_count": 2,
   "id": "ea30a6e3",
   "metadata": {},
   "outputs": [],
   "source": [
    "# Check function\n",
    "def check_missing_nodes(set11, set12, node_IDs):\n",
    "    set11 = set(set11)\n",
    "    set12 = set(set12)\n",
    "    node_IDs = set(node_IDs)\n",
    "    IDs_in_edges = set11.union(set12)\n",
    "    missing = list(sorted(IDs_in_edges - node_IDs))\n",
    "    added = list(sorted(node_IDs - IDs_in_edges))\n",
    "    return(missing, added)"
   ]
  },
  {
   "cell_type": "code",
   "execution_count": 3,
   "id": "a834e166-eed4-4c5c-8c0d-785a400ccf73",
   "metadata": {},
   "outputs": [],
   "source": [
    "# --- From Anastassia\n",
    "# import packages\n",
    "%run -i packages.py\n",
    "\n",
    "# CUSTOM FUNCTION\n",
    "\n",
    "# define function that creates attribute dictionary for nodes and edges\n",
    "# (for input to nx.add_edges_from/add_nodes_from)\n",
    "def make_attr_dict(*args, **kwargs): \n",
    "    \n",
    "    argCount = len(kwargs)\n",
    "    \n",
    "    if argCount > 0:\n",
    "        attributes = {}\n",
    "        for kwarg in kwargs:\n",
    "            attributes[kwarg] = kwargs.get(kwarg, None)\n",
    "        return attributes\n",
    "    else:\n",
    "        return None # (if no attributes are given)"
   ]
  },
  {
   "cell_type": "markdown",
   "id": "2d53887f",
   "metadata": {
    "tags": []
   },
   "source": [
    "## Get layers"
   ]
  },
  {
   "cell_type": "markdown",
   "id": "480ae820-a39c-40f8-a8d9-aeb8d912a0d5",
   "metadata": {
    "tags": []
   },
   "source": [
    "### grid, boundary"
   ]
  },
  {
   "cell_type": "code",
   "execution_count": 4,
   "id": "7db46715",
   "metadata": {},
   "outputs": [],
   "source": [
    "# Get boundary of GPM (for plots)\n",
    "\n",
    "GPM = gpd.read_file('data/raw/GPM_geometry/GPM.geojson').to_crs(crs_fr)"
   ]
  },
  {
   "cell_type": "code",
   "execution_count": 5,
   "id": "dbf03b27",
   "metadata": {},
   "outputs": [],
   "source": [
    "# Get grid and centroids\n",
    "grid = pd.read_csv('data/processed/IRIS_GPM.csv').rename(columns = {'geometry' : 'cells'})\n",
    "\n",
    "# turn into geodataframe and separate centroids (for plots)\n",
    "for c in ['cells', 'centroid']:\n",
    "    grid[c] = grid[c].apply(shapely.wkt.loads)\n",
    "    \n",
    "grid = gpd.GeoDataFrame(grid, crs = crs_fr, geometry= 'cells' )\n",
    "centroids = grid.set_geometry('centroid').set_crs(crs_fr)\n"
   ]
  },
  {
   "cell_type": "markdown",
   "id": "4fc46027-7895-4226-9a9d-57daa4519c10",
   "metadata": {
    "tags": []
   },
   "source": [
    "### roads "
   ]
  },
  {
   "cell_type": "code",
   "execution_count": 6,
   "id": "5a2651b6-b626-44bd-a4d5-86cd874b710f",
   "metadata": {},
   "outputs": [],
   "source": [
    "# Get roads (car/bike)\n",
    "edges_all = pd.read_csv(\"./data/processed/carbike_edges.csv\").drop(columns = 'key')\n",
    "nodes_all = pd.read_csv(\"./data/processed/carbike_nodes.csv\")\n"
   ]
  },
  {
   "cell_type": "code",
   "execution_count": 7,
   "id": "5d238d79-5c4e-471f-a2be-aa5170ba1b52",
   "metadata": {},
   "outputs": [],
   "source": [
    "# Part of Anastassia's pre-process for nodes\n",
    "# Creating the column \"nodetype\" \n",
    "bike_nodes = set(edges_all.loc[edges_all['edgetype'] == 'bike']['u'])\n",
    "nodes_all['nodetype'] = 0\n",
    "\n",
    "for index, row in nodes_all.iterrows():\n",
    "    if row[\"osmid\"] in bike_nodes:\n",
    "        nodes_all.loc[index, \"nodetype\"] = 'bike'\n",
    "    else:\n",
    "        nodes_all.loc[index, \"nodetype\"] = 'car'\n",
    "        \n",
    "# Turn into GeoDataFrame\n",
    "nodes_all[\"geometry\"] = nodes_all.apply(lambda x: shapely.wkt.loads(x.geometry), axis = 1)\n",
    "nodes_all = gpd.GeoDataFrame(nodes_all, geometry = 'geometry', crs = 4326)\n"
   ]
  },
  {
   "cell_type": "code",
   "execution_count": 8,
   "id": "014bf379",
   "metadata": {},
   "outputs": [
    {
     "data": {
      "text/plain": [
       "([], [])"
      ]
     },
     "execution_count": 8,
     "metadata": {},
     "output_type": "execute_result"
    }
   ],
   "source": [
    "check_missing_nodes(edges_all['u'], edges_all['v'], nodes_all['osmid'])"
   ]
  },
  {
   "cell_type": "code",
   "execution_count": 9,
   "id": "7a16dab1-4fde-4442-8d66-490168e7ad25",
   "metadata": {},
   "outputs": [],
   "source": [
    "# Part of Anastassia's pre-process for edges \n",
    "\n",
    "# add edge ids (strings with \"id1, id2\" sorted (id1 < id2))\n",
    "edges_all[\"edge_id\"] = edges_all.apply(lambda x: str(sorted([x[\"u\"], x[\"v\"]])), axis = 1)\n",
    "\n",
    "# MOD: removed oneway and length from the subset\n",
    "edges_all_unique = edges_all\n",
    "edges_all_unique = edges_all_unique.drop_duplicates(subset = [\"osmid\", \"edge_id\"], keep = \"first\", ignore_index = True)\n",
    "\n",
    "# remove duplicates \n",
    "edges_all_unique = edges_all_unique.drop_duplicates(subset = [\"u\", \"v\", \"osmid\", \"edge_id\", \"edgetype\"], \n",
    "                          keep = \"first\",\n",
    "                          ignore_index = True, \n",
    "                          inplace = False)\n",
    "\n",
    "edges_all_unique_tokeep = edges_all_unique[edges_all_unique.duplicated(\"edge_id\", keep = False) & (edges_all_unique[\"edgetype\"]==\"bike\")].index\n",
    "edges_all_unique_todrop = edges_all_unique[edges_all_unique.duplicated(\"edge_id\", keep = False) & (edges_all_unique[\"edgetype\"] == \"car\")].index\n",
    "\n",
    "# MOD changed \"multi\" to \"both\"\n",
    "# edges_all_unique.loc[edges_all_unique_tokeep, \"edgetype\"] = \"both\"\n",
    "# edges_all_unique = edges_all_unique.drop(edges_all_unique_todrop)\n",
    "\n",
    "# sort by \"left\" node (id1 < id2 - to control order of tuple keys in nx)\n",
    "edges_all_unique[\"order\"] = edges_all_unique.apply(lambda x: np.min([x[\"u\"], x[\"v\"]]), axis = 1)\n",
    "edges_all_unique = edges_all_unique.sort_values(by = \"order\").reset_index(drop = True)\n",
    "# MOD: used \"x\" and \"y\" insteads of \"orgig\" and \"dest\"\n",
    "edges_all_unique[\"x\"] = edges_all_unique.apply(lambda x: np.min([x[\"u\"], x[\"v\"]]), axis = 1)\n",
    "edges_all_unique[\"y\"] = edges_all_unique.apply(lambda x: np.max([x[\"u\"], x[\"v\"]]), axis = 1)\n",
    "edges_all_unique = edges_all_unique.drop(columns = [\"order\", \"u\", \"v\"]) # instead of \"u\" and \"v\",\n",
    "# we will use \"origin\" and \"destination\" where osmid(origin) < osmid (destination)!"
   ]
  },
  {
   "cell_type": "code",
   "execution_count": 10,
   "id": "1545149d",
   "metadata": {},
   "outputs": [
    {
     "data": {
      "text/plain": [
       "([], [])"
      ]
     },
     "execution_count": 10,
     "metadata": {},
     "output_type": "execute_result"
    }
   ],
   "source": [
    "check_missing_nodes(edges_all_unique['x'], edges_all_unique['y'], nodes_all['osmid'])"
   ]
  },
  {
   "cell_type": "code",
   "execution_count": 11,
   "id": "0fe64206-e7b9-4df6-aa29-96814aef494f",
   "metadata": {},
   "outputs": [],
   "source": [
    "# # Plot\n",
    "# ax = plt.axes()\n",
    "# edges_all.plot(ax=ax, linewidth = 0.3, alpha = 0.5)\n",
    "# nodes_all.plot(ax=ax, markersize = 0.05, facecolor = 'red', alpha = 1)\n",
    "# GPM.plot(ax=ax, facecolor = 'none', linewidth = 2)"
   ]
  },
  {
   "cell_type": "markdown",
   "id": "3228df2b-97c3-4741-a513-b5508e8882f9",
   "metadata": {
    "tags": []
   },
   "source": [
    "## Connect carbike edges and centroids\n",
    "A network is created with\n",
    "- nodes = centroids and road intersections\n",
    "- edges = roads\n",
    "\n",
    "These edges and nodes are connected by creating an edge between each centroid and its nearest edge."
   ]
  },
  {
   "cell_type": "code",
   "execution_count": 12,
   "id": "5d90692d-9878-422f-bddc-b7d32946c9ed",
   "metadata": {},
   "outputs": [],
   "source": [
    "#--- Create dataframe with all carbike nodes and centroids\n",
    "\n",
    "# Modify the centroids to be compatible with the carbike nodes\n",
    "centroids_network = centroids\n",
    "centroids_network = centroids_network.rename(columns = {'centroid':'geometry'}).set_geometry('geometry').to_crs(4326).drop(columns = ['NOM_COM',\n",
    "                                      'CODE_IRIS',\n",
    "                                      'NOM_IRIS',\n",
    "                                      'cells',\n",
    "                                      'osm_id'])\n",
    "centroids_network['nodetype'] = 'bike'\n",
    "\n",
    "# Create the nodes_network dataframe \n",
    "nodes_network = pd.concat([nodes_all,centroids_network])"
   ]
  },
  {
   "cell_type": "code",
   "execution_count": 13,
   "id": "17669ba5-e64e-4329-9112-c6071f73540c",
   "metadata": {},
   "outputs": [],
   "source": [
    "#--- Creating the network \n",
    "\n",
    "# Nodes \n",
    "nodes = gpd.GeoDataFrame(nodes_network, geometry = \"geometry\")\n",
    "\n",
    "# # Edges\n",
    "edges_all_unique[\"geometry\"] = edges_all_unique.apply(lambda x: shapely.wkt.loads(x.geometry), axis = 1)\n",
    "edges_all_unique = gpd.GeoDataFrame(edges_all_unique, geometry = \"geometry\") \n",
    "edges = gpd.GeoDataFrame(edges_all_unique, geometry = 'geometry', crs = 4326)\n",
    "\n",
    "base_network = snkit.Network(nodes, edges)\n",
    "\n",
    "# # plot\n",
    "# ax = plt.axes()\n",
    "# base_network.edges.plot(ax=ax, linewidth = 1, alpha = 0.6)\n",
    "# base_network.nodes.plot(ax=ax, facecolor = 'red', markersize = 3)"
   ]
  },
  {
   "cell_type": "code",
   "execution_count": 14,
   "id": "2c6091a2",
   "metadata": {},
   "outputs": [],
   "source": [
    "len(check_missing_nodes(base_network.edges['x'], base_network.edges['y'], base_network.nodes['osmid'])[1]) #2844 is good!\n",
    "base_network.edges = base_network.edges.drop(columns = ['Unnamed: 0', 'level_0', 'index']) \n",
    "base_network.nodes = base_network.nodes.drop(columns = 'Unnamed: 0') \n"
   ]
  },
  {
   "cell_type": "code",
   "execution_count": 15,
   "id": "12b5988d-785b-4334-af27-17c711436cc7",
   "metadata": {},
   "outputs": [
    {
     "name": "stderr",
     "output_type": "stream",
     "text": [
      "/Users/auriane/opt/miniconda3/envs/thesis/lib/python3.10/site-packages/geopandas/array.py:1406: UserWarning: CRS not set for some of the concatenation inputs. Setting output's CRS as WGS 84 (the single non-null crs provided).\n",
      "  warnings.warn(\n",
      "/Users/auriane/opt/miniconda3/envs/thesis/lib/python3.10/site-packages/geopandas/array.py:1406: UserWarning: CRS not set for some of the concatenation inputs. Setting output's CRS as WGS 84 (the single non-null crs provided).\n",
      "  warnings.warn(\n"
     ]
    },
    {
     "name": "stdout",
     "output_type": "stream",
     "text": [
      "CPU times: user 16min 12s, sys: 7.99 s, total: 16min 20s\n",
      "Wall time: 16min 31s\n"
     ]
    }
   ],
   "source": [
    "%%time \n",
    "#--- Link centroids to their nearest edge (takes a while)\n",
    "\n",
    "linked = snkit.network.link_nodes_to_nearest_edge(base_network) #wth is this warning?\n",
    "# # plot\n",
    "# ax = plt.axes()\n",
    "# linked.edges.plot(ax=ax, linewidth = 1, alpha = 0.5)\n",
    "# linked.nodes.plot(ax=ax, facecolor = 'red', markersize = 3, alpha = 1)"
   ]
  },
  {
   "cell_type": "code",
   "execution_count": 91,
   "id": "bc9593ff",
   "metadata": {},
   "outputs": [],
   "source": [
    "# create IDs for the new nodes and edges\n",
    "with_id = snkit.network.add_topology(snkit.network.add_ids(linked))\n"
   ]
  },
  {
   "cell_type": "code",
   "execution_count": 92,
   "id": "e66661db",
   "metadata": {},
   "outputs": [
    {
     "data": {
      "text/plain": [
       "5554"
      ]
     },
     "execution_count": 92,
     "metadata": {},
     "output_type": "execute_result"
    }
   ],
   "source": [
    "len(check_missing_nodes(with_id.edges['x'], with_id.edges['y'], with_id.nodes['osmid'])[1])\n",
    "# This should be 5554, as the centroids and new nodes (total: 5554) were not part of the original dataframe with x and y attributes "
   ]
  },
  {
   "cell_type": "code",
   "execution_count": 93,
   "id": "052170a5-4795-492b-b808-0adcf2100b26",
   "metadata": {},
   "outputs": [],
   "source": [
    "# Separate old nodes (centroids) from new ones (intersection between centroid and nearest edge)\n",
    "new_carbike_nodes = with_id.nodes[with_id.nodes['nodetype'].isnull()]\n",
    "\n",
    "# Separate centroids from the other nodes of this network\n",
    "centroids_network = with_id.nodes[(with_id.nodes['x'].isnull()) \n",
    "                                  & (with_id.nodes['nodetype'].notnull())]"
   ]
  },
  {
   "cell_type": "markdown",
   "id": "8d692ea2-f7d1-4d30-8bde-fba481bc8789",
   "metadata": {
    "tags": []
   },
   "source": [
    "## Post-linking processing"
   ]
  },
  {
   "cell_type": "markdown",
   "id": "8000dd19-02d0-41ab-8554-57bca1fb1706",
   "metadata": {
    "tags": []
   },
   "source": [
    "### Nodes\n",
    "- Make centroids compatible with carbike nodes\n",
    "- Make the new nodes compatible with the carbike nodes\n",
    "- Add the new nodes to the carbike nodes\n",
    "- Process all carbike nodes (old and new)"
   ]
  },
  {
   "cell_type": "code",
   "execution_count": 94,
   "id": "6f6a4de6-86e9-4a25-bd77-05305f7287ce",
   "metadata": {},
   "outputs": [
    {
     "data": {
      "text/html": [
       "<div>\n",
       "<style scoped>\n",
       "    .dataframe tbody tr th:only-of-type {\n",
       "        vertical-align: middle;\n",
       "    }\n",
       "\n",
       "    .dataframe tbody tr th {\n",
       "        vertical-align: top;\n",
       "    }\n",
       "\n",
       "    .dataframe thead th {\n",
       "        text-align: right;\n",
       "    }\n",
       "</style>\n",
       "<table border=\"1\" class=\"dataframe\">\n",
       "  <thead>\n",
       "    <tr style=\"text-align: right;\">\n",
       "      <th></th>\n",
       "      <th>y</th>\n",
       "      <th>x</th>\n",
       "      <th>geometry</th>\n",
       "      <th>nodetype</th>\n",
       "      <th>osmid</th>\n",
       "      <th>centroid</th>\n",
       "      <th>RER</th>\n",
       "    </tr>\n",
       "  </thead>\n",
       "  <tbody>\n",
       "    <tr>\n",
       "      <th>117990</th>\n",
       "      <td>48.767193</td>\n",
       "      <td>2.276657</td>\n",
       "      <td>POINT (2.27666 48.76719)</td>\n",
       "      <td>bike</td>\n",
       "      <td>117990</td>\n",
       "      <td>True</td>\n",
       "      <td>False</td>\n",
       "    </tr>\n",
       "  </tbody>\n",
       "</table>\n",
       "</div>"
      ],
      "text/plain": [
       "                y         x                  geometry nodetype   osmid  \\\n",
       "117990  48.767193  2.276657  POINT (2.27666 48.76719)     bike  117990   \n",
       "\n",
       "        centroid    RER  \n",
       "117990      True  False  "
      ]
     },
     "execution_count": 94,
     "metadata": {},
     "output_type": "execute_result"
    }
   ],
   "source": [
    "#--- Process centroids \n",
    "centroids_network = centroids_network.drop(columns = 'osmid')\n",
    "\n",
    "# Create the x and y columns\n",
    "centroids_network = centroids_network.rename(columns = {'id':'osmid'})\n",
    "centroids_network['x'] = centroids_network.geometry.apply(lambda p: p.x)\n",
    "centroids_network['y'] = centroids_network.geometry.apply(lambda p: p.y)\n",
    "\n",
    "# Add attributes \n",
    "centroids_network['osmid'] = centroids_network['osmid'].str[5:].astype(int)\n",
    "centroids_network['centroid'] = True\n",
    "centroids_network['RER'] = False\n",
    "\n",
    "centroids_network.tail(1)"
   ]
  },
  {
   "cell_type": "code",
   "execution_count": 95,
   "id": "2349e53d-0731-4b9e-b9bd-2b78e60caf45",
   "metadata": {},
   "outputs": [
    {
     "data": {
      "text/html": [
       "<div>\n",
       "<style scoped>\n",
       "    .dataframe tbody tr th:only-of-type {\n",
       "        vertical-align: middle;\n",
       "    }\n",
       "\n",
       "    .dataframe tbody tr th {\n",
       "        vertical-align: top;\n",
       "    }\n",
       "\n",
       "    .dataframe thead th {\n",
       "        text-align: right;\n",
       "    }\n",
       "</style>\n",
       "<table border=\"1\" class=\"dataframe\">\n",
       "  <thead>\n",
       "    <tr style=\"text-align: right;\">\n",
       "      <th></th>\n",
       "      <th>y</th>\n",
       "      <th>x</th>\n",
       "      <th>geometry</th>\n",
       "      <th>nodetype</th>\n",
       "      <th>osmid</th>\n",
       "      <th>centroid</th>\n",
       "      <th>RER</th>\n",
       "    </tr>\n",
       "  </thead>\n",
       "  <tbody>\n",
       "    <tr>\n",
       "      <th>120700</th>\n",
       "      <td>48.767032</td>\n",
       "      <td>2.27667</td>\n",
       "      <td>POINT (2.27667 48.76703)</td>\n",
       "      <td>bike</td>\n",
       "      <td>120700</td>\n",
       "      <td>False</td>\n",
       "      <td>False</td>\n",
       "    </tr>\n",
       "  </tbody>\n",
       "</table>\n",
       "</div>"
      ],
      "text/plain": [
       "                y        x                  geometry nodetype   osmid  \\\n",
       "120700  48.767032  2.27667  POINT (2.27667 48.76703)     bike  120700   \n",
       "\n",
       "        centroid    RER  \n",
       "120700     False  False  "
      ]
     },
     "execution_count": 95,
     "metadata": {},
     "output_type": "execute_result"
    }
   ],
   "source": [
    "#--- Process new carbike nodes \n",
    "new_carbike_nodes = new_carbike_nodes.drop(columns = 'osmid')\n",
    "\n",
    "# Create the x and y columns\n",
    "new_carbike_nodes['x'] = new_carbike_nodes.geometry.apply(lambda p: p.x)\n",
    "new_carbike_nodes['y'] = new_carbike_nodes.geometry.apply(lambda p: p.y)\n",
    "new_carbike_nodes = new_carbike_nodes.rename(columns = {'id':'osmid'})\n",
    "\n",
    "# Add attributes \n",
    "new_carbike_nodes['nodetype'] = 'bike'\n",
    "new_carbike_nodes['osmid'] = new_carbike_nodes['osmid'].str[5:].astype(int)\n",
    "new_carbike_nodes['centroid'] = False\n",
    "new_carbike_nodes['RER'] = False\n",
    "\n",
    "new_carbike_nodes.tail(1)"
   ]
  },
  {
   "cell_type": "code",
   "execution_count": 96,
   "id": "f6cc247c-ca04-4f24-a7cd-aa80763ad248",
   "metadata": {},
   "outputs": [
    {
     "name": "stdout",
     "output_type": "stream",
     "text": [
      "115147 117990 117991 120700 122926 10810974432\n"
     ]
    }
   ],
   "source": [
    "# QUICK CHECK: ARE ALL IDs REALLY DIFFERENT FROM THE OSMIDs? \n",
    "centroids_minID = int(centroids_network.sort_values(by = 'osmid').head(1).osmid)\n",
    "centroids_maxID = int(centroids_network.sort_values(by = 'osmid').tail(1).osmid)\n",
    "new_carbike_nodes_minID = int(new_carbike_nodes.sort_values(by = 'osmid').head(1).osmid)\n",
    "new_carbike_nodes_maxID = int(new_carbike_nodes.sort_values(by = 'osmid').tail(1).osmid)\n",
    "nodes_all_minID = int(nodes_all.sort_values(by = 'osmid').head(1).osmid)\n",
    "nodes_all_maxID = int(nodes_all.sort_values(by = 'osmid').tail(1).osmid)\n",
    "\n",
    "print(centroids_minID, \n",
    "      centroids_maxID, \n",
    "      new_carbike_nodes_minID, \n",
    "      new_carbike_nodes_maxID,\n",
    "      nodes_all_minID, \n",
    "      nodes_all_maxID) "
   ]
  },
  {
   "cell_type": "code",
   "execution_count": 98,
   "id": "9b60293f-0d4d-409b-99e6-12bbc8bf9141",
   "metadata": {},
   "outputs": [
    {
     "data": {
      "text/html": [
       "<div>\n",
       "<style scoped>\n",
       "    .dataframe tbody tr th:only-of-type {\n",
       "        vertical-align: middle;\n",
       "    }\n",
       "\n",
       "    .dataframe tbody tr th {\n",
       "        vertical-align: top;\n",
       "    }\n",
       "\n",
       "    .dataframe thead th {\n",
       "        text-align: right;\n",
       "    }\n",
       "</style>\n",
       "<table border=\"1\" class=\"dataframe\">\n",
       "  <thead>\n",
       "    <tr style=\"text-align: right;\">\n",
       "      <th></th>\n",
       "      <th>osmid</th>\n",
       "      <th>y</th>\n",
       "      <th>x</th>\n",
       "      <th>geometry</th>\n",
       "      <th>nodetype</th>\n",
       "      <th>centroid</th>\n",
       "      <th>RER</th>\n",
       "    </tr>\n",
       "  </thead>\n",
       "  <tbody>\n",
       "    <tr>\n",
       "      <th>0</th>\n",
       "      <td>122926</td>\n",
       "      <td>48.884082</td>\n",
       "      <td>2.463549</td>\n",
       "      <td>POINT (2.46355 48.88408)</td>\n",
       "      <td>car</td>\n",
       "      <td>False</td>\n",
       "      <td>False</td>\n",
       "    </tr>\n",
       "  </tbody>\n",
       "</table>\n",
       "</div>"
      ],
      "text/plain": [
       "    osmid          y         x                  geometry nodetype  centroid  \\\n",
       "0  122926  48.884082  2.463549  POINT (2.46355 48.88408)      car     False   \n",
       "\n",
       "     RER  \n",
       "0  False  "
      ]
     },
     "execution_count": 98,
     "metadata": {},
     "output_type": "execute_result"
    }
   ],
   "source": [
    "#-- Process old carbike nodes\n",
    "# Add attributes to the old carbike nodes\n",
    "nodes_all['centroid'] = False\n",
    "nodes_all['RER'] = False\n",
    "nodes_all = nodes_all.drop(columns = 'Unnamed: 0')\n",
    "nodes_all.head(1)"
   ]
  },
  {
   "cell_type": "code",
   "execution_count": 99,
   "id": "e23cd21e-5235-4c87-97aa-5150e4f142b3",
   "metadata": {},
   "outputs": [
    {
     "data": {
      "text/html": [
       "<div>\n",
       "<style scoped>\n",
       "    .dataframe tbody tr th:only-of-type {\n",
       "        vertical-align: middle;\n",
       "    }\n",
       "\n",
       "    .dataframe tbody tr th {\n",
       "        vertical-align: top;\n",
       "    }\n",
       "\n",
       "    .dataframe thead th {\n",
       "        text-align: right;\n",
       "    }\n",
       "</style>\n",
       "<table border=\"1\" class=\"dataframe\">\n",
       "  <thead>\n",
       "    <tr style=\"text-align: right;\">\n",
       "      <th></th>\n",
       "      <th>osmid</th>\n",
       "      <th>y</th>\n",
       "      <th>x</th>\n",
       "      <th>geometry</th>\n",
       "      <th>nodetype</th>\n",
       "      <th>centroid</th>\n",
       "      <th>RER</th>\n",
       "      <th>attr_dict</th>\n",
       "    </tr>\n",
       "  </thead>\n",
       "  <tbody>\n",
       "    <tr>\n",
       "      <th>0</th>\n",
       "      <td>115147</td>\n",
       "      <td>48.869834</td>\n",
       "      <td>2.37464</td>\n",
       "      <td>POINT (2.37464 48.86983)</td>\n",
       "      <td>bike</td>\n",
       "      <td>True</td>\n",
       "      <td>False</td>\n",
       "      <td>{'lat': 2.3746400096338, 'lon': 48.86983413155...</td>\n",
       "    </tr>\n",
       "  </tbody>\n",
       "</table>\n",
       "</div>"
      ],
      "text/plain": [
       "    osmid          y        x                  geometry nodetype  centroid  \\\n",
       "0  115147  48.869834  2.37464  POINT (2.37464 48.86983)     bike      True   \n",
       "\n",
       "     RER                                          attr_dict  \n",
       "0  False  {'lat': 2.3746400096338, 'lon': 48.86983413155...  "
      ]
     },
     "execution_count": 99,
     "metadata": {},
     "output_type": "execute_result"
    }
   ],
   "source": [
    "#--- Combine all nodes\n",
    "nodes_carbike_complete = pd.concat([nodes_all, new_carbike_nodes, centroids_network]) \n",
    "nodes_carbike_complete = gpd.GeoDataFrame(nodes_carbike_complete, geometry = \"geometry\")\n",
    "\n",
    "\n",
    "#--- Dealing with the nodes like we used to (Anastassia) \n",
    "# Sort values and drop duplicates \n",
    "nodes_carbike_complete = nodes_carbike_complete.sort_values(by = \"osmid\").reset_index(drop = True) # sort by osmid\n",
    "# make attribute dictionary with type and geocoordinates for each node\n",
    "# MOD: removed category_node = x.type \n",
    "# MOD: changed coord to geometry\n",
    "# MOD-Stpehan : split geometry into lat and lon\n",
    "# MOD: added centroid and RER as attributes \n",
    "nodes_carbike_complete[\"attr_dict\"] = nodes_carbike_complete.apply(lambda x: make_attr_dict(lat = x.x,\n",
    "                                                                  lon = x.y,\n",
    "                                                                  nodetype = x.nodetype,\n",
    "                                                                  centroid = x.centroid,\n",
    "                                                                  RER = x.RER),\n",
    "                                                                  axis = 1) \n",
    "\n",
    "nodes_carbike_complete[\"osmid\"] = nodes_carbike_complete[\"osmid\"].astype(int)\n",
    "nodes_carbike_complete.head(1)\n"
   ]
  },
  {
   "cell_type": "code",
   "execution_count": 100,
   "id": "d479e97c",
   "metadata": {},
   "outputs": [
    {
     "name": "stdout",
     "output_type": "stream",
     "text": [
      "120700\n",
      "nan\n",
      "5554\n"
     ]
    }
   ],
   "source": [
    "# This should be 120700, or the max id of the centroids and new nodes together since they were never given x and y attributes \n",
    "print(max(check_missing_nodes(linked.edges['x'], linked.edges['y'], nodes_carbike_complete['osmid'])[1])) \n",
    "\n",
    "# This should be nan\n",
    "print(min(check_missing_nodes(linked.edges['x'], linked.edges['y'], nodes_carbike_complete['osmid'])[0])) \n",
    "\n",
    "# This should be 5554, same reasoning as above\n",
    "print(len(check_missing_nodes(linked.edges['x'], linked.edges['y'], nodes_carbike_complete['osmid'])[1])) \n"
   ]
  },
  {
   "cell_type": "markdown",
   "id": "8cab3cc6-fcd1-4586-8ae1-31718f4b6260",
   "metadata": {
    "tags": []
   },
   "source": [
    "### Edges\n",
    "- Make new edges compatible with the old ones\n",
    "    - some new edges connect with a node from the carbike network using the ID given by linked_network instead of the original osmID -> change these IDs into their osmIDs AND update this info in the edges df\n",
    "    - These IDs are already absent from the nodes_carbike_complete df since it is based on the old nodes_all df and the new_nodes and centroids dfs"
   ]
  },
  {
   "cell_type": "code",
   "execution_count": 101,
   "id": "b0ec53f7",
   "metadata": {},
   "outputs": [
    {
     "name": "stdout",
     "output_type": "stream",
     "text": [
      "115146\n",
      "122926\n"
     ]
    }
   ],
   "source": [
    "#--- Make with_id.nodes and edges workable\n",
    "n = 5\n",
    "edges_with_id = with_id.edges\n",
    "edges_with_id['from_id'] = edges_with_id['from_id'].str[5:].astype(int)\n",
    "edges_with_id['to_id'] = edges_with_id['to_id'].str[5:].astype(int)\n",
    "edges_with_id['id'] = edges_with_id['id'].str[5:].astype(int)\n",
    "\n",
    "print(max(check_missing_nodes(edges_with_id['from_id'], edges_with_id['to_id'], nodes_carbike_complete['osmid'])[0]) )\n",
    "# highest missing id in edges should be BELOW all of those in the nodes dataframe (i.e 115147)\n",
    "\n",
    "print(min(check_missing_nodes(edges_with_id['from_id'], edges_with_id['to_id'], nodes_carbike_complete['osmid'])[1]) )\n",
    "# lowest missing ID in nodes should be the lowest original osmid (i.e 122926), need to overwrite the nodes id in edges with their new value"
   ]
  },
  {
   "cell_type": "code",
   "execution_count": 90,
   "id": "c7786133",
   "metadata": {},
   "outputs": [
    {
     "data": {
      "text/plain": [
       "list"
      ]
     },
     "execution_count": 90,
     "metadata": {},
     "output_type": "execute_result"
    }
   ],
   "source": [
    "\n",
    "\n",
    "\n",
    "\n",
    "\n",
    "\n"
   ]
  },
  {
   "cell_type": "code",
   "execution_count": 102,
   "id": "5b8d71f8-12ba-4c0f-9bf2-62419a58fd29",
   "metadata": {},
   "outputs": [
    {
     "name": "stderr",
     "output_type": "stream",
     "text": [
      "/Users/auriane/opt/miniconda3/envs/thesis/lib/python3.10/site-packages/geopandas/geodataframe.py:1443: SettingWithCopyWarning: \n",
      "A value is trying to be set on a copy of a slice from a DataFrame.\n",
      "Try using .loc[row_indexer,col_indexer] = value instead\n",
      "\n",
      "See the caveats in the documentation: https://pandas.pydata.org/pandas-docs/stable/user_guide/indexing.html#returning-a-view-versus-a-copy\n",
      "  super().__setitem__(key, value)\n"
     ]
    },
    {
     "data": {
      "text/plain": [
       "osmid        2844\n",
       "edgetype        0\n",
       "length       2844\n",
       "geometry        0\n",
       "edge_id         0\n",
       "x               0\n",
       "y               0\n",
       "attr_dict       0\n",
       "dtype: int64"
      ]
     },
     "execution_count": 102,
     "metadata": {},
     "output_type": "execute_result"
    }
   ],
   "source": [
    "#--- Replacing new IDs with osmIDs where necessary\n",
    "\n",
    "# Create a dictionary of ID to osmID\n",
    "oldnodes_in_newedges = with_id.nodes.loc[(with_id.nodes['osmid'].notnull())] # They have an non-null osmID (the new nodes don't have one)\n",
    "oldnodes_in_newedges['osmid'] = oldnodes_in_newedges['osmid'].astype(int)\n",
    "oldnodes_in_newedges['id'] = oldnodes_in_newedges['id'].str[5:].astype(int)\n",
    "oldnodes_in_newedges.set_index('id',inplace=True)\n",
    "id_osmid_dict = oldnodes_in_newedges.to_dict()['osmid']\n",
    "\n",
    "# Replace IDs with osmIDs in the edges dataframe\n",
    "edges_with_id['from_id'] = edges_with_id['from_id'].apply(lambda row: id_osmid_dict[row] if row in (id_osmid_dict.keys()) else row)\n",
    "edges_with_id['to_id'] = edges_with_id['to_id'].apply(lambda row: id_osmid_dict[row] if row in (id_osmid_dict.keys()) else row)\n",
    "\n",
    "\n",
    "#--- Fill in the edgetype for the new edges \n",
    "# Create a dictionary of nodeID to nodetype\n",
    "nodes_type_df = nodes_carbike_complete\n",
    "nodes_type_dict = nodes_type_df.reset_index()\n",
    "nodes_type_dict = nodes_type_dict.set_index('osmid').to_dict()['nodetype']\n",
    "\n",
    "\n",
    "#--- Find the correct column indexes to work with\n",
    "index_edgetype = edges_with_id.columns.get_loc(\"edgetype\")\n",
    "index_fromID = edges_with_id.columns.get_loc(\"from_id\")\n",
    "index_toID = edges_with_id.columns.get_loc(\"to_id\")\n",
    "index_x = edges_with_id.columns.get_loc(\"x\")\n",
    "index_y = edges_with_id.columns.get_loc(\"y\")\n",
    "index_edge_id = edges_with_id.columns.get_loc(\"edge_id\")\n",
    "\n",
    "\n",
    "#--- Fill in the edgetype of edges_with_id where it is NaN\n",
    "# With the nodetype of the from_id and to_id if it is the same\n",
    "# With 'car' if it is different\n",
    "for i in range(len(edges_with_id)):\n",
    "    if pd.isnull(edges_with_id.iloc[i,index_edgetype]):\n",
    "        if nodes_type_dict[edges_with_id.iloc[i,index_fromID]] == nodes_type_dict[edges_with_id.iloc[i,index_toID]]:\n",
    "            edges_with_id.iloc[i,index_edgetype] = nodes_type_dict[edges_with_id.iloc[i,index_toID]]\n",
    "        else:\n",
    "            edges_with_id.iloc[i,index_edgetype] = 'car'\n",
    "\n",
    "\n",
    "#--- Fill in the x and y columns where they are NaN\n",
    "# With x = from_id and y = to_id\n",
    "for i in range(len(edges_with_id)):\n",
    "      if pd.isnull(edges_with_id.iloc[i,index_x]):\n",
    "         edges_with_id.iloc[i,index_x] = edges_with_id.iloc[i,index_fromID]\n",
    "         edges_with_id.iloc[i,index_y] = edges_with_id.iloc[i,index_toID]\n",
    "edges_with_id['x'] = edges_with_id['x'].astype(int)\n",
    "edges_with_id['y'] = edges_with_id['y'].astype(int)\n",
    "\n",
    "\n",
    "# #--- Fill in the edge_id column where it is NaN with [from_id, to_id]\n",
    "edges_with_id['edge_id'] = edges_with_id.apply(lambda row: str([row[\"x\"], row[\"y\"]]), axis = 1)\n",
    "# Convert edges_with_id.edge_id from string to list of int\n",
    "edges_with_id['edge_id'] = edges_with_id['edge_id'].apply(lambda cell:\n",
    "                                      ''.join(c for c in cell if c not in \"'[]\").split(', '))\n",
    "# TODO THIS IS STILL A LIST OF STRINGS, NOT A LIST OF INTS!!!\n",
    "\n",
    "\n",
    "#--- Drop unnecessary columns\n",
    "edges_with_id = edges_with_id.drop(['from_id','to_id', 'id'], axis = 1)\n",
    "\n",
    "\n",
    "\n",
    "#--- Create an attr_dict for the edges \n",
    "edges_with_id[\"attr_dict\"] = edges_with_id.apply(lambda x: make_attr_dict(edgetype = x.edgetype,\n",
    "                                                    edge_id = x.edge_id,\n",
    "                                                    coord = x.geometry,\n",
    "                                                    intnodes = []), # intnodes attribute: for storing simplification info on interstitial nodes \n",
    "                             axis = 1)\n",
    "\n",
    "# There shouldn't be any NaNs outside of osmid and length anymore\n",
    "edges_with_id.isnull().sum()\n"
   ]
  },
  {
   "cell_type": "code",
   "execution_count": 104,
   "id": "b071c255",
   "metadata": {},
   "outputs": [
    {
     "name": "stdout",
     "output_type": "stream",
     "text": [
      "([], [])\n"
     ]
    }
   ],
   "source": [
    "print(check_missing_nodes(edges_with_id['x'], edges_with_id['y'], nodes_carbike_complete['osmid'])) # should be nothing! \n",
    "# First list empty:all nodes in nodes_carbike_complete are present in some edge of edges_with_id\n",
    "# Second list empty:  all nodes in edges_with_id exist in nodes_carbike_complete"
   ]
  },
  {
   "cell_type": "markdown",
   "id": "7e353833-64f6-4c40-8b82-3fc01c1fcd1f",
   "metadata": {
    "tags": []
   },
   "source": [
    "## Creating the NetworkX Graph"
   ]
  },
  {
   "cell_type": "code",
   "execution_count": 105,
   "id": "2bb5c839",
   "metadata": {},
   "outputs": [
    {
     "data": {
      "text/html": [
       "<div>\n",
       "<style scoped>\n",
       "    .dataframe tbody tr th:only-of-type {\n",
       "        vertical-align: middle;\n",
       "    }\n",
       "\n",
       "    .dataframe tbody tr th {\n",
       "        vertical-align: top;\n",
       "    }\n",
       "\n",
       "    .dataframe thead th {\n",
       "        text-align: right;\n",
       "    }\n",
       "</style>\n",
       "<table border=\"1\" class=\"dataframe\">\n",
       "  <thead>\n",
       "    <tr style=\"text-align: right;\">\n",
       "      <th></th>\n",
       "      <th>osmid</th>\n",
       "      <th>y</th>\n",
       "      <th>x</th>\n",
       "      <th>geometry</th>\n",
       "      <th>nodetype</th>\n",
       "      <th>centroid</th>\n",
       "      <th>RER</th>\n",
       "      <th>attr_dict</th>\n",
       "    </tr>\n",
       "  </thead>\n",
       "  <tbody>\n",
       "    <tr>\n",
       "      <th>0</th>\n",
       "      <td>115147</td>\n",
       "      <td>48.869834</td>\n",
       "      <td>2.37464</td>\n",
       "      <td>POINT (2.37464 48.86983)</td>\n",
       "      <td>bike</td>\n",
       "      <td>True</td>\n",
       "      <td>False</td>\n",
       "      <td>{'lat': 2.3746400096338, 'lon': 48.86983413155...</td>\n",
       "    </tr>\n",
       "  </tbody>\n",
       "</table>\n",
       "</div>"
      ],
      "text/plain": [
       "    osmid          y        x                  geometry nodetype  centroid  \\\n",
       "0  115147  48.869834  2.37464  POINT (2.37464 48.86983)     bike      True   \n",
       "\n",
       "     RER                                          attr_dict  \n",
       "0  False  {'lat': 2.3746400096338, 'lon': 48.86983413155...  "
      ]
     },
     "execution_count": 105,
     "metadata": {},
     "output_type": "execute_result"
    }
   ],
   "source": [
    "nodes_carbike_complete.head(1)"
   ]
  },
  {
   "cell_type": "code",
   "execution_count": 106,
   "id": "c3bfc005",
   "metadata": {},
   "outputs": [
    {
     "data": {
      "text/html": [
       "<div>\n",
       "<style scoped>\n",
       "    .dataframe tbody tr th:only-of-type {\n",
       "        vertical-align: middle;\n",
       "    }\n",
       "\n",
       "    .dataframe tbody tr th {\n",
       "        vertical-align: top;\n",
       "    }\n",
       "\n",
       "    .dataframe thead th {\n",
       "        text-align: right;\n",
       "    }\n",
       "</style>\n",
       "<table border=\"1\" class=\"dataframe\">\n",
       "  <thead>\n",
       "    <tr style=\"text-align: right;\">\n",
       "      <th></th>\n",
       "      <th>osmid</th>\n",
       "      <th>edgetype</th>\n",
       "      <th>length</th>\n",
       "      <th>geometry</th>\n",
       "      <th>edge_id</th>\n",
       "      <th>x</th>\n",
       "      <th>y</th>\n",
       "      <th>attr_dict</th>\n",
       "    </tr>\n",
       "  </thead>\n",
       "  <tbody>\n",
       "    <tr>\n",
       "      <th>0</th>\n",
       "      <td>[332409156, 39750470, 39750471, 1105411815, 42...</td>\n",
       "      <td>car</td>\n",
       "      <td>1618.6</td>\n",
       "      <td>LINESTRING (2.46355 48.88408, 2.46236 48.88415...</td>\n",
       "      <td>[122926, 318399738]</td>\n",
       "      <td>122926</td>\n",
       "      <td>318399738</td>\n",
       "      <td>{'edgetype': 'car', 'edge_id': ['122926', '318...</td>\n",
       "    </tr>\n",
       "  </tbody>\n",
       "</table>\n",
       "</div>"
      ],
      "text/plain": [
       "                                               osmid edgetype  length  \\\n",
       "0  [332409156, 39750470, 39750471, 1105411815, 42...      car  1618.6   \n",
       "\n",
       "                                            geometry              edge_id  \\\n",
       "0  LINESTRING (2.46355 48.88408, 2.46236 48.88415...  [122926, 318399738]   \n",
       "\n",
       "        x          y                                          attr_dict  \n",
       "0  122926  318399738  {'edgetype': 'car', 'edge_id': ['122926', '318...  "
      ]
     },
     "execution_count": 106,
     "metadata": {},
     "output_type": "execute_result"
    }
   ],
   "source": [
    "edges_with_id.head(1)"
   ]
  },
  {
   "attachments": {},
   "cell_type": "markdown",
   "id": "c1a082f1-c540-4b94-9d32-a5a6d484374c",
   "metadata": {
    "tags": []
   },
   "source": [
    "## What's next?\n",
    "\n",
    "BUILDING THE SKELETAL NETWORK --April--\n",
    "- finish cleaning up edges/nodes for carbike after linking them with the centroids\n",
    "    - edges need\n",
    "        - ~~to have info on the travel mode (car/bike/public transport)~~\n",
    "        - weight = travel time for the relevant transport mode\n",
    "        - ~~origin and destination node IDs~~\n",
    "- Figure out how to export the whole thing to NetworkX\n",
    "- create separate subnetworks for car and bike travel\n",
    "- add restriction on how to travel (either only bike or only car, not both)\n",
    "- add RER\n",
    "- send visuals and stuff to Anastassia and Trivik\n",
    "GOAL: I can pick two centroids and find the shortest path, which is all walk, all bike, or walk/bike to station then walk \n",
    "\n",
    "\n",
    "SOCIAL STUFF -- second midterm (May 22nd)--\n",
    "- define needed data for POIs and people \n",
    "- find data for POIs and people\n",
    "- add all of it to centroids\n",
    "- find/define OD matrix\n",
    "GOAL: I can pick one pop and one POI and find the shortest path\n",
    "\n",
    "OPTIMISATION STUFF (June)\n",
    "- find algorithm\n",
    "- modify network to allow for optimisation\n",
    "- do whatever it takes to get stuff to run\n",
    "- first results!! \n"
   ]
  },
  {
   "cell_type": "code",
   "execution_count": null,
   "id": "37c84f6a-9109-4421-99e7-f291eb7cceaf",
   "metadata": {},
   "outputs": [],
   "source": []
  }
 ],
 "metadata": {
  "kernelspec": {
   "display_name": "thesis",
   "language": "python",
   "name": "python3"
  },
  "language_info": {
   "codemirror_mode": {
    "name": "ipython",
    "version": 3
   },
   "file_extension": ".py",
   "mimetype": "text/x-python",
   "name": "python",
   "nbconvert_exporter": "python",
   "pygments_lexer": "ipython3",
   "version": "3.10.9"
  },
  "vscode": {
   "interpreter": {
    "hash": "7de29617dd1965d342a82e394a9e83291f588e76da49db2a4d1d4af10faa311c"
   }
  }
 },
 "nbformat": 4,
 "nbformat_minor": 5
}

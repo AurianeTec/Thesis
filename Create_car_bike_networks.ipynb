{
 "cells": [
  {
   "cell_type": "markdown",
   "id": "d399c0f8",
   "metadata": {},
   "source": [
    "# TODO here\n",
    "- clean up import list\n",
    "\n",
    "- are the last cells really needed?"
   ]
  },
  {
   "cell_type": "markdown",
   "id": "52f14b70",
   "metadata": {
    "tags": []
   },
   "source": [
    "# Creating the car and bike networks\n",
    "- Get all OSM paths according to a list of tags within the boundary + user-defined buffer\n",
    "- drop edges that aren't clearly for bikes or cars\n",
    "- create conditions to classify edges as part of the bike or car network\n",
    "- classify the edges according to those conditions\n",
    "- simplify the graph (remove interstitial nodes, keep accurate edge geometries)\n",
    "- create dictionary of node/edge attributes\n",
    "- turn list of nodes/edges into 2 separate NetworkX networks (one for bike one for car) \n",
    "- TODO: anyhting else here?"
   ]
  },
  {
   "cell_type": "code",
   "execution_count": 3,
   "id": "e34e834a",
   "metadata": {},
   "outputs": [],
   "source": [
    "import osmnx as ox\n",
    "import geopandas as gpd\n",
    "import pandas as pd\n",
    "import matplotlib.pyplot as plt\n",
    "import networkx as nx\n",
    "import os\n",
    "from shapely.geometry import Polygon\n",
    "import shapely\n",
    "os.environ['USE_PYGEOS'] = '0' \n",
    "\n",
    "# helper functions for street network \n",
    "from bikefun import *\n",
    "import simplification as custom_simplification\n",
    "\n",
    "\n",
    "# User settings\n",
    "place_name = \"Grand Paris Metropolis\"\n",
    "crs_fr = 2154 \n",
    "plt.rcParams['figure.figsize'] = (8, 8)\n",
    "\n",
    "GPM = ox.geocode_to_gdf(place_name)\n",
    "GPM = GPM.to_crs(crs_fr)"
   ]
  },
  {
   "cell_type": "markdown",
   "id": "339d45a8",
   "metadata": {
    "jp-MarkdownHeadingCollapsed": true,
    "tags": []
   },
   "source": [
    "## Get the car and bike network (Anastassia way)"
   ]
  },
  {
   "cell_type": "code",
   "execution_count": 2,
   "id": "66c1316a",
   "metadata": {},
   "outputs": [],
   "source": [
    "# tags to import:\n",
    "osm_way_tags = [\n",
    "  # \"access\", \n",
    "  \"barrier\", \n",
    "  # \"bridge\", \n",
    "  \"bicycle\", \n",
    "  \"bicycle_road\",\n",
    "  \"crossing\",\n",
    "  \"cycleway\", \"cycleway:left\", \"cycleway:right\", \"cycleway:both\", \"cycleway:buffer\", \"cycleway:left:buffer\", \"cycleway:right:buffer\", \"cycleway:both:buffer\",\n",
    "  # \"cycleway:width\", \"cycleway:left:width\", \"cycleway:right:width\", \"cycleway:both:width\",\n",
    "  # \"cycleway:surface\",\n",
    "  \"foot\", \"footway\",\n",
    "  \"highway\", \n",
    "  # \"incline\", \"junction\", \"layer\", \"lit\", \n",
    "  # \"maxspeed\", \n",
    "  # \"maxspeed:advisory\",\n",
    "  # \"moped\", \n",
    "  # \"motor_vehicle\", \n",
    "  # \"motorcar\",\n",
    "  \"name\",\n",
    "  # \"oneway\", \"oneway:bicycle\",\n",
    "  \"osm_id\",\n",
    "  \"segregated\",\n",
    "  # \"surface\",\n",
    "  \"tracktype\",\n",
    "  # \"tunnel\",\n",
    "  # \"width\"\n",
    "]\n",
    "\n",
    "ox.settings.useful_tags_way = osm_way_tags\n",
    "\n",
    "# don't use cache\n",
    "ox.settings.use_cache = False\n",
    "buffer_dist = 2000"
   ]
  },
  {
   "cell_type": "markdown",
   "id": "ff320453",
   "metadata": {},
   "source": [
    "**Download data for GPM plus a user-defined (above) buffer** "
   ]
  },
  {
   "cell_type": "code",
   "execution_count": 3,
   "id": "896603e0",
   "metadata": {},
   "outputs": [],
   "source": [
    "# Get convex hull of the area\n",
    "GPM_hull = gpd.GeoDataFrame({\"geometry\": GPM.convex_hull})\n",
    "GPM_hull = GPM_hull.to_crs(crs_fr)\n",
    "\n",
    "# Buffer the convex hull\n",
    "GPM_hull_buff = gpd.GeoDataFrame({\"geometry\": GPM_hull.buffer(buffer_dist)})\n",
    "GPM_hull_buff = GPM_hull_buff.to_crs(crs_fr)"
   ]
  },
  {
   "cell_type": "code",
   "execution_count": 4,
   "id": "587376a4",
   "metadata": {},
   "outputs": [
    {
     "data": {
      "image/png": "[encoded data removed]",
      "text/plain": [
       "<Figure size 500x500 with 1 Axes>"
      ]
     },
     "metadata": {},
     "output_type": "display_data"
    }
   ],
   "source": [
    "# Visualize results - orange area will be used for data query from OSM\n",
    "fig, ax = plt.subplots(1, 1, figsize = (5,5))\n",
    "GPM_hull_buff.plot(ax = ax, color = \"orange\", alpha=0.2)\n",
    "GPM_hull.plot(ax = ax, color = \"blue\", alpha = 0.2)\n",
    "GPM.plot(ax = ax, color = \"black\", alpha = 0.2)\n",
    "plt.title(\"Polygon for OSM query (orange)\")\n",
    "plt.axis(\"off\");"
   ]
  },
  {
   "cell_type": "code",
   "execution_count": 5,
   "id": "acc09bf9",
   "metadata": {},
   "outputs": [
    {
     "name": "stderr",
     "output_type": "stream",
     "text": [
      "/Users/auriane/opt/miniconda3/envs/gds/lib/python3.8/site-packages/osmnx/graph.py:488: UserWarning: the graph-level street_count attribute will likely be inaccurate when you set clean_periphery=False\n",
      "  warnings.warn(msg)\n"
     ]
    }
   ],
   "source": [
    "mygraph = ox.graph_from_polygon(\n",
    "    polygon = GPM_hull_buff.to_crs(\"epsg:4326\")[\"geometry\"][0],\n",
    "    network_type = \"all_private\",\n",
    "    simplify = False,\n",
    "    retain_all = False,\n",
    "    truncate_by_edge = True,\n",
    "    clean_periphery = False \n",
    ")"
   ]
  },
  {
   "cell_type": "code",
   "execution_count": 6,
   "id": "aaac79cf",
   "metadata": {},
   "outputs": [
    {
     "name": "stdout",
     "output_type": "stream",
     "text": [
      "2891808 edges\n"
     ]
    }
   ],
   "source": [
    "# convert to gdf of edges\n",
    "\n",
    "nodes, edges = ox.graph_to_gdfs(\n",
    "    mygraph, \n",
    "    nodes = True,\n",
    "    edges = True,\n",
    "    fill_edge_geometry = True)\n",
    "print(len(edges), \"edges\") # should be 2952228 for GPM + buffer"
   ]
  },
  {
   "cell_type": "markdown",
   "id": "c4f476eb",
   "metadata": {},
   "source": [
    "**Exclude edges tagged as highway=service/pedestrian/path/elevator/steps**"
   ]
  },
  {
   "cell_type": "code",
   "execution_count": 7,
   "id": "a2d93a35",
   "metadata": {},
   "outputs": [
    {
     "name": "stdout",
     "output_type": "stream",
     "text": [
      "1323580 edges\n"
     ]
    }
   ],
   "source": [
    "edges = edges.drop(edges[edges[\"highway\"]==\"service\"].index)\n",
    "edges = edges.drop(edges[edges[\"highway\"]==\"path\"].index)\n",
    "edges = edges.drop(edges[edges[\"highway\"]==\"pedestrian\"].index)\n",
    "edges = edges.drop(edges[edges[\"highway\"]==\"footway\"].index)\n",
    "edges = edges.drop(edges[edges[\"highway\"]==\"elevator\"].index)\n",
    "edges = edges.drop(edges[edges[\"highway\"]==\"steps\"].index)\n",
    "print(len(edges), \"edges\")"
   ]
  },
  {
   "cell_type": "markdown",
   "id": "bc04c51d",
   "metadata": {},
   "source": [
    "**Clean column names (so that we can use .query)**"
   ]
  },
  {
   "cell_type": "code",
   "execution_count": 8,
   "id": "06d085a2",
   "metadata": {},
   "outputs": [],
   "source": [
    "edges = clean_col_names(edges)"
   ]
  },
  {
   "cell_type": "markdown",
   "id": "47f1f990",
   "metadata": {},
   "source": [
    "**Summarize tags into bnw (bike network) and cnw (car network) classifications**"
   ]
  },
  {
   "cell_type": "code",
   "execution_count": 9,
   "id": "a61cf346",
   "metadata": {},
   "outputs": [],
   "source": [
    "# add bnw and cnw columns (filled with empty lists, where we will add reasons why these edges should be part of the cnw or bnw network)\n",
    "edges[\"bnw_reasons\"] = edges.apply(lambda x: [], axis = 1)\n",
    "edges[\"cnw_reasons\"] = edges.apply(lambda x: [], axis = 1)"
   ]
  },
  {
   "cell_type": "code",
   "execution_count": 10,
   "id": "9d23c984",
   "metadata": {},
   "outputs": [],
   "source": [
    "### REASONS FOR EDGES TO BE INCLUDED IN BNW\n",
    "\n",
    "# If the highway tag is \"cycleway\", edge is part of bnw\n",
    "edges.query(\n",
    "    \"highway=='cycleway'\").loc[:,\"bnw_reasons\"].apply(\n",
    "        lambda x: x.append(\"highway is cycleway\"));\n",
    "\n",
    "# if there is a segregation tag, edge is part of bnw:\n",
    "edges.query(\n",
    "    \"segregated.notna()\").loc[:,\"bnw_reasons\"].apply(\n",
    "        lambda x: x.append(\"segregation tag exists\"));\n",
    "\n",
    "# If cycleway (_, left, right, both) tag exists and has value \"track\" or \"separated\", edge is part of bnw\n",
    "edges.query(\n",
    "    \"cycleway in ['track', 'separated', 'segregated', 'designated', 'opposite_track']\").loc[:,\"bnw_reasons\"].apply(\n",
    "        lambda x: x.append(\"cycleway is in track or separated\"));\n",
    "edges.query(\n",
    "    \"cycleway_left in ['track', 'separated', 'segregated', 'designated', 'opposite_track']\").loc[:,\"bnw_reasons\"].apply(\n",
    "        lambda x: x.append(\"cycleway_left is in track or separated\"));\n",
    "edges.query(\n",
    "    \"cycleway_right in ['track', 'separated', 'segregated', 'designated', 'opposite_track']\").loc[:,\"bnw_reasons\"].apply(\n",
    "        lambda x: x.append(\"cycleway_right is in track or separated\"));\n",
    "edges.query(\n",
    "    \"cycleway_both in ['track', 'separated', 'segregated', 'designated', 'opposite_track']\").loc[:,\"bnw_reasons\"].apply(\n",
    "        lambda x: x.append(\"cycleway_both is in track or separated\"));"
   ]
  },
  {
   "cell_type": "code",
   "execution_count": 11,
   "id": "9e067983",
   "metadata": {},
   "outputs": [
    {
     "data": {
      "text/plain": [
       "u            v            key\n",
       "122642       4323059590   0      None\n",
       "             1892391802   0      None\n",
       "122922       2841312675   0      None\n",
       "             2841312678   0      None\n",
       "122923       515623637    0      None\n",
       "                                 ... \n",
       "10758516278  550121181    0      None\n",
       "10758516279  1516967443   0      None\n",
       "             10758516280  0      None\n",
       "10758516280  10758516279  0      None\n",
       "             1516967439   0      None\n",
       "Name: cnw_reasons, Length: 1221730, dtype: object"
      ]
     },
     "execution_count": 11,
     "metadata": {},
     "output_type": "execute_result"
    }
   ],
   "source": [
    "### REASONS FOR EDGES TO BE INCLUDED IN CNW\n",
    "\n",
    "# if cyclists need to dismount: (after we have excluded pedestrian/path):\n",
    "edges.query(\n",
    "    \"bicycle=='dismount'\").loc[:,\"cnw_reasons\"].apply(\n",
    "        lambda x: x.append(\"dismount\"));\n",
    "\n",
    "# OR, last argument: if no \"bnw\" arguments have been found\n",
    "# edges[\"cnw_reasons\"] = edges.apply(lambda x: len(x.bnw_reasons)==0, axis = 1)\n",
    "edges[edges.apply(lambda x: len(x.bnw_reasons), axis = 1) == 0].loc[:,\"cnw_reasons\"].apply(lambda x: x.append(\"no bnw reasons\"))"
   ]
  },
  {
   "cell_type": "code",
   "execution_count": 12,
   "id": "43c68487",
   "metadata": {},
   "outputs": [
    {
     "name": "stdout",
     "output_type": "stream",
     "text": [
      "both bnw and cnw:  4 edges\n",
      "not classified:  0 edges\n"
     ]
    }
   ],
   "source": [
    "### Classify edges based on reasons for classification into either bnw or cnw\n",
    "\n",
    "edges[\"bnw\"] = edges.apply(lambda x: len(x.bnw_reasons)>0, axis = 1)\n",
    "edges[\"cnw\"] = edges.apply(lambda x: len(x.cnw_reasons)>0, axis = 1)\n",
    "\n",
    "### Check for consistency\n",
    "# MOD: added some text to the print\n",
    "# any edges classified as both bnw and cnw?\n",
    "print(\"both bnw and cnw: \", len(edges[(edges[\"cnw\"]==True)&(edges[\"bnw\"]==True)]), \"edges\")\n",
    "# any edges not classified at all?\n",
    "print(\"not classified: \", len(edges[(edges[\"cnw\"]==False)&(edges[\"bnw\"]==False)]), \"edges\")\n",
    "\n"
   ]
  },
  {
   "cell_type": "code",
   "execution_count": 13,
   "id": "cc73dd63",
   "metadata": {},
   "outputs": [],
   "source": [
    "### add 1 column which only contains attribute\n",
    "edges[\"edgetype\"] = None\n",
    "\n",
    "# MOD: \"car\" became \"bike\", added case where both conditions == True \n",
    "def get_edgetype(bnw, cnw):\n",
    "    if bnw==False and cnw==True:\n",
    "        return \"car\"\n",
    "    elif bnw==True and cnw==False:\n",
    "        return \"bike\"\n",
    "    elif bnw==True and cnw==True:\n",
    "        return \"both\"\n",
    "    else:\n",
    "        return None\n",
    "    \n",
    "edges[\"edgetype\"] = edges.apply(lambda x: get_edgetype(bnw=x.bnw, cnw=x.cnw), axis = 1)"
   ]
  },
  {
   "cell_type": "code",
   "execution_count": 14,
   "id": "d63729de",
   "metadata": {},
   "outputs": [],
   "source": [
    "# MOD not keeping the geometry column\n",
    "edges_nogeom = edges[[\"osmid\", \"edgetype\", 'length', 'oneway']]\n",
    "\n",
    "edges_nogeom = edges_nogeom.reset_index()\n",
    "edges_nogeom['osmid'] = edges_nogeom['osmid'].astype(str)\n",
    "edges_nogeom.set_index(['u', 'v','key'], inplace=True)\n",
    "edges_nogeom.head()\n",
    "\n",
    "# RUN THIS IF NOT RUNNING FOR THE QGIS CHECK\n",
    "edges_nogeom = edges[[\"osmid\", \"edgetype\"]]\n",
    "\n",
    "# MOD dropping edges with key =/= 0\n",
    "edges_nogeom = edges_nogeom.query('key == 0')"
   ]
  },
  {
   "cell_type": "code",
   "execution_count": 15,
   "id": "dfc24000",
   "metadata": {},
   "outputs": [],
   "source": [
    "# create graph \n",
    "G_nogeom = ox.graph_from_gdfs(gdf_nodes = nodes, gdf_edges = edges_nogeom, graph_attrs=edges)\n",
    "G_nogeom.graph[\"crs\"] = edges.crs\n",
    "\n",
    "# drop nodes with degree 0\n",
    "nodes_to_remove = []\n",
    "for node in G_nogeom.nodes:\n",
    "    if nx.degree(G_nogeom, node) == 0:\n",
    "        nodes_to_remove.append(node)\n",
    "for node in nodes_to_remove:\n",
    "    G_nogeom.remove_node(node)"
   ]
  },
  {
   "cell_type": "code",
   "execution_count": 16,
   "id": "840e4297",
   "metadata": {},
   "outputs": [],
   "source": [
    "# simplify\n",
    "G_nogeom_simp = custom_simplification.simplify_graph(G = G_nogeom, attributes = \"edgetype\")\n",
    "G_nogeom_simp.graph[\"crs\"] = edges.crs"
   ]
  },
  {
   "cell_type": "code",
   "execution_count": 17,
   "id": "6905f439",
   "metadata": {},
   "outputs": [],
   "source": [
    "# Save into gdfs\n",
    "nodes_simp_nogeom, edges_simp_nogeom = ox.graph_to_gdfs(\n",
    "    G_nogeom_simp, \n",
    "    nodes = True,\n",
    "    edges = True,\n",
    "    fill_edge_geometry = True)"
   ]
  },
  {
   "cell_type": "code",
   "execution_count": 18,
   "id": "97bb6c29",
   "metadata": {},
   "outputs": [],
   "source": [
    "# # Check in QGIS\n",
    "# # To run this, you need to uncomment some stuff above and re-run the code!\n",
    "# nodes_simp_nogeom.to_file(\"./data/processed/bike_car_nodes_simp.gpkg\", index = False)\n",
    "# edges_simp_nogeom['osmid'] = edges_simp_nogeom['osmid'].apply(lambda x: ' '.join(x)) #Join the list into a string\n",
    "# edges_simp_nogeom.to_file(\"./data/processed/bike_car_edges_simp.gpkg\", index = False)"
   ]
  },
  {
   "cell_type": "code",
   "execution_count": null,
   "id": "b780a150",
   "metadata": {},
   "outputs": [],
   "source": [
    "# Save nodes and edges as csv for future use\n",
    "nodes_final = pd.DataFrame(nodes_simp_nogeom.drop(columns=['street_count', 'ref', 'highway']))\n",
    "nodes_final.to_csv(\"./data/processed/carbike_nodes.csv\")\n",
    "\n",
    "edges_final = pd.DataFrame(edges_simp_nogeom)\n",
    "edges_final.to_csv(\"./data/processed/carbike_edges.csv\")"
   ]
  },
  {
   "cell_type": "markdown",
   "id": "997f1f46",
   "metadata": {},
   "source": [
    "## Create the travel-able network\n",
    "Based on Anastassia's work (again)\n",
    "TODO: \n",
    "- I need to know how long the edges are!\n",
    "- I need to make this network travel-able, with switches at the correct nodes\n",
    "- I need to add so many layers and connect the grid..."
   ]
  },
  {
   "cell_type": "code",
   "execution_count": 4,
   "id": "fbe234fd",
   "metadata": {},
   "outputs": [],
   "source": [
    "nodes_all = pd.read_csv(\"./data/processed/carbike_nodes.csv\")\n",
    "edges_all = pd.read_csv(\"./data/processed/carbike_edges.csv\").drop(columns = 'key')"
   ]
  },
  {
   "cell_type": "code",
   "execution_count": 5,
   "id": "158f59de",
   "metadata": {},
   "outputs": [],
   "source": [
    "# Creating the column \"nodetype\" \n",
    "bike_nodes = set(edges_all.loc[edges_all['edgetype'] == 'bike']['u'])\n",
    "\n",
    "nodes_all['nodetype'] = 0\n",
    "\n",
    "for index, row in nodes_all.iterrows():\n",
    "    if row[\"osmid\"] in bike_nodes:\n",
    "        nodes_all.loc[index, \"nodetype\"] = 'bike'\n",
    "    else:\n",
    "        nodes_all.loc[index, \"nodetype\"] = 'car'"
   ]
  },
  {
   "cell_type": "code",
   "execution_count": 6,
   "id": "79d26b21",
   "metadata": {},
   "outputs": [],
   "source": [
    "# import packages\n",
    "%run -i packages.py\n",
    "\n",
    "# CUSTOM FUNCTION\n",
    "\n",
    "# define function that creates attribute dictionary for nodes and edges\n",
    "# (for input to nx.add_edges_from/add_nodes_from)\n",
    "def make_attr_dict(*args, **kwargs): \n",
    "    \n",
    "    argCount = len(kwargs)\n",
    "    \n",
    "    if argCount > 0:\n",
    "        attributes = {}\n",
    "        for kwarg in kwargs:\n",
    "            attributes[kwarg] = kwargs.get(kwarg, None)\n",
    "        return attributes\n",
    "    else:\n",
    "        return None # (if no attributes are given)"
   ]
  },
  {
   "cell_type": "markdown",
   "id": "2afa0c43",
   "metadata": {
    "tags": []
   },
   "source": [
    "## Data import and pre-processing"
   ]
  },
  {
   "cell_type": "code",
   "execution_count": 7,
   "id": "f9fdf22e",
   "metadata": {},
   "outputs": [],
   "source": [
    "## Step 1: turn dataframes into geodataframes\n",
    "# Edges \n",
    "edges_all[\"geometry\"] = edges_all.apply(lambda x: shapely.wkt.loads(x.geometry), axis = 1)\n",
    "edges_all = gpd.GeoDataFrame(edges_all, geometry = \"geometry\") \n",
    "\n",
    "# Nodes\n",
    "nodes_all[\"geometry\"] = nodes_all.apply(lambda x: shapely.wkt.loads(x.geometry), axis = 1)\n",
    "nodes_all = gpd.GeoDataFrame(nodes_all, geometry = \"geometry\")\n",
    "\n",
    "## Step 2: Sort values and drop duplicates \n",
    "nodes_all = nodes_all.sort_values(by = \"osmid\").reset_index(drop = True) # sort by osmid\n",
    "# make attribute dictionary with type and geocoordinates for each node\n",
    "# MOD: removed category_node = x.type \n",
    "# MOD: changed coord to geometry\n",
    "nodes_all[\"attr_dict\"] = nodes_all.apply(lambda x: make_attr_dict(geometry = x.geometry, nodetype = x.nodetype), axis = 1) # add attr_dict\n",
    "\n",
    "# add edge ids (strings with \"id1, id2\" sorted (id1 < id2))\n",
    "edges_all[\"edge_id\"] = edges_all.apply(lambda x: str(sorted([x[\"u\"], x[\"v\"]])), axis = 1)\n",
    "# (edge ids are set as strings; converting back: with \"from ast import literal_eval\" fct)\n",
    "# finding duplicates by [\"osmid\", \"oneway\", \"edge_id\", \"length\"]\n",
    "# simplifying network into undirected - beu and ceu contain the \"undirected\" edges\n",
    "# (removing all parallel edges)\n",
    "\n",
    "# MOD: removed oneway and length from the subset\n",
    "edges_all_unique = edges_all.drop_duplicates(subset = [\"osmid\", \"edge_id\"],\n",
    "                  keep = \"first\",\n",
    "                  inplace = False,\n",
    "                  ignore_index = True).copy()\n",
    "\n",
    "# remove duplicates\n",
    "edges_all_unique = edges_all_unique.drop_duplicates(subset = [\"u\", \"v\", \"osmid\", \"edge_id\", \"edgetype\"], \n",
    "                          keep = \"first\",\n",
    "                          ignore_index = True, \n",
    "                          inplace = False)\n",
    "\n",
    "edges_all_unique_tokeep = edges_all_unique[edges_all_unique.duplicated(\"edge_id\", keep = False) & (edges_all_unique[\"edgetype\"]==\"bike\")].index\n",
    "edges_all_unique_todrop = edges_all_unique[edges_all_unique.duplicated(\"edge_id\", keep = False) & (edges_all_unique[\"edgetype\"] == \"car\")].index\n",
    "\n",
    "# MOD changed \"multi\" to \"both\"\n",
    "edges_all_unique.loc[edges_all_unique_tokeep, \"edgetype\"] = \"both\"\n",
    "edges_all_unique = edges_all_unique.drop(edges_all_unique_todrop)\n",
    "\n",
    "# add attribute dictionary (for nx)\n",
    "edges_all_unique[\"attr_dict\"] = edges_all_unique.apply(lambda x: make_attr_dict(edgetype = x.edgetype,\n",
    "                                                    edge_id = x.edge_id,\n",
    "                                                    coord = x.geometry,\n",
    "                                                    intnodes = []), # intnodes attribute: for storing simplification info on interstitial nodes \n",
    "                             axis = 1)\n",
    "\n",
    "# sort by \"left\" node (id1 < id2 - to control order of tuple keys in nx)\n",
    "edges_all_unique[\"order\"] = edges_all_unique.apply(lambda x: np.min([x[\"u\"], x[\"v\"]]), axis = 1)\n",
    "edges_all_unique = edges_all_unique.sort_values(by = \"order\").reset_index(drop = True)\n",
    "# MOD: used \"x\" and \"y\" insteads of \"orgig\" and \"dest\"\n",
    "edges_all_unique[\"x\"] = edges_all_unique.apply(lambda x: np.min([x[\"u\"], x[\"v\"]]), axis = 1)\n",
    "edges_all_unique[\"y\"] = edges_all_unique.apply(lambda x: np.max([x[\"u\"], x[\"v\"]]), axis = 1)\n",
    "edges_all_unique = edges_all_unique.drop(columns = [\"order\", \"u\", \"v\"]) # instead of \"u\" and \"v\",\n",
    "# we will use \"origin\" and \"destination\" where osmid(origin) < osmid (destination)!\n",
    "\n",
    "del(edges_all_unique_todrop, edges_all_unique_tokeep)"
   ]
  },
  {
   "cell_type": "markdown",
   "id": "4ea34af8",
   "metadata": {},
   "source": [
    "# MAKE NETWORK IN NETWORKX"
   ]
  },
  {
   "cell_type": "code",
   "execution_count": 8,
   "id": "0a422b3e",
   "metadata": {},
   "outputs": [],
   "source": [
    "# CREATE NX OBJECTS\n",
    "\n",
    "# make multinetwork containing ALL edges\n",
    "mnw = nx.Graph()\n",
    "mnw.add_nodes_from(nodes_all.loc[:,[\"osmid\", \"attr_dict\"]].itertuples(index = False))\n",
    "# MOD: x and y instead of orig and dest\n",
    "mnw.add_edges_from(edges_all_unique.loc[:,[\"x\", \"y\", \"attr_dict\"]].itertuples(index = False))\n",
    "\n",
    "# MOD: removed the LCC part"
   ]
  },
  {
   "cell_type": "markdown",
   "id": "60862703",
   "metadata": {},
   "source": [
    "# MAKE \"BIKEABLE\" NETWORK, IGRAPH OBJECTS AND NX/IG CONVERSION TABLES"
   ]
  },
  {
   "cell_type": "code",
   "execution_count": null,
   "id": "a5641f04",
   "metadata": {},
   "outputs": [],
   "source": [
    "# make \"bikeable\" network from H (excluding car edges)\n",
    "H = mnw.copy()\n",
    "bikeable_nodes = [node for node in H.nodes if H.nodes[node][\"nodetype\"]!=\"car\"]\n",
    "H_noncar_induced = H.subgraph(bikeable_nodes).copy() \n",
    "# induced subgraph - still contains the car edges that lie between multi nodes; - exclude them:\n",
    "banw = H_noncar_induced.copy()\n",
    "banw.remove_edges_from([edge for edge in banw.edges if banw.edges[edge][\"edgetype\"]==\"car\"])\n",
    "# nx.write_gpickle(banw, \"./data/pickle/B.gpickle\") \n",
    "\n",
    "# conversion to igraph\n",
    "h = ig.Graph.from_networkx(H) #all edges\n",
    "b = ig.Graph.from_networkx(banw) #only bikeable edges\n",
    "\n",
    "# to read in again: Graph.Read_Pickle()\n",
    "\n",
    "# eids: \"conversion table\" for edge ids from igraph to nx \n",
    "eids_nx = [tuple(sorted(literal_eval(h.es(i)[\"edge_id\"][0]))) for i in range(len(h.es))]\n",
    "eids_ig = [i for i in range(len(h.es))]\n",
    "eids_conv = pd.DataFrame({\"nx\": eids_nx, \"ig\": eids_ig})\n",
    "\n",
    "# nids: \"conversion table\" for node ids from igraph to nx\n",
    "nids_nx = [h.vs(i)[\"_nx_name\"][0] for i in range(len(h.vs))]\n",
    "nids_ig = [i for i in range(len(h.vs))]\n",
    "nids_conv = pd.DataFrame({\"nx\": nids_nx, \"ig\": nids_ig})"
   ]
  }
 ],
 "metadata": {
  "kernelspec": {
   "display_name": "Python 3 (ipykernel)",
   "language": "python",
   "name": "python3"
  },
  "language_info": {
   "codemirror_mode": {
    "name": "ipython",
    "version": 3
   },
   "file_extension": ".py",
   "mimetype": "text/x-python",
   "name": "python",
   "nbconvert_exporter": "python",
   "pygments_lexer": "ipython3",
   "version": "3.10.9"
  }
 },
 "nbformat": 4,
 "nbformat_minor": 5
}

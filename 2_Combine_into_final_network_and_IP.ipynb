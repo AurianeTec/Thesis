{
 "cells": [
  {
   "cell_type": "code",
   "execution_count": 2,
   "id": "f4daab84",
   "metadata": {},
   "outputs": [],
   "source": [
    "import networkx as nx\n",
    "import os\n",
    "os.environ['USE_PYGEOS'] = '0'\n",
    "import geopandas as gpd\n",
    "import pandas as pd\n",
    "import matplotlib.pyplot as plt\n",
    "import shapely\n",
    "import snkit\n",
    "import snkit.network\n",
    "import igraph as ig\n",
    "import ast\n",
    "from ast import literal_eval\n",
    "import math \n",
    "import numpy as np\n",
    "import multiprocessing as mp\n",
    "import os\n",
    "import pickle\n",
    "\n",
    "crs_fr = 4326\n",
    "plt.rcParams['figure.figsize'] = (10, 10)"
   ]
  },
  {
   "cell_type": "code",
   "execution_count": 10,
   "id": "a834e166-eed4-4c5c-8c0d-785a400ccf73",
   "metadata": {},
   "outputs": [],
   "source": [
    "# import packages\n",
    "%run -i packages.py\n",
    "\n",
    "# CUSTOM FUNCTIONS\n",
    "\n",
    "# define function that creates attribute dictionary for nodes and edges\n",
    "# (for input to nx.add_edges_from/add_nodes_from)\n",
    "def make_attr_dict(*args, **kwargs): \n",
    "    \n",
    "    argCount = len(kwargs)\n",
    "    \n",
    "    if argCount > 0:\n",
    "        attributes = {}\n",
    "        for kwarg in kwargs:\n",
    "            attributes[kwarg] = kwargs.get(kwarg, None)\n",
    "        return attributes\n",
    "    else:\n",
    "        return None # (if no attributes are given)\n",
    "    \n",
    "# computes pathlength by nx - handling error message if nodes are not connected/not part of the network\n",
    "def pathlength_if_connected(my_nw, my_o, my_d):\n",
    "    try:\n",
    "        return(nx.dijkstra_path_length(my_nw, my_o, my_d, weight = \"length\"))\n",
    "    except:\n",
    "        return(math.inf)\n",
    "    \n",
    "# get list of edge coordinates for plotting from list of nx edge ids:\n",
    "def get_path_coords(my_path, my_coorddict):\n",
    "    pathcoords = []\n",
    "    for edge_id in my_path:\n",
    "        edge_coords = [(c[0], c[1]) for c in my_coorddict[tuple(edge_id)].coords]\n",
    "        pathcoords.append(edge_coords)\n",
    "    return(pathcoords) \n",
    "\n",
    "# Check function\n",
    "def check_missing_nodes(set11, set12, node_IDs):\n",
    "    set11 = set(set11)\n",
    "    set12 = set(set12)\n",
    "    node_IDs = set(node_IDs)\n",
    "    IDs_in_edges = set11.union(set12)\n",
    "    missing = list(sorted(IDs_in_edges - node_IDs))\n",
    "    added = list(sorted(node_IDs - IDs_in_edges))\n",
    "    return(missing, added)\n",
    "\n",
    "# change edge id to list of int\n",
    "def convert_path_to_list(path_string):\n",
    "    path_list = ast.literal_eval(path_string)\n",
    "    return path_list"
   ]
  },
  {
   "cell_type": "code",
   "execution_count": 11,
   "id": "7db46715",
   "metadata": {},
   "outputs": [],
   "source": [
    "# Get boundary of GPM (for plots)\n",
    "GPM = gpd.read_file('data/raw/GPM_geometry/GPM.geojson').to_crs(crs_fr)"
   ]
  },
  {
   "attachments": {},
   "cell_type": "markdown",
   "id": "5b9c27de",
   "metadata": {
    "tags": []
   },
   "source": [
    "# Create complete network\n",
    "- get all layers created so far (IRIS, centroids, roads for cars and bikes, public transport layer(s))\n",
    "\n",
    "- connect centroids to the carbike network: \n",
    "    - combine centroids and carbike nodes into one nodes_network dataframe\n",
    "    - put the combined nodes and the carbike edges into snkit\n",
    "    - create a base_network with them, create a linked network\n",
    "    - go back to separate carbike and centroid dataframes as needed\n",
    "\n"
   ]
  },
  {
   "attachments": {},
   "cell_type": "markdown",
   "id": "2d53887f",
   "metadata": {
    "tags": []
   },
   "source": [
    "## Get layers"
   ]
  },
  {
   "attachments": {},
   "cell_type": "markdown",
   "id": "480ae820-a39c-40f8-a8d9-aeb8d912a0d5",
   "metadata": {
    "tags": []
   },
   "source": [
    "### Centroids"
   ]
  },
  {
   "cell_type": "code",
   "execution_count": 54,
   "id": "dbf03b27",
   "metadata": {},
   "outputs": [
    {
     "data": {
      "text/html": [
       "<div>\n",
       "<style scoped>\n",
       "    .dataframe tbody tr th:only-of-type {\n",
       "        vertical-align: middle;\n",
       "    }\n",
       "\n",
       "    .dataframe tbody tr th {\n",
       "        vertical-align: top;\n",
       "    }\n",
       "\n",
       "    .dataframe thead th {\n",
       "        text-align: right;\n",
       "    }\n",
       "</style>\n",
       "<table border=\"1\" class=\"dataframe\">\n",
       "  <thead>\n",
       "    <tr style=\"text-align: right;\">\n",
       "      <th></th>\n",
       "      <th>CODE_IRIS</th>\n",
       "      <th>geometry</th>\n",
       "      <th>nodetype</th>\n",
       "      <th>centroid</th>\n",
       "      <th>RER</th>\n",
       "      <th>x</th>\n",
       "      <th>y</th>\n",
       "    </tr>\n",
       "  </thead>\n",
       "  <tbody>\n",
       "    <tr>\n",
       "      <th>0</th>\n",
       "      <td>920440109</td>\n",
       "      <td>POINT (2.28928 48.89521)</td>\n",
       "      <td>both</td>\n",
       "      <td>True</td>\n",
       "      <td>False</td>\n",
       "      <td>2.289280</td>\n",
       "      <td>48.895206</td>\n",
       "    </tr>\n",
       "    <tr>\n",
       "      <th>1</th>\n",
       "      <td>930270105</td>\n",
       "      <td>POINT (2.40273 48.92223)</td>\n",
       "      <td>both</td>\n",
       "      <td>True</td>\n",
       "      <td>False</td>\n",
       "      <td>2.402726</td>\n",
       "      <td>48.922227</td>\n",
       "    </tr>\n",
       "    <tr>\n",
       "      <th>2</th>\n",
       "      <td>751197316</td>\n",
       "      <td>POINT (2.37442 48.89225)</td>\n",
       "      <td>both</td>\n",
       "      <td>True</td>\n",
       "      <td>False</td>\n",
       "      <td>2.374425</td>\n",
       "      <td>48.892245</td>\n",
       "    </tr>\n",
       "    <tr>\n",
       "      <th>3</th>\n",
       "      <td>751176716</td>\n",
       "      <td>POINT (2.30742 48.88866)</td>\n",
       "      <td>both</td>\n",
       "      <td>True</td>\n",
       "      <td>False</td>\n",
       "      <td>2.307418</td>\n",
       "      <td>48.888659</td>\n",
       "    </tr>\n",
       "    <tr>\n",
       "      <th>4</th>\n",
       "      <td>920020104</td>\n",
       "      <td>POINT (2.31126 48.76564)</td>\n",
       "      <td>both</td>\n",
       "      <td>True</td>\n",
       "      <td>False</td>\n",
       "      <td>2.311259</td>\n",
       "      <td>48.765645</td>\n",
       "    </tr>\n",
       "    <tr>\n",
       "      <th>...</th>\n",
       "      <td>...</td>\n",
       "      <td>...</td>\n",
       "      <td>...</td>\n",
       "      <td>...</td>\n",
       "      <td>...</td>\n",
       "      <td>...</td>\n",
       "      <td>...</td>\n",
       "    </tr>\n",
       "    <tr>\n",
       "      <th>2661</th>\n",
       "      <td>930290203</td>\n",
       "      <td>POINT (2.45812 48.92539)</td>\n",
       "      <td>both</td>\n",
       "      <td>True</td>\n",
       "      <td>False</td>\n",
       "      <td>2.458119</td>\n",
       "      <td>48.925392</td>\n",
       "    </tr>\n",
       "    <tr>\n",
       "      <th>2662</th>\n",
       "      <td>920070111</td>\n",
       "      <td>POINT (2.31503 48.79468)</td>\n",
       "      <td>both</td>\n",
       "      <td>True</td>\n",
       "      <td>False</td>\n",
       "      <td>2.315035</td>\n",
       "      <td>48.794683</td>\n",
       "    </tr>\n",
       "    <tr>\n",
       "      <th>2663</th>\n",
       "      <td>930050101</td>\n",
       "      <td>POINT (2.48084 48.94737)</td>\n",
       "      <td>both</td>\n",
       "      <td>True</td>\n",
       "      <td>False</td>\n",
       "      <td>2.480841</td>\n",
       "      <td>48.947369</td>\n",
       "    </tr>\n",
       "    <tr>\n",
       "      <th>2664</th>\n",
       "      <td>920190113</td>\n",
       "      <td>POINT (2.27666 48.76719)</td>\n",
       "      <td>both</td>\n",
       "      <td>True</td>\n",
       "      <td>False</td>\n",
       "      <td>2.276657</td>\n",
       "      <td>48.767193</td>\n",
       "    </tr>\n",
       "    <tr>\n",
       "      <th>2665</th>\n",
       "      <td>930010501</td>\n",
       "      <td>POINT (2.39441 48.91240)</td>\n",
       "      <td>both</td>\n",
       "      <td>True</td>\n",
       "      <td>False</td>\n",
       "      <td>2.394411</td>\n",
       "      <td>48.912402</td>\n",
       "    </tr>\n",
       "  </tbody>\n",
       "</table>\n",
       "<p>2666 rows × 7 columns</p>\n",
       "</div>"
      ],
      "text/plain": [
       "      CODE_IRIS                  geometry nodetype  centroid    RER         x  \\\n",
       "0     920440109  POINT (2.28928 48.89521)     both      True  False  2.289280   \n",
       "1     930270105  POINT (2.40273 48.92223)     both      True  False  2.402726   \n",
       "2     751197316  POINT (2.37442 48.89225)     both      True  False  2.374425   \n",
       "3     751176716  POINT (2.30742 48.88866)     both      True  False  2.307418   \n",
       "4     920020104  POINT (2.31126 48.76564)     both      True  False  2.311259   \n",
       "...         ...                       ...      ...       ...    ...       ...   \n",
       "2661  930290203  POINT (2.45812 48.92539)     both      True  False  2.458119   \n",
       "2662  920070111  POINT (2.31503 48.79468)     both      True  False  2.315035   \n",
       "2663  930050101  POINT (2.48084 48.94737)     both      True  False  2.480841   \n",
       "2664  920190113  POINT (2.27666 48.76719)     both      True  False  2.276657   \n",
       "2665  930010501  POINT (2.39441 48.91240)     both      True  False  2.394411   \n",
       "\n",
       "              y  \n",
       "0     48.895206  \n",
       "1     48.922227  \n",
       "2     48.892245  \n",
       "3     48.888659  \n",
       "4     48.765645  \n",
       "...         ...  \n",
       "2661  48.925392  \n",
       "2662  48.794683  \n",
       "2663  48.947369  \n",
       "2664  48.767193  \n",
       "2665  48.912402  \n",
       "\n",
       "[2666 rows x 7 columns]"
      ]
     },
     "execution_count": 54,
     "metadata": {},
     "output_type": "execute_result"
    }
   ],
   "source": [
    "# Get grid and centroids\n",
    "grid = gpd.read_file('data/raw/IRIS_GPM.geojson')\n",
    "\n",
    "# turn into geodataframe and separate centroids \n",
    "grid['centroid'] = grid.centroid\n",
    "centroids = grid.drop(columns = 'geometry').rename(columns = {'centroid':'geometry'}).set_geometry('geometry').to_crs(2154)\n",
    "\n",
    "\n",
    "# Adding necessary attributes for the network\n",
    "centroids['nodetype'] = 'both'\n",
    "centroids['centroid'] = True\n",
    "centroids['RER'] = False\n",
    "\n",
    "# Make a new dataframe for the network just in case TODO move to the nextwork building cell \n",
    "centroids_network = centroids.to_crs(crs_fr)\n",
    "centroids_network['x'] = centroids_network['geometry'].x\n",
    "centroids_network['y'] = centroids_network['geometry'].y\n",
    "\n",
    "centroids_network\n"
   ]
  },
  {
   "attachments": {},
   "cell_type": "markdown",
   "id": "4fc46027-7895-4226-9a9d-57daa4519c10",
   "metadata": {
    "tags": []
   },
   "source": [
    "### roads "
   ]
  },
  {
   "cell_type": "code",
   "execution_count": 55,
   "id": "ac9d6db7",
   "metadata": {},
   "outputs": [],
   "source": [
    "# Get roads (car/bike, nodes/edges)\n",
    "edges_carbike = pd.read_csv(\"./data/processed/carbike_edges_bothtype.csv\")\n",
    "nodes_carbike = pd.read_csv(\"./data/processed/carbike_nodes_bothtype.csv\")"
   ]
  },
  {
   "cell_type": "code",
   "execution_count": 56,
   "id": "5d238d79-5c4e-471f-a2be-aa5170ba1b52",
   "metadata": {},
   "outputs": [],
   "source": [
    "#--- Getting the nodes ready for the network\n",
    "\n",
    "# Add attributes\n",
    "nodes_carbike['centroid'] = False\n",
    "nodes_carbike['RER'] = False    \n",
    "\n",
    "# Turn into GeoDataFrame\n",
    "nodes_carbike[\"geometry\"] = nodes_carbike.apply(lambda x: shapely.wkt.loads(x.geometry), axis = 1)\n",
    "nodes_carbike = gpd.GeoDataFrame(nodes_carbike, geometry = 'geometry', crs = crs_fr)\n",
    "\n",
    "# Re-create x and y columns\n",
    "nodes_carbike['x'] = nodes_carbike['geometry'].x\n",
    "nodes_carbike['y'] = nodes_carbike['geometry'].y\n"
   ]
  },
  {
   "cell_type": "code",
   "execution_count": 57,
   "id": "014bf379",
   "metadata": {},
   "outputs": [
    {
     "data": {
      "text/plain": [
       "([], [])"
      ]
     },
     "execution_count": 57,
     "metadata": {},
     "output_type": "execute_result"
    }
   ],
   "source": [
    "check_missing_nodes(edges_carbike['x'], edges_carbike['y'], nodes_carbike['osmid'])"
   ]
  },
  {
   "cell_type": "code",
   "execution_count": 58,
   "id": "7a16dab1-4fde-4442-8d66-490168e7ad25",
   "metadata": {},
   "outputs": [],
   "source": [
    "# Turn to GeoDataFrame\n",
    "edges_carbike[\"geometry\"] = edges_carbike.apply(lambda x: shapely.wkt.loads(x.geometry), axis = 1)\n",
    "edges_carbike = gpd.GeoDataFrame(edges_carbike, geometry = \"geometry\", crs = crs_fr) "
   ]
  },
  {
   "cell_type": "code",
   "execution_count": 59,
   "id": "1545149d",
   "metadata": {},
   "outputs": [
    {
     "data": {
      "text/plain": [
       "([], [])"
      ]
     },
     "execution_count": 59,
     "metadata": {},
     "output_type": "execute_result"
    }
   ],
   "source": [
    "check_missing_nodes(edges_carbike['x'], edges_carbike['y'], nodes_carbike['osmid'])"
   ]
  },
  {
   "attachments": {},
   "cell_type": "markdown",
   "id": "feb4c2ae",
   "metadata": {},
   "source": [
    "#### Find biggest connected component and only work with that"
   ]
  },
  {
   "cell_type": "code",
   "execution_count": 60,
   "id": "8548ed4e",
   "metadata": {},
   "outputs": [
    {
     "name": "stdout",
     "output_type": "stream",
     "text": [
      "disconnected components with 2 nodes or less  592\n",
      "disconnected components with 3 or more nodes, less than 100 140\n",
      "disconnected components with 100 or more nodes 1\n",
      "total number of disconnected components 733\n",
      "Percentage of edges in the largest component 55.75114243133075\n",
      "Percentage of km of edges in the largest component 72.00105177294279\n"
     ]
    }
   ],
   "source": [
    "#--- Checking for connectedness \n",
    "\n",
    "# Create Networkx Graph\n",
    "G1 = nx.from_pandas_edgelist(edges_carbike, source='x', target='y', edge_attr=True, create_using=nx.DiGraph)\n",
    "# G1.add_nodes_from(nodes.loc[:,[\"osmid\", \"attr_dict\"]].itertuples(index = False))\n",
    "G1.add_nodes_from(nodes_carbike.loc[:,\"osmid\"])\n",
    "\n",
    "# Find disconnected components\n",
    "S1 = [G1.subgraph(c).copy() for c in nx.weakly_connected_components(G1)] \n",
    "\n",
    "#--- Compute some statistics\n",
    "graph_below_2_nodes = 0\n",
    "graph_above_2_nodes = 0\n",
    "big_graph = 0\n",
    "\n",
    "lengthlist = []\n",
    "for index in range(len(S1)):\n",
    "    lengthlist.append(len(S1[index]))\n",
    "    if len(S1[index]) < 3 :\n",
    "        graph_below_2_nodes+=1\n",
    "    elif len(S1[index]) > 100 :\n",
    "        big_graph +=1\n",
    "    else:\n",
    "        graph_above_2_nodes+=1\n",
    "\n",
    "lengthS1 = 0\n",
    "for edge in S1[0].edges:\n",
    "    lengthS1 += edges_carbike.loc[(edges_carbike['x'] == edge[0]) & (edges_carbike['y'] == edge[1]), 'length'].values[0]\n",
    "\n",
    "# Print the statistics\n",
    "print(\"disconnected components with 2 nodes or less \", graph_below_2_nodes)\n",
    "print(\"disconnected components with 3 or more nodes, less than 100\", graph_above_2_nodes)\n",
    "print(\"disconnected components with 100 or more nodes\", big_graph)\n",
    "print(\"total number of disconnected components\", len(S1))\n",
    "print(\"Percentage of edges in the largest component\", len(S1[0]) / len(edges_carbike) * 100) \n",
    "print(\"Percentage of km of edges in the largest component\", lengthS1 / edges_carbike['length'].sum() * 100)"
   ]
  },
  {
   "cell_type": "code",
   "execution_count": 61,
   "id": "db2dbee8",
   "metadata": {},
   "outputs": [],
   "source": [
    "#--- Only work with the largest connected component\n",
    "\n",
    "# Make the largest connected component undirected\n",
    "H = S1[0].to_undirected()\n",
    "\n",
    "# Export the edges of the graph to a pandas dataframe\n",
    "edges_carbike_connected = nx.to_pandas_edgelist(H, source='x', target='y')\n",
    "# edges_carbike_connected[\"geometry\"] = edges_carbike_connected.apply(lambda x: shapely.wkt.loads(x.geometry), axis = 1)\n",
    "edges_carbike_connected = gpd.GeoDataFrame(edges_carbike_connected, geometry = 'geometry', crs = crs_fr)\n",
    "\n",
    "# Filter the nodes dataframe to only include the nodes that are in the largest connected component\n",
    "nodes_carbike_connected = nodes_carbike.loc[nodes_carbike['osmid'].isin(edges_carbike_connected['x']) | nodes_carbike['osmid'].isin(edges_carbike_connected['y'])]"
   ]
  },
  {
   "cell_type": "code",
   "execution_count": 62,
   "id": "d41b6603",
   "metadata": {},
   "outputs": [
    {
     "name": "stdout",
     "output_type": "stream",
     "text": [
      "1\n",
      "True\n"
     ]
    }
   ],
   "source": [
    "# Check if the resulting network is connected \n",
    "G2 = nx.from_pandas_edgelist(edges_carbike_connected, source='x', target='y', edge_attr=True, create_using=nx.DiGraph)\n",
    "# G1.add_nodes_from(nodes.loc[:,[\"osmid\", \"attr_dict\"]].itertuples(index = False))\n",
    "G2.add_nodes_from(nodes_carbike_connected.loc[:,\"osmid\"])\n",
    "\n",
    "# Find disconnected components\n",
    "S2 = [G2.subgraph(c).copy() for c in nx.weakly_connected_components(G2)] \n",
    "print(len(S2))\n",
    "H = S2[0].to_undirected()\n",
    "print(nx.is_connected(H))\n"
   ]
  },
  {
   "cell_type": "code",
   "execution_count": 63,
   "id": "0fe64206-e7b9-4df6-aa29-96814aef494f",
   "metadata": {},
   "outputs": [],
   "source": [
    "# # Plot\n",
    "\n",
    "# ax = plt.axes()\n",
    "# edges_carbike_connected.plot(ax=ax, linewidth = 0.3, alpha = 0.5)\n",
    "# nodes_carbike_connected.plot(ax=ax, markersize = 0.05, facecolor = 'red', alpha = 1)\n",
    "# GPM.plot(ax=ax, facecolor = 'none', linewidth = 2)"
   ]
  },
  {
   "attachments": {},
   "cell_type": "markdown",
   "id": "7248fdc0",
   "metadata": {},
   "source": [
    "### RER and Metro (not relevant anymore)"
   ]
  },
  {
   "cell_type": "code",
   "execution_count": 64,
   "id": "60dab9f9",
   "metadata": {},
   "outputs": [],
   "source": [
    "# #--- Get data\n",
    "# RER_stations = pd.read_csv(\"./data/processed/RER_stations.csv\")\n",
    "# RER_lines = pd.read_csv(\"./data/processed/RER_lines.csv\")"
   ]
  },
  {
   "cell_type": "code",
   "execution_count": 65,
   "id": "6ca9925e",
   "metadata": {},
   "outputs": [],
   "source": [
    "# check_missing_nodes(RER_lines.x, RER_lines.y, RER_stations.id) "
   ]
  },
  {
   "cell_type": "code",
   "execution_count": 66,
   "id": "f05a4b36",
   "metadata": {},
   "outputs": [],
   "source": [
    "# #--- Add necessary attributes\n",
    "\n",
    "# # For lines\n",
    "# RER_lines['edgetype'] = 'RER'\n",
    "\n",
    "# # For stations\n",
    "# RER_stations['nodetype'] = 'bike'\n",
    "# RER_stations['centroid'] = False\n",
    "# RER_stations['RER'] = True\n",
    "# RER_stations = RER_stations.rename(columns = {'id': 'osmid'})"
   ]
  },
  {
   "cell_type": "code",
   "execution_count": 67,
   "id": "a0f0c416",
   "metadata": {},
   "outputs": [],
   "source": [
    "# #--- turn to GeoDataFrame\n",
    "# RER_stations[\"geometry\"] = RER_stations.apply(lambda x: shapely.wkt.loads(x.geometry), axis = 1)\n",
    "# RER_stations = gpd.GeoDataFrame(RER_stations, geometry = 'geometry', crs = 2154).to_crs(crs_fr)\n",
    "# RER_lines[\"geometry\"] = RER_lines.apply(lambda x: shapely.wkt.loads(x.geometry), axis = 1)\n",
    "# RER_lines = gpd.GeoDataFrame(RER_lines, geometry = 'geometry', crs = 2154).to_crs(crs_fr)\n"
   ]
  },
  {
   "attachments": {},
   "cell_type": "markdown",
   "id": "3228df2b-97c3-4741-a513-b5508e8882f9",
   "metadata": {
    "tags": []
   },
   "source": [
    "## Connect carbike edges, centroids and RER stations\n",
    "A network is created with\n",
    "- nodes = centroids, RER stops and road intersections\n",
    "- edges = roads\n",
    "\n",
    "These edges and nodes will be connected by creating an edge between each centroid/RER station and its nearest carbike edge. The intersection between the new edge and the old edge will become a new node, and the old edge will be split into two new edges. "
   ]
  },
  {
   "cell_type": "code",
   "execution_count": 68,
   "id": "5d90692d-9878-422f-bddc-b7d32946c9ed",
   "metadata": {},
   "outputs": [],
   "source": [
    "#--- Create dataframe with all carbike nodes and centroids \n",
    "\n",
    "# with\n",
    "nodes_network = pd.concat([centroids_network, nodes_carbike_connected])#RER_stations (put first if using the RER stuff too)"
   ]
  },
  {
   "cell_type": "code",
   "execution_count": 69,
   "id": "4963d984",
   "metadata": {},
   "outputs": [
    {
     "data": {
      "text/html": [
       "<div>\n",
       "<style scoped>\n",
       "    .dataframe tbody tr th:only-of-type {\n",
       "        vertical-align: middle;\n",
       "    }\n",
       "\n",
       "    .dataframe tbody tr th {\n",
       "        vertical-align: top;\n",
       "    }\n",
       "\n",
       "    .dataframe thead th {\n",
       "        text-align: right;\n",
       "    }\n",
       "</style>\n",
       "<table border=\"1\" class=\"dataframe\">\n",
       "  <thead>\n",
       "    <tr style=\"text-align: right;\">\n",
       "      <th></th>\n",
       "      <th>CODE_IRIS</th>\n",
       "      <th>geometry</th>\n",
       "      <th>nodetype</th>\n",
       "      <th>centroid</th>\n",
       "      <th>RER</th>\n",
       "      <th>x</th>\n",
       "      <th>y</th>\n",
       "      <th>osmid</th>\n",
       "    </tr>\n",
       "  </thead>\n",
       "  <tbody>\n",
       "    <tr>\n",
       "      <th>0</th>\n",
       "      <td>920440109</td>\n",
       "      <td>POINT (2.28928 48.89521)</td>\n",
       "      <td>both</td>\n",
       "      <td>True</td>\n",
       "      <td>False</td>\n",
       "      <td>2.289280</td>\n",
       "      <td>48.895206</td>\n",
       "      <td>NaN</td>\n",
       "    </tr>\n",
       "    <tr>\n",
       "      <th>1</th>\n",
       "      <td>930270105</td>\n",
       "      <td>POINT (2.40273 48.92223)</td>\n",
       "      <td>both</td>\n",
       "      <td>True</td>\n",
       "      <td>False</td>\n",
       "      <td>2.402726</td>\n",
       "      <td>48.922227</td>\n",
       "      <td>NaN</td>\n",
       "    </tr>\n",
       "    <tr>\n",
       "      <th>2</th>\n",
       "      <td>751197316</td>\n",
       "      <td>POINT (2.37442 48.89225)</td>\n",
       "      <td>both</td>\n",
       "      <td>True</td>\n",
       "      <td>False</td>\n",
       "      <td>2.374425</td>\n",
       "      <td>48.892245</td>\n",
       "      <td>NaN</td>\n",
       "    </tr>\n",
       "    <tr>\n",
       "      <th>3</th>\n",
       "      <td>751176716</td>\n",
       "      <td>POINT (2.30742 48.88866)</td>\n",
       "      <td>both</td>\n",
       "      <td>True</td>\n",
       "      <td>False</td>\n",
       "      <td>2.307418</td>\n",
       "      <td>48.888659</td>\n",
       "      <td>NaN</td>\n",
       "    </tr>\n",
       "    <tr>\n",
       "      <th>4</th>\n",
       "      <td>920020104</td>\n",
       "      <td>POINT (2.31126 48.76564)</td>\n",
       "      <td>both</td>\n",
       "      <td>True</td>\n",
       "      <td>False</td>\n",
       "      <td>2.311259</td>\n",
       "      <td>48.765645</td>\n",
       "      <td>NaN</td>\n",
       "    </tr>\n",
       "    <tr>\n",
       "      <th>...</th>\n",
       "      <td>...</td>\n",
       "      <td>...</td>\n",
       "      <td>...</td>\n",
       "      <td>...</td>\n",
       "      <td>...</td>\n",
       "      <td>...</td>\n",
       "      <td>...</td>\n",
       "      <td>...</td>\n",
       "    </tr>\n",
       "    <tr>\n",
       "      <th>2661</th>\n",
       "      <td>930290203</td>\n",
       "      <td>POINT (2.45812 48.92539)</td>\n",
       "      <td>both</td>\n",
       "      <td>True</td>\n",
       "      <td>False</td>\n",
       "      <td>2.458119</td>\n",
       "      <td>48.925392</td>\n",
       "      <td>NaN</td>\n",
       "    </tr>\n",
       "    <tr>\n",
       "      <th>2662</th>\n",
       "      <td>920070111</td>\n",
       "      <td>POINT (2.31503 48.79468)</td>\n",
       "      <td>both</td>\n",
       "      <td>True</td>\n",
       "      <td>False</td>\n",
       "      <td>2.315035</td>\n",
       "      <td>48.794683</td>\n",
       "      <td>NaN</td>\n",
       "    </tr>\n",
       "    <tr>\n",
       "      <th>2663</th>\n",
       "      <td>930050101</td>\n",
       "      <td>POINT (2.48084 48.94737)</td>\n",
       "      <td>both</td>\n",
       "      <td>True</td>\n",
       "      <td>False</td>\n",
       "      <td>2.480841</td>\n",
       "      <td>48.947369</td>\n",
       "      <td>NaN</td>\n",
       "    </tr>\n",
       "    <tr>\n",
       "      <th>2664</th>\n",
       "      <td>920190113</td>\n",
       "      <td>POINT (2.27666 48.76719)</td>\n",
       "      <td>both</td>\n",
       "      <td>True</td>\n",
       "      <td>False</td>\n",
       "      <td>2.276657</td>\n",
       "      <td>48.767193</td>\n",
       "      <td>NaN</td>\n",
       "    </tr>\n",
       "    <tr>\n",
       "      <th>2665</th>\n",
       "      <td>930010501</td>\n",
       "      <td>POINT (2.39441 48.91240)</td>\n",
       "      <td>both</td>\n",
       "      <td>True</td>\n",
       "      <td>False</td>\n",
       "      <td>2.394411</td>\n",
       "      <td>48.912402</td>\n",
       "      <td>NaN</td>\n",
       "    </tr>\n",
       "  </tbody>\n",
       "</table>\n",
       "<p>2666 rows × 8 columns</p>\n",
       "</div>"
      ],
      "text/plain": [
       "      CODE_IRIS                  geometry nodetype  centroid    RER         x  \\\n",
       "0     920440109  POINT (2.28928 48.89521)     both      True  False  2.289280   \n",
       "1     930270105  POINT (2.40273 48.92223)     both      True  False  2.402726   \n",
       "2     751197316  POINT (2.37442 48.89225)     both      True  False  2.374425   \n",
       "3     751176716  POINT (2.30742 48.88866)     both      True  False  2.307418   \n",
       "4     920020104  POINT (2.31126 48.76564)     both      True  False  2.311259   \n",
       "...         ...                       ...      ...       ...    ...       ...   \n",
       "2661  930290203  POINT (2.45812 48.92539)     both      True  False  2.458119   \n",
       "2662  920070111  POINT (2.31503 48.79468)     both      True  False  2.315035   \n",
       "2663  930050101  POINT (2.48084 48.94737)     both      True  False  2.480841   \n",
       "2664  920190113  POINT (2.27666 48.76719)     both      True  False  2.276657   \n",
       "2665  930010501  POINT (2.39441 48.91240)     both      True  False  2.394411   \n",
       "\n",
       "              y  osmid  \n",
       "0     48.895206    NaN  \n",
       "1     48.922227    NaN  \n",
       "2     48.892245    NaN  \n",
       "3     48.888659    NaN  \n",
       "4     48.765645    NaN  \n",
       "...         ...    ...  \n",
       "2661  48.925392    NaN  \n",
       "2662  48.794683    NaN  \n",
       "2663  48.947369    NaN  \n",
       "2664  48.767193    NaN  \n",
       "2665  48.912402    NaN  \n",
       "\n",
       "[2666 rows x 8 columns]"
      ]
     },
     "execution_count": 69,
     "metadata": {},
     "output_type": "execute_result"
    }
   ],
   "source": [
    "nodes_network[nodes_network['centroid'] == True]\n",
    "\n",
    "# If 2066, we're good to go"
   ]
  },
  {
   "cell_type": "code",
   "execution_count": 70,
   "id": "17669ba5-e64e-4329-9112-c6071f73540c",
   "metadata": {},
   "outputs": [],
   "source": [
    "#--- Creating the network \n",
    "\n",
    "# Nodes \n",
    "nodes = gpd.GeoDataFrame(nodes_network, geometry = \"geometry\", crs = crs_fr)\n",
    "\n",
    "# Edges\n",
    "edges = edges_carbike_connected\n",
    "\n",
    "# Network\n",
    "base_network = snkit.Network(nodes, edges)\n",
    "\n",
    "# # Plot\n",
    "# ax = plt.axes()\n",
    "# base_network.edges.plot(ax=ax, linewidth = 1, alpha = 0.6)\n",
    "# base_network.nodes.plot(ax=ax, facecolor = 'red', markersize = 3)"
   ]
  },
  {
   "cell_type": "code",
   "execution_count": 71,
   "id": "fbf41410",
   "metadata": {},
   "outputs": [
    {
     "data": {
      "text/html": [
       "<div>\n",
       "<style scoped>\n",
       "    .dataframe tbody tr th:only-of-type {\n",
       "        vertical-align: middle;\n",
       "    }\n",
       "\n",
       "    .dataframe tbody tr th {\n",
       "        vertical-align: top;\n",
       "    }\n",
       "\n",
       "    .dataframe thead th {\n",
       "        text-align: right;\n",
       "    }\n",
       "</style>\n",
       "<table border=\"1\" class=\"dataframe\">\n",
       "  <thead>\n",
       "    <tr style=\"text-align: right;\">\n",
       "      <th></th>\n",
       "      <th>CODE_IRIS</th>\n",
       "      <th>geometry</th>\n",
       "      <th>nodetype</th>\n",
       "      <th>centroid</th>\n",
       "      <th>RER</th>\n",
       "      <th>x</th>\n",
       "      <th>y</th>\n",
       "      <th>osmid</th>\n",
       "    </tr>\n",
       "  </thead>\n",
       "  <tbody>\n",
       "    <tr>\n",
       "      <th>0</th>\n",
       "      <td>920440109</td>\n",
       "      <td>POINT (2.28928 48.89521)</td>\n",
       "      <td>both</td>\n",
       "      <td>True</td>\n",
       "      <td>False</td>\n",
       "      <td>2.28928</td>\n",
       "      <td>48.895206</td>\n",
       "      <td>NaN</td>\n",
       "    </tr>\n",
       "  </tbody>\n",
       "</table>\n",
       "</div>"
      ],
      "text/plain": [
       "   CODE_IRIS                  geometry nodetype  centroid    RER        x  \\\n",
       "0  920440109  POINT (2.28928 48.89521)     both      True  False  2.28928   \n",
       "\n",
       "           y  osmid  \n",
       "0  48.895206    NaN  "
      ]
     },
     "execution_count": 71,
     "metadata": {},
     "output_type": "execute_result"
    }
   ],
   "source": [
    "nodes.head(1)"
   ]
  },
  {
   "cell_type": "code",
   "execution_count": 72,
   "id": "9db935ff",
   "metadata": {},
   "outputs": [
    {
     "data": {
      "text/html": [
       "<div>\n",
       "<style scoped>\n",
       "    .dataframe tbody tr th:only-of-type {\n",
       "        vertical-align: middle;\n",
       "    }\n",
       "\n",
       "    .dataframe tbody tr th {\n",
       "        vertical-align: top;\n",
       "    }\n",
       "\n",
       "    .dataframe thead th {\n",
       "        text-align: right;\n",
       "    }\n",
       "</style>\n",
       "<table border=\"1\" class=\"dataframe\">\n",
       "  <thead>\n",
       "    <tr style=\"text-align: right;\">\n",
       "      <th></th>\n",
       "      <th>x</th>\n",
       "      <th>y</th>\n",
       "      <th>length</th>\n",
       "      <th>geometry</th>\n",
       "      <th>edgetype</th>\n",
       "      <th>edge_id</th>\n",
       "    </tr>\n",
       "  </thead>\n",
       "  <tbody>\n",
       "    <tr>\n",
       "      <th>0</th>\n",
       "      <td>122926</td>\n",
       "      <td>318399738</td>\n",
       "      <td>1618.6</td>\n",
       "      <td>LINESTRING (2.46355 48.88408, 2.46236 48.88415...</td>\n",
       "      <td>car</td>\n",
       "      <td>[122926, 318399738]</td>\n",
       "    </tr>\n",
       "  </tbody>\n",
       "</table>\n",
       "</div>"
      ],
      "text/plain": [
       "        x          y  length  \\\n",
       "0  122926  318399738  1618.6   \n",
       "\n",
       "                                            geometry edgetype  \\\n",
       "0  LINESTRING (2.46355 48.88408, 2.46236 48.88415...      car   \n",
       "\n",
       "               edge_id  \n",
       "0  [122926, 318399738]  "
      ]
     },
     "execution_count": 72,
     "metadata": {},
     "output_type": "execute_result"
    }
   ],
   "source": [
    "edges.head(1)"
   ]
  },
  {
   "cell_type": "code",
   "execution_count": 73,
   "id": "01222d37",
   "metadata": {},
   "outputs": [
    {
     "name": "stdout",
     "output_type": "stream",
     "text": [
      "True\n"
     ]
    }
   ],
   "source": [
    "#--- CHECK - still connected?\n",
    "\n",
    "# Create Graph with all nodes and edges from base_network\n",
    "G = nx.from_pandas_edgelist(base_network.edges, source='x', target='y', edge_attr=True)\n",
    "\n",
    "# Need to filter for carbike nodes since RER and centroids are obviously not connected \n",
    "G.add_nodes_from(base_network.nodes.loc[(base_network.nodes['centroid'] == False) & (base_network.nodes['RER'] == False)]['osmid'])\n",
    "\n",
    "\n",
    "#--- Make both networks undirected\n",
    "G = G.to_undirected()\n",
    "print(nx.is_connected(G))\n"
   ]
  },
  {
   "cell_type": "code",
   "execution_count": 74,
   "id": "2c6091a2",
   "metadata": {},
   "outputs": [
    {
     "data": {
      "text/plain": [
       "2666"
      ]
     },
     "execution_count": 74,
     "metadata": {},
     "output_type": "execute_result"
    }
   ],
   "source": [
    "# Quick check of consistency\n",
    "len(check_missing_nodes(base_network.edges['x'], base_network.edges['y'], base_network.nodes['osmid'])[1]) #2991 is good!"
   ]
  },
  {
   "cell_type": "code",
   "execution_count": 75,
   "id": "12b5988d-785b-4334-af27-17c711436cc7",
   "metadata": {},
   "outputs": [
    {
     "name": "stderr",
     "output_type": "stream",
     "text": [
      "/Users/auriane/opt/miniconda3/envs/thesis/lib/python3.10/site-packages/geopandas/array.py:1406: UserWarning: CRS not set for some of the concatenation inputs. Setting output's CRS as WGS 84 (the single non-null crs provided).\n",
      "  warnings.warn(\n",
      "/Users/auriane/opt/miniconda3/envs/thesis/lib/python3.10/site-packages/geopandas/array.py:1406: UserWarning: CRS not set for some of the concatenation inputs. Setting output's CRS as WGS 84 (the single non-null crs provided).\n",
      "  warnings.warn(\n"
     ]
    },
    {
     "name": "stdout",
     "output_type": "stream",
     "text": [
      "CPU times: user 13min 47s, sys: 6.19 s, total: 13min 53s\n",
      "Wall time: 14min 4s\n"
     ]
    }
   ],
   "source": [
    "%%time \n",
    "#--- Link centroids to their nearest edge (takes about 16min)\n",
    "\n",
    "linked = snkit.network.link_nodes_to_nearest_edge(base_network) #wth is this warning?\n",
    "# # plot\n",
    "# ax = plt.axes()\n",
    "# linked.edges.plot(ax=ax, linewidth = 1, alpha = 0.5)\n",
    "# linked.nodes.plot(ax=ax, facecolor = 'red', markersize = 3, alpha = 1)"
   ]
  },
  {
   "cell_type": "code",
   "execution_count": 76,
   "id": "bc9593ff",
   "metadata": {},
   "outputs": [],
   "source": [
    "# create IDs for the new nodes and edges \n",
    "with_id = snkit.network.add_topology(snkit.network.add_ids(linked))"
   ]
  },
  {
   "cell_type": "code",
   "execution_count": 77,
   "id": "f57cecf3",
   "metadata": {},
   "outputs": [
    {
     "name": "stdout",
     "output_type": "stream",
     "text": [
      "True\n"
     ]
    }
   ],
   "source": [
    "#--- CHECK - still connected?\n",
    "\n",
    "# Create Graph with all nodes and edges from with_id\n",
    "G = nx.from_pandas_edgelist(with_id.edges, source='from_id', target='to_id', edge_attr=True)\n",
    "G.add_nodes_from(with_id.nodes['id'])\n",
    "\n",
    "\n",
    "#--- Make both networks undirected\n",
    "G = G.to_undirected()\n",
    "print(nx.is_connected(G))\n"
   ]
  },
  {
   "cell_type": "code",
   "execution_count": 78,
   "id": "414befb5",
   "metadata": {},
   "outputs": [
    {
     "data": {
      "text/plain": [
       "x           2666\n",
       "y           2666\n",
       "length      2666\n",
       "geometry       0\n",
       "edgetype    2666\n",
       "edge_id     2666\n",
       "id             0\n",
       "from_id        0\n",
       "to_id          0\n",
       "dtype: int64"
      ]
     },
     "execution_count": 78,
     "metadata": {},
     "output_type": "execute_result"
    }
   ],
   "source": [
    "with_id.edges.isnull().sum()\n",
    "# The edges without and x and y attribute are the ones that were created by the link_nodes_to_nearest_edge function"
   ]
  },
  {
   "cell_type": "code",
   "execution_count": 79,
   "id": "657e8979",
   "metadata": {},
   "outputs": [
    {
     "data": {
      "text/plain": [
       "CODE_IRIS    115512\n",
       "geometry          0\n",
       "nodetype       2539\n",
       "centroid       2539\n",
       "RER            2539\n",
       "x              2539\n",
       "y              2539\n",
       "osmid          5205\n",
       "id                0\n",
       "dtype: int64"
      ]
     },
     "execution_count": 79,
     "metadata": {},
     "output_type": "execute_result"
    }
   ],
   "source": [
    "with_id.nodes.isnull().sum() \n",
    "# The nodes that don't have a centroid/nodetype/RER attribute are the newly created nodes (splitting and old edge) = 2851\n",
    "# The nodes that don't have an osmid are the new nodes + centroids  = 5695"
   ]
  },
  {
   "cell_type": "code",
   "execution_count": 80,
   "id": "052170a5-4795-492b-b808-0adcf2100b26",
   "metadata": {},
   "outputs": [],
   "source": [
    "# Separate old nodes (centroids and carbike nodes) from new ones (intersection between centroid and nearest edge) \n",
    "new_carbike_nodes = with_id.nodes[with_id.nodes['nodetype'].isnull()]\n",
    "\n",
    "# Separate centroids from the other nodes of this network \n",
    "centroids_network = with_id.nodes[with_id.nodes['centroid'] == True]\n",
    "\n",
    "# Separate RER stations from the other nodes of this network \n",
    "RER_stations_network = with_id.nodes[with_id.nodes['RER'] == True]"
   ]
  },
  {
   "cell_type": "code",
   "execution_count": 81,
   "id": "aa4c1a2a",
   "metadata": {},
   "outputs": [
    {
     "data": {
      "text/html": [
       "<div>\n",
       "<style scoped>\n",
       "    .dataframe tbody tr th:only-of-type {\n",
       "        vertical-align: middle;\n",
       "    }\n",
       "\n",
       "    .dataframe tbody tr th {\n",
       "        vertical-align: top;\n",
       "    }\n",
       "\n",
       "    .dataframe thead th {\n",
       "        text-align: right;\n",
       "    }\n",
       "</style>\n",
       "<table border=\"1\" class=\"dataframe\">\n",
       "  <thead>\n",
       "    <tr style=\"text-align: right;\">\n",
       "      <th></th>\n",
       "      <th>CODE_IRIS</th>\n",
       "      <th>geometry</th>\n",
       "      <th>nodetype</th>\n",
       "      <th>centroid</th>\n",
       "      <th>RER</th>\n",
       "      <th>x</th>\n",
       "      <th>y</th>\n",
       "      <th>osmid</th>\n",
       "      <th>id</th>\n",
       "    </tr>\n",
       "  </thead>\n",
       "  <tbody>\n",
       "    <tr>\n",
       "      <th>0</th>\n",
       "      <td>920440109</td>\n",
       "      <td>POINT (2.28928 48.89521)</td>\n",
       "      <td>both</td>\n",
       "      <td>True</td>\n",
       "      <td>False</td>\n",
       "      <td>2.289280</td>\n",
       "      <td>48.895206</td>\n",
       "      <td>NaN</td>\n",
       "      <td>node_0</td>\n",
       "    </tr>\n",
       "    <tr>\n",
       "      <th>1</th>\n",
       "      <td>930270105</td>\n",
       "      <td>POINT (2.40273 48.92223)</td>\n",
       "      <td>both</td>\n",
       "      <td>True</td>\n",
       "      <td>False</td>\n",
       "      <td>2.402726</td>\n",
       "      <td>48.922227</td>\n",
       "      <td>NaN</td>\n",
       "      <td>node_1</td>\n",
       "    </tr>\n",
       "    <tr>\n",
       "      <th>2</th>\n",
       "      <td>751197316</td>\n",
       "      <td>POINT (2.37442 48.89225)</td>\n",
       "      <td>both</td>\n",
       "      <td>True</td>\n",
       "      <td>False</td>\n",
       "      <td>2.374425</td>\n",
       "      <td>48.892245</td>\n",
       "      <td>NaN</td>\n",
       "      <td>node_2</td>\n",
       "    </tr>\n",
       "    <tr>\n",
       "      <th>3</th>\n",
       "      <td>751176716</td>\n",
       "      <td>POINT (2.30742 48.88866)</td>\n",
       "      <td>both</td>\n",
       "      <td>True</td>\n",
       "      <td>False</td>\n",
       "      <td>2.307418</td>\n",
       "      <td>48.888659</td>\n",
       "      <td>NaN</td>\n",
       "      <td>node_3</td>\n",
       "    </tr>\n",
       "    <tr>\n",
       "      <th>4</th>\n",
       "      <td>920020104</td>\n",
       "      <td>POINT (2.31126 48.76564)</td>\n",
       "      <td>both</td>\n",
       "      <td>True</td>\n",
       "      <td>False</td>\n",
       "      <td>2.311259</td>\n",
       "      <td>48.765645</td>\n",
       "      <td>NaN</td>\n",
       "      <td>node_4</td>\n",
       "    </tr>\n",
       "    <tr>\n",
       "      <th>5</th>\n",
       "      <td>940210107</td>\n",
       "      <td>POINT (2.35755 48.77377)</td>\n",
       "      <td>both</td>\n",
       "      <td>True</td>\n",
       "      <td>False</td>\n",
       "      <td>2.357553</td>\n",
       "      <td>48.773767</td>\n",
       "      <td>NaN</td>\n",
       "      <td>node_5</td>\n",
       "    </tr>\n",
       "    <tr>\n",
       "      <th>6</th>\n",
       "      <td>950180701</td>\n",
       "      <td>POINT (2.22533 48.96541)</td>\n",
       "      <td>both</td>\n",
       "      <td>True</td>\n",
       "      <td>False</td>\n",
       "      <td>2.225332</td>\n",
       "      <td>48.965406</td>\n",
       "      <td>NaN</td>\n",
       "      <td>node_6</td>\n",
       "    </tr>\n",
       "    <tr>\n",
       "      <th>7</th>\n",
       "      <td>751103703</td>\n",
       "      <td>POINT (2.35696 48.87811)</td>\n",
       "      <td>both</td>\n",
       "      <td>True</td>\n",
       "      <td>False</td>\n",
       "      <td>2.356962</td>\n",
       "      <td>48.878110</td>\n",
       "      <td>NaN</td>\n",
       "      <td>node_7</td>\n",
       "    </tr>\n",
       "    <tr>\n",
       "      <th>8</th>\n",
       "      <td>930050802</td>\n",
       "      <td>POINT (2.50821 48.94917)</td>\n",
       "      <td>both</td>\n",
       "      <td>True</td>\n",
       "      <td>False</td>\n",
       "      <td>2.508207</td>\n",
       "      <td>48.949173</td>\n",
       "      <td>NaN</td>\n",
       "      <td>node_8</td>\n",
       "    </tr>\n",
       "    <tr>\n",
       "      <th>9</th>\n",
       "      <td>930500112</td>\n",
       "      <td>POINT (2.52771 48.86905)</td>\n",
       "      <td>both</td>\n",
       "      <td>True</td>\n",
       "      <td>False</td>\n",
       "      <td>2.527707</td>\n",
       "      <td>48.869051</td>\n",
       "      <td>NaN</td>\n",
       "      <td>node_9</td>\n",
       "    </tr>\n",
       "  </tbody>\n",
       "</table>\n",
       "</div>"
      ],
      "text/plain": [
       "   CODE_IRIS                  geometry nodetype centroid    RER         x  \\\n",
       "0  920440109  POINT (2.28928 48.89521)     both     True  False  2.289280   \n",
       "1  930270105  POINT (2.40273 48.92223)     both     True  False  2.402726   \n",
       "2  751197316  POINT (2.37442 48.89225)     both     True  False  2.374425   \n",
       "3  751176716  POINT (2.30742 48.88866)     both     True  False  2.307418   \n",
       "4  920020104  POINT (2.31126 48.76564)     both     True  False  2.311259   \n",
       "5  940210107  POINT (2.35755 48.77377)     both     True  False  2.357553   \n",
       "6  950180701  POINT (2.22533 48.96541)     both     True  False  2.225332   \n",
       "7  751103703  POINT (2.35696 48.87811)     both     True  False  2.356962   \n",
       "8  930050802  POINT (2.50821 48.94917)     both     True  False  2.508207   \n",
       "9  930500112  POINT (2.52771 48.86905)     both     True  False  2.527707   \n",
       "\n",
       "           y  osmid      id  \n",
       "0  48.895206    NaN  node_0  \n",
       "1  48.922227    NaN  node_1  \n",
       "2  48.892245    NaN  node_2  \n",
       "3  48.888659    NaN  node_3  \n",
       "4  48.765645    NaN  node_4  \n",
       "5  48.773767    NaN  node_5  \n",
       "6  48.965406    NaN  node_6  \n",
       "7  48.878110    NaN  node_7  \n",
       "8  48.949173    NaN  node_8  \n",
       "9  48.869051    NaN  node_9  "
      ]
     },
     "execution_count": 81,
     "metadata": {},
     "output_type": "execute_result"
    }
   ],
   "source": [
    "with_id.nodes.head(10)\n",
    "# CHECK Make sure the first nodes are from the RER network AND their osmid and id overlap!!"
   ]
  },
  {
   "attachments": {},
   "cell_type": "markdown",
   "id": "8d692ea2-f7d1-4d30-8bde-fba481bc8789",
   "metadata": {
    "tags": []
   },
   "source": [
    "## Post-linking processing\n",
    "The current network is connected, but still missing some things.\n",
    "- snkit has attributed IDs to all nodes, even though most ndoes already have a native ID. This needs fixing\n",
    "- snkit has created new nodes and edges, some work needs to be done there to ensure everything is in order\n",
    "- the edges now use the snkit IDs instead of the original ones. This needs fixing\n",
    "- the RER lines have not been included yet\n",
    "- Once all nodes have been made compatible with the old data, they need to be processed for NetworkX. "
   ]
  },
  {
   "attachments": {},
   "cell_type": "markdown",
   "id": "8000dd19-02d0-41ab-8554-57bca1fb1706",
   "metadata": {
    "tags": []
   },
   "source": [
    "### Nodes\n",
    "- Make centroids and RER stations compatible with carbike nodes\n",
    "- Make the new nodes compatible with the carbike nodes\n",
    "- Add the new nodes to the carbike nodes\n",
    "- Process all carbike nodes (old and new)"
   ]
  },
  {
   "cell_type": "code",
   "execution_count": 82,
   "id": "6f6a4de6-86e9-4a25-bd77-05305f7287ce",
   "metadata": {},
   "outputs": [
    {
     "data": {
      "text/html": [
       "<div>\n",
       "<style scoped>\n",
       "    .dataframe tbody tr th:only-of-type {\n",
       "        vertical-align: middle;\n",
       "    }\n",
       "\n",
       "    .dataframe tbody tr th {\n",
       "        vertical-align: top;\n",
       "    }\n",
       "\n",
       "    .dataframe thead th {\n",
       "        text-align: right;\n",
       "    }\n",
       "</style>\n",
       "<table border=\"1\" class=\"dataframe\">\n",
       "  <thead>\n",
       "    <tr style=\"text-align: right;\">\n",
       "      <th></th>\n",
       "      <th>CODE_IRIS</th>\n",
       "      <th>geometry</th>\n",
       "      <th>nodetype</th>\n",
       "      <th>centroid</th>\n",
       "      <th>RER</th>\n",
       "      <th>x</th>\n",
       "      <th>y</th>\n",
       "      <th>osmid</th>\n",
       "    </tr>\n",
       "  </thead>\n",
       "  <tbody>\n",
       "    <tr>\n",
       "      <th>0</th>\n",
       "      <td>920440109</td>\n",
       "      <td>POINT (2.28928 48.89521)</td>\n",
       "      <td>both</td>\n",
       "      <td>True</td>\n",
       "      <td>False</td>\n",
       "      <td>2.289280</td>\n",
       "      <td>48.895206</td>\n",
       "      <td>0</td>\n",
       "    </tr>\n",
       "    <tr>\n",
       "      <th>1</th>\n",
       "      <td>930270105</td>\n",
       "      <td>POINT (2.40273 48.92223)</td>\n",
       "      <td>both</td>\n",
       "      <td>True</td>\n",
       "      <td>False</td>\n",
       "      <td>2.402726</td>\n",
       "      <td>48.922227</td>\n",
       "      <td>1</td>\n",
       "    </tr>\n",
       "    <tr>\n",
       "      <th>2</th>\n",
       "      <td>751197316</td>\n",
       "      <td>POINT (2.37442 48.89225)</td>\n",
       "      <td>both</td>\n",
       "      <td>True</td>\n",
       "      <td>False</td>\n",
       "      <td>2.374425</td>\n",
       "      <td>48.892245</td>\n",
       "      <td>2</td>\n",
       "    </tr>\n",
       "  </tbody>\n",
       "</table>\n",
       "</div>"
      ],
      "text/plain": [
       "   CODE_IRIS                  geometry nodetype centroid    RER         x  \\\n",
       "0  920440109  POINT (2.28928 48.89521)     both     True  False  2.289280   \n",
       "1  930270105  POINT (2.40273 48.92223)     both     True  False  2.402726   \n",
       "2  751197316  POINT (2.37442 48.89225)     both     True  False  2.374425   \n",
       "\n",
       "           y  osmid  \n",
       "0  48.895206      0  \n",
       "1  48.922227      1  \n",
       "2  48.892245      2  "
      ]
     },
     "execution_count": 82,
     "metadata": {},
     "output_type": "execute_result"
    }
   ],
   "source": [
    "#--- Process centroids \n",
    "centroids_network = centroids_network.drop(columns = 'osmid')\n",
    "centroids_network = centroids_network.rename(columns = {'id':'osmid'})\n",
    "centroids_network['osmid'] = centroids_network['osmid'].str[5:].astype(int)\n",
    "\n",
    "centroids_network.head(3)"
   ]
  },
  {
   "cell_type": "code",
   "execution_count": 83,
   "id": "2349e53d-0731-4b9e-b9bd-2b78e60caf45",
   "metadata": {},
   "outputs": [
    {
     "data": {
      "text/html": [
       "<div>\n",
       "<style scoped>\n",
       "    .dataframe tbody tr th:only-of-type {\n",
       "        vertical-align: middle;\n",
       "    }\n",
       "\n",
       "    .dataframe tbody tr th {\n",
       "        vertical-align: top;\n",
       "    }\n",
       "\n",
       "    .dataframe thead th {\n",
       "        text-align: right;\n",
       "    }\n",
       "</style>\n",
       "<table border=\"1\" class=\"dataframe\">\n",
       "  <thead>\n",
       "    <tr style=\"text-align: right;\">\n",
       "      <th></th>\n",
       "      <th>CODE_IRIS</th>\n",
       "      <th>geometry</th>\n",
       "      <th>nodetype</th>\n",
       "      <th>centroid</th>\n",
       "      <th>RER</th>\n",
       "      <th>x</th>\n",
       "      <th>y</th>\n",
       "      <th>osmid</th>\n",
       "    </tr>\n",
       "  </thead>\n",
       "  <tbody>\n",
       "    <tr>\n",
       "      <th>118177</th>\n",
       "      <td>NaN</td>\n",
       "      <td>POINT (2.39423 48.91159)</td>\n",
       "      <td>both</td>\n",
       "      <td>False</td>\n",
       "      <td>False</td>\n",
       "      <td>NaN</td>\n",
       "      <td>NaN</td>\n",
       "      <td>118177</td>\n",
       "    </tr>\n",
       "  </tbody>\n",
       "</table>\n",
       "</div>"
      ],
      "text/plain": [
       "       CODE_IRIS                  geometry nodetype  centroid    RER   x   y  \\\n",
       "118177       NaN  POINT (2.39423 48.91159)     both     False  False NaN NaN   \n",
       "\n",
       "         osmid  \n",
       "118177  118177  "
      ]
     },
     "execution_count": 83,
     "metadata": {},
     "output_type": "execute_result"
    }
   ],
   "source": [
    "#--- Process new carbike nodes \n",
    "new_carbike_nodes = new_carbike_nodes.drop(columns = 'osmid')\n",
    "new_carbike_nodes = new_carbike_nodes.rename(columns = {'id':'osmid'})\n",
    "\n",
    "# Add attributes \n",
    "new_carbike_nodes['nodetype'] = 'both'\n",
    "new_carbike_nodes['osmid'] = new_carbike_nodes['osmid'].str[5:].astype(int)\n",
    "new_carbike_nodes['centroid'] = False\n",
    "new_carbike_nodes['RER'] = False\n",
    "\n",
    "new_carbike_nodes.tail(1)"
   ]
  },
  {
   "cell_type": "code",
   "execution_count": 84,
   "id": "b645a57b",
   "metadata": {},
   "outputs": [],
   "source": [
    "# #--- Process RER nodes \n",
    "# RER_stations_network['osmid'] = RER_stations_network['osmid'].astype(int)\n",
    "# RER_stations_network = RER_stations_network.drop(columns = 'id')\n",
    "# RER_stations_network.head(1)"
   ]
  },
  {
   "cell_type": "code",
   "execution_count": 85,
   "id": "9b60293f-0d4d-409b-99e6-12bbc8bf9141",
   "metadata": {},
   "outputs": [
    {
     "data": {
      "text/html": [
       "<div>\n",
       "<style scoped>\n",
       "    .dataframe tbody tr th:only-of-type {\n",
       "        vertical-align: middle;\n",
       "    }\n",
       "\n",
       "    .dataframe tbody tr th {\n",
       "        vertical-align: top;\n",
       "    }\n",
       "\n",
       "    .dataframe thead th {\n",
       "        text-align: right;\n",
       "    }\n",
       "</style>\n",
       "<table border=\"1\" class=\"dataframe\">\n",
       "  <thead>\n",
       "    <tr style=\"text-align: right;\">\n",
       "      <th></th>\n",
       "      <th>osmid</th>\n",
       "      <th>y</th>\n",
       "      <th>x</th>\n",
       "      <th>geometry</th>\n",
       "      <th>nodetype</th>\n",
       "      <th>centroid</th>\n",
       "      <th>RER</th>\n",
       "    </tr>\n",
       "  </thead>\n",
       "  <tbody>\n",
       "    <tr>\n",
       "      <th>0</th>\n",
       "      <td>122926</td>\n",
       "      <td>48.884082</td>\n",
       "      <td>2.463549</td>\n",
       "      <td>POINT (2.46355 48.88408)</td>\n",
       "      <td>car</td>\n",
       "      <td>False</td>\n",
       "      <td>False</td>\n",
       "    </tr>\n",
       "  </tbody>\n",
       "</table>\n",
       "</div>"
      ],
      "text/plain": [
       "    osmid          y         x                  geometry nodetype  centroid  \\\n",
       "0  122926  48.884082  2.463549  POINT (2.46355 48.88408)      car     False   \n",
       "\n",
       "     RER  \n",
       "0  False  "
      ]
     },
     "execution_count": 85,
     "metadata": {},
     "output_type": "execute_result"
    }
   ],
   "source": [
    "#-- Process old carbike nodes\n",
    "nodes_carbike_connected.head(1)"
   ]
  },
  {
   "cell_type": "code",
   "execution_count": 86,
   "id": "f6cc247c-ca04-4f24-a7cd-aa80763ad248",
   "metadata": {},
   "outputs": [
    {
     "name": "stdout",
     "output_type": "stream",
     "text": [
      "\n",
      "centroid min  0 \n",
      "centroid max  2665 \n",
      "new carbike min  115639 \n",
      "new carbike max  118177 \n",
      "old carbike min  122926 \n",
      "old carbike max  11006222342\n"
     ]
    }
   ],
   "source": [
    "# QUICK CHECK: ARE ALL IDs REALLY DIFFERENT FROM EACH OTHER? \n",
    "# RER_stations_network_minID = int(RER_stations_network.sort_values(by = 'osmid').head(1).osmid)\n",
    "# RER_stations_network_maxID = int(RER_stations_network.sort_values(by = 'osmid').tail(1).osmid)\n",
    "centroids_minID = int(centroids_network.sort_values(by = 'osmid').head(1).osmid)\n",
    "centroids_maxID = int(centroids_network.sort_values(by = 'osmid').tail(1).osmid)\n",
    "new_carbike_nodes_minID = int(new_carbike_nodes.sort_values(by = 'osmid').head(1).osmid)\n",
    "new_carbike_nodes_maxID = int(new_carbike_nodes.sort_values(by = 'osmid').tail(1).osmid)\n",
    "nodes_all_minID = int(nodes_carbike_connected.sort_values(by = 'osmid').head(1).osmid)\n",
    "nodes_all_maxID = int(nodes_carbike_connected.sort_values(by = 'osmid').tail(1).osmid)\n",
    "\n",
    "print(#'\\nRER min ', RER_stations_network_minID, \n",
    "      #'\\nRER min ', RER_stations_network_maxID, \n",
    "      '\\ncentroid min ', centroids_minID, \n",
    "      '\\ncentroid max ', centroids_maxID, \n",
    "      '\\nnew carbike min ', new_carbike_nodes_minID, \n",
    "      '\\nnew carbike max ', new_carbike_nodes_maxID,\n",
    "      '\\nold carbike min ', nodes_all_minID, \n",
    "      '\\nold carbike max ',nodes_all_maxID) "
   ]
  },
  {
   "cell_type": "code",
   "execution_count": 87,
   "id": "e23cd21e-5235-4c87-97aa-5150e4f142b3",
   "metadata": {},
   "outputs": [
    {
     "name": "stderr",
     "output_type": "stream",
     "text": [
      "/var/folders/2m/lkz691q11b72bpprh6_v34_h0000gn/T/ipykernel_22827/1110685033.py:2: FutureWarning: In a future version, object-dtype columns with all-bool values will not be included in reductions with bool_only=True. Explicitly cast to bool dtype instead.\n",
      "  nodes_carbike_centroids_RER_complete = pd.concat([nodes_carbike_connected, new_carbike_nodes, centroids_network])#, RER_stations_network])\n"
     ]
    },
    {
     "data": {
      "text/html": [
       "<div>\n",
       "<style scoped>\n",
       "    .dataframe tbody tr th:only-of-type {\n",
       "        vertical-align: middle;\n",
       "    }\n",
       "\n",
       "    .dataframe tbody tr th {\n",
       "        vertical-align: top;\n",
       "    }\n",
       "\n",
       "    .dataframe thead th {\n",
       "        text-align: right;\n",
       "    }\n",
       "</style>\n",
       "<table border=\"1\" class=\"dataframe\">\n",
       "  <thead>\n",
       "    <tr style=\"text-align: right;\">\n",
       "      <th></th>\n",
       "      <th>osmid</th>\n",
       "      <th>y</th>\n",
       "      <th>x</th>\n",
       "      <th>geometry</th>\n",
       "      <th>nodetype</th>\n",
       "      <th>centroid</th>\n",
       "      <th>RER</th>\n",
       "      <th>CODE_IRIS</th>\n",
       "      <th>attr_dict</th>\n",
       "    </tr>\n",
       "  </thead>\n",
       "  <tbody>\n",
       "    <tr>\n",
       "      <th>0</th>\n",
       "      <td>0</td>\n",
       "      <td>48.895206</td>\n",
       "      <td>2.28928</td>\n",
       "      <td>POINT (2.28928 48.89521)</td>\n",
       "      <td>both</td>\n",
       "      <td>True</td>\n",
       "      <td>False</td>\n",
       "      <td>920440109</td>\n",
       "      <td>{'lat': 2.289279563873589, 'lon': 48.895205539...</td>\n",
       "    </tr>\n",
       "  </tbody>\n",
       "</table>\n",
       "</div>"
      ],
      "text/plain": [
       "   osmid          y        x                  geometry nodetype centroid  \\\n",
       "0      0  48.895206  2.28928  POINT (2.28928 48.89521)     both     True   \n",
       "\n",
       "     RER  CODE_IRIS                                          attr_dict  \n",
       "0  False  920440109  {'lat': 2.289279563873589, 'lon': 48.895205539...  "
      ]
     },
     "execution_count": 87,
     "metadata": {},
     "output_type": "execute_result"
    }
   ],
   "source": [
    "#--- Combine all nodes \n",
    "nodes_carbike_centroids_RER_complete = pd.concat([nodes_carbike_connected, new_carbike_nodes, centroids_network])#, RER_stations_network]) \n",
    "nodes_carbike_centroids_RER_complete = gpd.GeoDataFrame(nodes_carbike_centroids_RER_complete, geometry = \"geometry\", crs=crs_fr)\n",
    "\n",
    "# Replace or fill in x and y attributes\n",
    "nodes_carbike_centroids_RER_complete = nodes_carbike_centroids_RER_complete.to_crs(crs_fr)\n",
    "nodes_carbike_centroids_RER_complete['x'] = nodes_carbike_centroids_RER_complete.geometry.apply(lambda p: p.x)\n",
    "nodes_carbike_centroids_RER_complete['y'] = nodes_carbike_centroids_RER_complete.geometry.apply(lambda p: p.y)\n",
    "\n",
    "#--- Dealing with the nodes like we used to (Anastassia) \n",
    "# Sort values and drop duplicates \n",
    "nodes_carbike_centroids_RER_complete = nodes_carbike_centroids_RER_complete.sort_values(by = \"osmid\").reset_index(drop = True) # sort by osmid\n",
    "# make attribute dictionary with type and geocoordinates for each node\n",
    "# MOD: removed category_node = x.type \n",
    "# MOD: changed coord to geometry\n",
    "# MOD-Stpehan : split geometry into lat and lon\n",
    "# MOD: added centroid and RER as attributes \n",
    "nodes_carbike_centroids_RER_complete[\"attr_dict\"] = nodes_carbike_centroids_RER_complete.apply(lambda x: make_attr_dict(lat = x.x,\n",
    "                                                                  lon = x.y,\n",
    "                                                                  pos = (x.x, x.y),\n",
    "                                                                  nodetype = x.nodetype,\n",
    "                                                                  centroid = x.centroid,\n",
    "                                                                  RER = x.RER),\n",
    "                                                                  axis = 1) \n",
    "\n",
    "nodes_carbike_centroids_RER_complete[\"osmid\"] = nodes_carbike_centroids_RER_complete[\"osmid\"].astype(int)\n",
    "nodes_carbike_centroids_RER_complete.head(1) #make sure the top nodes are RER!"
   ]
  },
  {
   "cell_type": "code",
   "execution_count": 88,
   "id": "27b5a068",
   "metadata": {},
   "outputs": [
    {
     "data": {
      "text/plain": [
       "osmid           int64\n",
       "y             float64\n",
       "x             float64\n",
       "geometry     geometry\n",
       "nodetype       object\n",
       "centroid       object\n",
       "RER            object\n",
       "CODE_IRIS      object\n",
       "attr_dict      object\n",
       "dtype: object"
      ]
     },
     "execution_count": 88,
     "metadata": {},
     "output_type": "execute_result"
    }
   ],
   "source": [
    "nodes_carbike_centroids_RER_complete.dtypes"
   ]
  },
  {
   "cell_type": "code",
   "execution_count": 89,
   "id": "d479e97c",
   "metadata": {},
   "outputs": [
    {
     "name": "stdout",
     "output_type": "stream",
     "text": [
      "max id of nodes that are NOT in the edges dataframe  118177\n",
      "number of nodes that are NOT in the edges dataframe  5205\n",
      "number of edges with nodes that are NOT in the nodes dataframe  nan\n"
     ]
    }
   ],
   "source": [
    "# QUICK CHECKS \n",
    "# This should be 118704, or the max id of the centroids/new carbike nodes/RER nodes together \n",
    "print('max id of nodes that are NOT in the edges dataframe ',\n",
    "      max(check_missing_nodes(linked.edges['x'], linked.edges['y'], nodes_carbike_centroids_RER_complete['osmid'])[1])) \n",
    "# This should be 5840, same reasoning as above\n",
    "print('number of nodes that are NOT in the edges dataframe ',\n",
    "      len(check_missing_nodes(linked.edges['x'], linked.edges['y'], nodes_carbike_centroids_RER_complete['osmid'])[1])) \n",
    "\n",
    "# This should be nan\n",
    "print('number of edges with nodes that are NOT in the nodes dataframe ', \n",
    "      min(check_missing_nodes(linked.edges['x'], linked.edges['y'], nodes_carbike_centroids_RER_complete['osmid'])[0])) \n",
    "\n"
   ]
  },
  {
   "attachments": {},
   "cell_type": "markdown",
   "id": "8cab3cc6-fcd1-4586-8ae1-31718f4b6260",
   "metadata": {
    "tags": []
   },
   "source": [
    "### Edges\n",
    "- Make new edges compatible with the old ones\n",
    "    - some new edges connect with a node from the carbike network using the ID given by linked_network instead of the original osmID -> change these IDs into their osmIDs AND update this info in the edges df\n",
    "    - These IDs are already absent from the nodes_carbike_complete df since it is based on the old nodes_all df and the new_nodes and centroids dfs\n",
    "- Add RER edges"
   ]
  },
  {
   "cell_type": "code",
   "execution_count": 90,
   "id": "b0ec53f7",
   "metadata": {},
   "outputs": [
    {
     "name": "stdout",
     "output_type": "stream",
     "text": [
      "118177\n",
      "122926\n"
     ]
    }
   ],
   "source": [
    "#--- Make with_id.nodes and edges workable\n",
    "\n",
    "n = 5\n",
    "edges_with_id = with_id.edges\n",
    "edges_with_id['from_id'] = edges_with_id['from_id'].str[5:].astype(int)\n",
    "edges_with_id['to_id'] = edges_with_id['to_id'].str[5:].astype(int)\n",
    "edges_with_id['id'] = edges_with_id['id'].str[5:].astype(int)\n",
    "\n",
    "print(max(check_missing_nodes(edges_with_id['from_id'], edges_with_id['to_id'], nodes_carbike_connected['osmid'])[0]) )\n",
    "# highest missing id in edges should be BELOW all of those in the nodes dataframe (i.e below 122926) \n",
    "\n",
    "print(min(check_missing_nodes(edges_with_id['from_id'], edges_with_id['to_id'], nodes_carbike_connected['osmid'])[1]) )\n",
    "# lowest missing ID in nodes should be the lowest original osmid (i.e 122926), need to overwrite the nodes id in edges with their new value"
   ]
  },
  {
   "cell_type": "code",
   "execution_count": 91,
   "id": "5b8d71f8-12ba-4c0f-9bf2-62419a58fd29",
   "metadata": {},
   "outputs": [
    {
     "name": "stderr",
     "output_type": "stream",
     "text": [
      "/Users/auriane/opt/miniconda3/envs/thesis/lib/python3.10/site-packages/geopandas/geodataframe.py:1443: SettingWithCopyWarning: \n",
      "A value is trying to be set on a copy of a slice from a DataFrame.\n",
      "Try using .loc[row_indexer,col_indexer] = value instead\n",
      "\n",
      "See the caveats in the documentation: https://pandas.pydata.org/pandas-docs/stable/user_guide/indexing.html#returning-a-view-versus-a-copy\n",
      "  super().__setitem__(key, value)\n"
     ]
    },
    {
     "data": {
      "text/plain": [
       "x           2666\n",
       "y           2666\n",
       "length      2666\n",
       "geometry       0\n",
       "edgetype    2666\n",
       "edge_id     2666\n",
       "id             0\n",
       "from_id        0\n",
       "to_id          0\n",
       "dtype: int64"
      ]
     },
     "execution_count": 91,
     "metadata": {},
     "output_type": "execute_result"
    }
   ],
   "source": [
    "#--- Replacing new IDs with osmIDs where necessary\n",
    "\n",
    "# Create a dictionary of ID to osmID\n",
    "oldnodes_in_newedges = with_id.nodes.loc[(with_id.nodes['osmid'].notnull())] # They have an non-null osmID (the new nodes don't have one)\n",
    "oldnodes_in_newedges['osmid'] = oldnodes_in_newedges['osmid'].astype(int)\n",
    "oldnodes_in_newedges['id'] = oldnodes_in_newedges['id'].str[5:].astype(int)\n",
    "oldnodes_in_newedges.set_index('id',inplace=True)\n",
    "id_osmid_dict = oldnodes_in_newedges.to_dict()['osmid']\n",
    "\n",
    "# Replace IDs with osmIDs in the edges dataframe\n",
    "edges_with_id['from_id'] = edges_with_id['from_id'].apply(lambda row: id_osmid_dict[row] if row in (id_osmid_dict.keys()) else row)\n",
    "edges_with_id['to_id'] = edges_with_id['to_id'].apply(lambda row: id_osmid_dict[row] if row in (id_osmid_dict.keys()) else row)\n",
    "\n",
    "edges_with_id.isnull().sum()"
   ]
  },
  {
   "cell_type": "code",
   "execution_count": 92,
   "id": "6e14382b",
   "metadata": {},
   "outputs": [
    {
     "name": "stdout",
     "output_type": "stream",
     "text": [
      "True\n"
     ]
    }
   ],
   "source": [
    "#--- CHECK - still connected?\n",
    "\n",
    "# Create Graph with all nodes and edges from with_id\n",
    "G = nx.from_pandas_edgelist(edges_with_id, source='from_id', target='to_id', edge_attr=True)\n",
    "G.add_nodes_from(nodes_carbike_centroids_RER_complete['osmid'])\n",
    "\n",
    "\n",
    "#--- Make both networks undirected\n",
    "G = G.to_undirected()\n",
    "print(nx.is_connected(G))\n"
   ]
  },
  {
   "cell_type": "code",
   "execution_count": 93,
   "id": "2afe8f18",
   "metadata": {},
   "outputs": [
    {
     "name": "stdout",
     "output_type": "stream",
     "text": [
      "True\n"
     ]
    }
   ],
   "source": [
    "#--- CHECK Routing between centroids\n",
    "# Pick two random nodes with centroid = True\n",
    "start_node = nodes_carbike_centroids_RER_complete.loc[nodes_carbike_centroids_RER_complete['centroid'] == True].sample(1)\n",
    "end_node = nodes_carbike_centroids_RER_complete.loc[nodes_carbike_centroids_RER_complete['centroid'] == True].sample(1)\n",
    "\n",
    "# Check if they are connected on the car network\n",
    "# TODO this should always return True!!!!!!!\n",
    "print(nx.has_path(G, start_node['osmid'].iloc[0], end_node['osmid'].iloc[0]))\n"
   ]
  },
  {
   "cell_type": "code",
   "execution_count": 94,
   "id": "2a0a3e26",
   "metadata": {},
   "outputs": [
    {
     "data": {
      "text/plain": [
       "x           2666\n",
       "y           2666\n",
       "length      2666\n",
       "geometry       0\n",
       "edgetype       0\n",
       "edge_id     2666\n",
       "id             0\n",
       "from_id        0\n",
       "to_id          0\n",
       "dtype: int64"
      ]
     },
     "execution_count": 94,
     "metadata": {},
     "output_type": "execute_result"
    }
   ],
   "source": [
    "#--- Fill in the edgetype for the new edges \n",
    "# Create a dictionary of nodeID to nodetype\n",
    "nodes_type_df = nodes_carbike_centroids_RER_complete\n",
    "nodes_type_dict = nodes_type_df.reset_index(drop = True)\n",
    "nodes_type_dict = nodes_type_dict.set_index('osmid').to_dict()['nodetype']\n",
    "\n",
    "\n",
    "# Find the correct column indexes to work with\n",
    "index_edgetype = edges_with_id.columns.get_loc(\"edgetype\")\n",
    "index_fromID = edges_with_id.columns.get_loc(\"from_id\")\n",
    "index_toID = edges_with_id.columns.get_loc(\"to_id\")\n",
    "index_x = edges_with_id.columns.get_loc(\"x\")\n",
    "index_y = edges_with_id.columns.get_loc(\"y\")\n",
    "index_edge_id = edges_with_id.columns.get_loc(\"edge_id\")\n",
    "\n",
    "# Fill in the edgetype \n",
    "# With the nodetype of the from_id and to_id if it is the same\n",
    "# With 'car' if it is different\n",
    "for i in range(len(edges_with_id)):\n",
    "    if pd.isnull(edges_with_id.iloc[i,index_edgetype]):\n",
    "        if nodes_type_dict[edges_with_id.iloc[i,index_fromID]] == nodes_type_dict[edges_with_id.iloc[i,index_toID]]:\n",
    "            edges_with_id.iloc[i,index_edgetype] = nodes_type_dict[edges_with_id.iloc[i,index_toID]]\n",
    "        else:\n",
    "            edges_with_id.iloc[i,index_edgetype] = 'car'\n",
    "edges_with_id.isnull().sum() # no more NaN on edgetype?"
   ]
  },
  {
   "cell_type": "code",
   "execution_count": 95,
   "id": "966bf703",
   "metadata": {},
   "outputs": [
    {
     "data": {
      "text/plain": [
       "x              0\n",
       "y              0\n",
       "length      2666\n",
       "geometry       0\n",
       "edgetype       0\n",
       "edge_id        0\n",
       "id             0\n",
       "from_id        0\n",
       "to_id          0\n",
       "dtype: int64"
      ]
     },
     "execution_count": 95,
     "metadata": {},
     "output_type": "execute_result"
    }
   ],
   "source": [
    "#--- Fill in the x and y columns \n",
    "# With x = from_id and y = to_id\n",
    "for i in range(len(edges_with_id)):\n",
    "    edges_with_id.iloc[i,index_x] = edges_with_id.iloc[i,index_fromID]\n",
    "    edges_with_id.iloc[i,index_y] = edges_with_id.iloc[i,index_toID]\n",
    "# edges_with_id['x'] = edges_with_id['x'].astype(int)\n",
    "# edges_with_id['y'] = edges_with_id['y'].astype(int)\n",
    "\n",
    "\n",
    "#--- Fill in the edge_id column where it is NaN with [from_id, to_id]\n",
    "edges_with_id['edge_id'] = edges_with_id.apply(lambda row: str([row[\"x\"], row[\"y\"]]), axis = 1)\n",
    "# Convert edges_with_id.edge_id from string to list of int\n",
    "edges_with_id['edge_id'] = edges_with_id['edge_id'].apply(lambda cell:\n",
    "                                      ''.join(c for c in cell if c not in \"'[]\").split(', '))\n",
    "\n",
    "#--- Drop unnecessary columns\n",
    "# edges_with_id = edges_with_id.drop(['from_id','to_id', 'id'], axis = 1)\n",
    "\n",
    "edges_with_id.isnull().sum() # no more NaN on x, y and edge_id?"
   ]
  },
  {
   "cell_type": "code",
   "execution_count": 96,
   "id": "7cb98087",
   "metadata": {},
   "outputs": [
    {
     "name": "stdout",
     "output_type": "stream",
     "text": [
      "True\n"
     ]
    }
   ],
   "source": [
    "#--- CHECK - still connected?\n",
    "\n",
    "# Create Graph with all nodes and edges from with_id\n",
    "G = nx.from_pandas_edgelist(edges_with_id, source='x', target='y', edge_attr=True)\n",
    "G.add_nodes_from(nodes_carbike_centroids_RER_complete['osmid'])\n",
    "\n",
    "\n",
    "#--- Make both networks undirected\n",
    "G = G.to_undirected()\n",
    "print(nx.is_connected(G))"
   ]
  },
  {
   "cell_type": "code",
   "execution_count": 97,
   "id": "d5cf9df2",
   "metadata": {},
   "outputs": [
    {
     "name": "stdout",
     "output_type": "stream",
     "text": [
      "True\n"
     ]
    }
   ],
   "source": [
    "#--- CHECK Routing between centroids\n",
    "# Pick two random nodes with centroid = True\n",
    "start_node = nodes_carbike_centroids_RER_complete.loc[nodes_carbike_centroids_RER_complete['centroid'] == True].sample(1)\n",
    "end_node = nodes_carbike_centroids_RER_complete.loc[nodes_carbike_centroids_RER_complete['centroid'] == True].sample(1)\n",
    "\n",
    "# Check if they are connected on the car network\n",
    "# TODO this should always return True!!!!!!!\n",
    "print(nx.has_path(G, start_node['osmid'].iloc[0], end_node['osmid'].iloc[0]))\n"
   ]
  },
  {
   "cell_type": "code",
   "execution_count": 98,
   "id": "cf7ae252",
   "metadata": {},
   "outputs": [],
   "source": [
    "# #--- Adding the RER line\n",
    "\n",
    "# # Append RER edges \n",
    "# edges_with_id = edges_with_id.append(RER_lines.drop(columns = 'reseau'), ignore_index = True)\n",
    "\n",
    "# # Are all RER stations connected to RER lines?\n",
    "# # Are all RER lines starting at ending at RER nodes?\n",
    "# print(check_missing_nodes(edges_with_id.loc[edges_with_id['edgetype'] == 'RER']['x'], \n",
    "#                     edges_with_id.loc[edges_with_id['edgetype'] == 'RER']['y'], \n",
    "#                     nodes_carbike_centroids_RER_complete.loc[nodes_carbike_centroids_RER_complete['RER']==True]['osmid'])\n",
    "# )\n",
    "# # TODO add an edge ID to RER lines! \n",
    "# # Are all RER lines present?\n",
    "# print('forgotten lines = ', len(RER_lines) - len(edges_with_id.loc[edges_with_id['edgetype'] == 'RER']))\n",
    "# # Are all RER stations present?\n",
    "# print('forgotten stations = ', len(RER_stations) - len(nodes_carbike_centroids_RER_complete.loc[nodes_carbike_centroids_RER_complete['RER']==True]))\n"
   ]
  },
  {
   "cell_type": "code",
   "execution_count": 99,
   "id": "287a0f9f",
   "metadata": {},
   "outputs": [
    {
     "data": {
      "text/plain": [
       "x           0\n",
       "y           0\n",
       "length      0\n",
       "geometry    0\n",
       "edgetype    0\n",
       "edge_id     0\n",
       "id          0\n",
       "from_id     0\n",
       "to_id       0\n",
       "dtype: int64"
      ]
     },
     "execution_count": 99,
     "metadata": {},
     "output_type": "execute_result"
    }
   ],
   "source": [
    "#--- Fill in the 'length' column\n",
    "edges_with_id = edges_with_id.set_crs(crs_fr).to_crs(2154) #change crs for accuracy of length\n",
    "edges_with_id['length'] = edges_with_id.length\n",
    "edges_with_id = edges_with_id.to_crs(crs_fr) #change crs back to original \n",
    "\n",
    "#--- Drop duplicates\n",
    "edges_with_id = edges_with_id.drop_duplicates(subset = [\"x\", \"y\"], keep = \"first\", ignore_index = True)\n",
    "\n",
    "edges_with_id.isnull().sum() # no more NaNs at all!!"
   ]
  },
  {
   "cell_type": "code",
   "execution_count": 100,
   "id": "007f09ea",
   "metadata": {},
   "outputs": [
    {
     "data": {
      "text/html": [
       "<div>\n",
       "<style scoped>\n",
       "    .dataframe tbody tr th:only-of-type {\n",
       "        vertical-align: middle;\n",
       "    }\n",
       "\n",
       "    .dataframe tbody tr th {\n",
       "        vertical-align: top;\n",
       "    }\n",
       "\n",
       "    .dataframe thead th {\n",
       "        text-align: right;\n",
       "    }\n",
       "</style>\n",
       "<table border=\"1\" class=\"dataframe\">\n",
       "  <thead>\n",
       "    <tr style=\"text-align: right;\">\n",
       "      <th></th>\n",
       "      <th>x</th>\n",
       "      <th>y</th>\n",
       "      <th>length</th>\n",
       "      <th>geometry</th>\n",
       "      <th>edgetype</th>\n",
       "      <th>edge_id</th>\n",
       "      <th>id</th>\n",
       "      <th>from_id</th>\n",
       "      <th>to_id</th>\n",
       "      <th>weight</th>\n",
       "    </tr>\n",
       "  </thead>\n",
       "  <tbody>\n",
       "    <tr>\n",
       "      <th>0</th>\n",
       "      <td>122926.0</td>\n",
       "      <td>318399738.0</td>\n",
       "      <td>1622.179102</td>\n",
       "      <td>LINESTRING (2.46355 48.88408, 2.46236 48.88415...</td>\n",
       "      <td>car</td>\n",
       "      <td>[122926.0, 318399738.0]</td>\n",
       "      <td>0</td>\n",
       "      <td>122926</td>\n",
       "      <td>318399738</td>\n",
       "      <td>19.473939</td>\n",
       "    </tr>\n",
       "  </tbody>\n",
       "</table>\n",
       "</div>"
      ],
      "text/plain": [
       "          x            y       length  \\\n",
       "0  122926.0  318399738.0  1622.179102   \n",
       "\n",
       "                                            geometry edgetype  \\\n",
       "0  LINESTRING (2.46355 48.88408, 2.46236 48.88415...      car   \n",
       "\n",
       "                   edge_id  id  from_id      to_id     weight  \n",
       "0  [122926.0, 318399738.0]   0   122926  318399738  19.473939  "
      ]
     },
     "execution_count": 100,
     "metadata": {},
     "output_type": "execute_result"
    }
   ],
   "source": [
    "# Add travel time column\n",
    "# TODO check speeds again\n",
    "# Define speeds in meters per minute #TODO add source\n",
    "speed_dict = {'bike' : 250,\n",
    "              'both' : 250, # If you can bike then you will bike\n",
    "              'car' : 83.3,\n",
    "              'RER' : 1000}\n",
    "\n",
    "edges_with_id['weight'] = edges_with_id.apply(lambda row: row['length'] / speed_dict[row['edgetype']], axis = 1)\n",
    "edges_with_id.head(1)"
   ]
  },
  {
   "cell_type": "code",
   "execution_count": 101,
   "id": "2e2e6265",
   "metadata": {},
   "outputs": [
    {
     "data": {
      "text/html": [
       "<div>\n",
       "<style scoped>\n",
       "    .dataframe tbody tr th:only-of-type {\n",
       "        vertical-align: middle;\n",
       "    }\n",
       "\n",
       "    .dataframe tbody tr th {\n",
       "        vertical-align: top;\n",
       "    }\n",
       "\n",
       "    .dataframe thead th {\n",
       "        text-align: right;\n",
       "    }\n",
       "</style>\n",
       "<table border=\"1\" class=\"dataframe\">\n",
       "  <thead>\n",
       "    <tr style=\"text-align: right;\">\n",
       "      <th></th>\n",
       "      <th>x</th>\n",
       "      <th>y</th>\n",
       "      <th>length</th>\n",
       "      <th>geometry</th>\n",
       "      <th>edgetype</th>\n",
       "      <th>edge_id</th>\n",
       "      <th>id</th>\n",
       "      <th>from_id</th>\n",
       "      <th>to_id</th>\n",
       "      <th>weight</th>\n",
       "    </tr>\n",
       "  </thead>\n",
       "  <tbody>\n",
       "    <tr>\n",
       "      <th>907</th>\n",
       "      <td>19405751.0</td>\n",
       "      <td>1.835516e+09</td>\n",
       "      <td>130.999279</td>\n",
       "      <td>LINESTRING (2.35128 48.88374, 2.35117 48.88371...</td>\n",
       "      <td>both</td>\n",
       "      <td>[19405751.0, 1835516159.0]</td>\n",
       "      <td>907</td>\n",
       "      <td>19405751</td>\n",
       "      <td>1835516159</td>\n",
       "      <td>0.523997</td>\n",
       "    </tr>\n",
       "    <tr>\n",
       "      <th>944</th>\n",
       "      <td>979091346.0</td>\n",
       "      <td>3.999929e+09</td>\n",
       "      <td>146.312480</td>\n",
       "      <td>LINESTRING (2.32776 48.88371, 2.32781 48.88367...</td>\n",
       "      <td>both</td>\n",
       "      <td>[979091346.0, 3999929419.0]</td>\n",
       "      <td>944</td>\n",
       "      <td>979091346</td>\n",
       "      <td>3999929419</td>\n",
       "      <td>0.585250</td>\n",
       "    </tr>\n",
       "    <tr>\n",
       "      <th>1332</th>\n",
       "      <td>21292407.0</td>\n",
       "      <td>2.129241e+07</td>\n",
       "      <td>252.831713</td>\n",
       "      <td>LINESTRING (2.34499 48.83496, 2.34484 48.83490...</td>\n",
       "      <td>both</td>\n",
       "      <td>[21292407.0, 21292409.0]</td>\n",
       "      <td>1332</td>\n",
       "      <td>21292407</td>\n",
       "      <td>21292409</td>\n",
       "      <td>1.011327</td>\n",
       "    </tr>\n",
       "    <tr>\n",
       "      <th>1653</th>\n",
       "      <td>174996906.0</td>\n",
       "      <td>2.462866e+08</td>\n",
       "      <td>270.965866</td>\n",
       "      <td>LINESTRING (2.36805 48.87951, 2.36816 48.87953...</td>\n",
       "      <td>both</td>\n",
       "      <td>[174996906.0, 246286550.0]</td>\n",
       "      <td>1653</td>\n",
       "      <td>174996906</td>\n",
       "      <td>246286550</td>\n",
       "      <td>1.083863</td>\n",
       "    </tr>\n",
       "    <tr>\n",
       "      <th>1656</th>\n",
       "      <td>621240917.0</td>\n",
       "      <td>1.780918e+07</td>\n",
       "      <td>200.200301</td>\n",
       "      <td>LINESTRING (2.36719 48.87893, 2.36719 48.87887...</td>\n",
       "      <td>both</td>\n",
       "      <td>[621240917.0, 17809179.0]</td>\n",
       "      <td>1656</td>\n",
       "      <td>621240917</td>\n",
       "      <td>17809179</td>\n",
       "      <td>0.800801</td>\n",
       "    </tr>\n",
       "    <tr>\n",
       "      <th>...</th>\n",
       "      <td>...</td>\n",
       "      <td>...</td>\n",
       "      <td>...</td>\n",
       "      <td>...</td>\n",
       "      <td>...</td>\n",
       "      <td>...</td>\n",
       "      <td>...</td>\n",
       "      <td>...</td>\n",
       "      <td>...</td>\n",
       "      <td>...</td>\n",
       "    </tr>\n",
       "    <tr>\n",
       "      <th>169209</th>\n",
       "      <td>2661.0</td>\n",
       "      <td>1.181730e+05</td>\n",
       "      <td>9.927768</td>\n",
       "      <td>LINESTRING (2.45812 48.92539, 2.45819 48.92531)</td>\n",
       "      <td>both</td>\n",
       "      <td>[2661.0, 118173.0]</td>\n",
       "      <td>169216</td>\n",
       "      <td>2661</td>\n",
       "      <td>118173</td>\n",
       "      <td>0.039711</td>\n",
       "    </tr>\n",
       "    <tr>\n",
       "      <th>169210</th>\n",
       "      <td>2662.0</td>\n",
       "      <td>1.181740e+05</td>\n",
       "      <td>0.564079</td>\n",
       "      <td>LINESTRING (2.31503 48.79468, 2.31504 48.79469)</td>\n",
       "      <td>both</td>\n",
       "      <td>[2662.0, 118174.0]</td>\n",
       "      <td>169217</td>\n",
       "      <td>2662</td>\n",
       "      <td>118174</td>\n",
       "      <td>0.002256</td>\n",
       "    </tr>\n",
       "    <tr>\n",
       "      <th>169211</th>\n",
       "      <td>2663.0</td>\n",
       "      <td>1.181750e+05</td>\n",
       "      <td>58.928485</td>\n",
       "      <td>LINESTRING (2.48084 48.94737, 2.48044 48.94691)</td>\n",
       "      <td>both</td>\n",
       "      <td>[2663.0, 118175.0]</td>\n",
       "      <td>169218</td>\n",
       "      <td>2663</td>\n",
       "      <td>118175</td>\n",
       "      <td>0.235714</td>\n",
       "    </tr>\n",
       "    <tr>\n",
       "      <th>169212</th>\n",
       "      <td>2664.0</td>\n",
       "      <td>1.181760e+05</td>\n",
       "      <td>17.953586</td>\n",
       "      <td>LINESTRING (2.27666 48.76719, 2.27667 48.76703)</td>\n",
       "      <td>both</td>\n",
       "      <td>[2664.0, 118176.0]</td>\n",
       "      <td>169219</td>\n",
       "      <td>2664</td>\n",
       "      <td>118176</td>\n",
       "      <td>0.071814</td>\n",
       "    </tr>\n",
       "    <tr>\n",
       "      <th>169213</th>\n",
       "      <td>2665.0</td>\n",
       "      <td>1.181770e+05</td>\n",
       "      <td>90.954135</td>\n",
       "      <td>LINESTRING (2.39441 48.91240, 2.39423 48.91159)</td>\n",
       "      <td>both</td>\n",
       "      <td>[2665.0, 118177.0]</td>\n",
       "      <td>169220</td>\n",
       "      <td>2665</td>\n",
       "      <td>118177</td>\n",
       "      <td>0.363817</td>\n",
       "    </tr>\n",
       "  </tbody>\n",
       "</table>\n",
       "<p>2753 rows × 10 columns</p>\n",
       "</div>"
      ],
      "text/plain": [
       "                  x             y      length  \\\n",
       "907      19405751.0  1.835516e+09  130.999279   \n",
       "944     979091346.0  3.999929e+09  146.312480   \n",
       "1332     21292407.0  2.129241e+07  252.831713   \n",
       "1653    174996906.0  2.462866e+08  270.965866   \n",
       "1656    621240917.0  1.780918e+07  200.200301   \n",
       "...             ...           ...         ...   \n",
       "169209       2661.0  1.181730e+05    9.927768   \n",
       "169210       2662.0  1.181740e+05    0.564079   \n",
       "169211       2663.0  1.181750e+05   58.928485   \n",
       "169212       2664.0  1.181760e+05   17.953586   \n",
       "169213       2665.0  1.181770e+05   90.954135   \n",
       "\n",
       "                                                 geometry edgetype  \\\n",
       "907     LINESTRING (2.35128 48.88374, 2.35117 48.88371...     both   \n",
       "944     LINESTRING (2.32776 48.88371, 2.32781 48.88367...     both   \n",
       "1332    LINESTRING (2.34499 48.83496, 2.34484 48.83490...     both   \n",
       "1653    LINESTRING (2.36805 48.87951, 2.36816 48.87953...     both   \n",
       "1656    LINESTRING (2.36719 48.87893, 2.36719 48.87887...     both   \n",
       "...                                                   ...      ...   \n",
       "169209    LINESTRING (2.45812 48.92539, 2.45819 48.92531)     both   \n",
       "169210    LINESTRING (2.31503 48.79468, 2.31504 48.79469)     both   \n",
       "169211    LINESTRING (2.48084 48.94737, 2.48044 48.94691)     both   \n",
       "169212    LINESTRING (2.27666 48.76719, 2.27667 48.76703)     both   \n",
       "169213    LINESTRING (2.39441 48.91240, 2.39423 48.91159)     both   \n",
       "\n",
       "                            edge_id      id    from_id       to_id    weight  \n",
       "907      [19405751.0, 1835516159.0]     907   19405751  1835516159  0.523997  \n",
       "944     [979091346.0, 3999929419.0]     944  979091346  3999929419  0.585250  \n",
       "1332       [21292407.0, 21292409.0]    1332   21292407    21292409  1.011327  \n",
       "1653     [174996906.0, 246286550.0]    1653  174996906   246286550  1.083863  \n",
       "1656      [621240917.0, 17809179.0]    1656  621240917    17809179  0.800801  \n",
       "...                             ...     ...        ...         ...       ...  \n",
       "169209           [2661.0, 118173.0]  169216       2661      118173  0.039711  \n",
       "169210           [2662.0, 118174.0]  169217       2662      118174  0.002256  \n",
       "169211           [2663.0, 118175.0]  169218       2663      118175  0.235714  \n",
       "169212           [2664.0, 118176.0]  169219       2664      118176  0.071814  \n",
       "169213           [2665.0, 118177.0]  169220       2665      118177  0.363817  \n",
       "\n",
       "[2753 rows x 10 columns]"
      ]
     },
     "execution_count": 101,
     "metadata": {},
     "output_type": "execute_result"
    }
   ],
   "source": [
    "edges_with_id.loc[edges_with_id['edgetype'] == 'both']"
   ]
  },
  {
   "cell_type": "code",
   "execution_count": 102,
   "id": "b071c255",
   "metadata": {},
   "outputs": [
    {
     "name": "stdout",
     "output_type": "stream",
     "text": [
      "([], [])\n"
     ]
    }
   ],
   "source": [
    "print(check_missing_nodes(edges_with_id['x'], edges_with_id['y'], nodes_carbike_centroids_RER_complete['osmid']))\n",
    "# First list empty:all nodes in nodes_carbike_complete are present in some edge of edges_with_id\n",
    "# Second list empty:  all nodes in edges_with_id exist in nodes_carbike_complete"
   ]
  },
  {
   "cell_type": "code",
   "execution_count": 103,
   "id": "ae22b747",
   "metadata": {},
   "outputs": [],
   "source": [
    "#--- Save everything for future use\n",
    "edges_with_id_csv = pd.DataFrame(edges_with_id)\n",
    "edges_with_id_csv.to_csv('data/clean/initial_network_edges.csv', index = False) \n",
    "\n",
    "nodes_carbike_centroids_RER_complete_csv = pd.DataFrame(nodes_carbike_centroids_RER_complete)\n",
    "nodes_carbike_centroids_RER_complete_csv.to_csv('data/processed/initial_network_nodes.csv', index = False)"
   ]
  },
  {
   "attachments": {},
   "cell_type": "markdown",
   "id": "7e353833-64f6-4c40-8b82-3fc01c1fcd1f",
   "metadata": {
    "tags": []
   },
   "source": [
    "## Bringing it all together in NetworkX\n",
    "- import all nodes and edges to one big graph\n",
    "- create subgraphs for (the RER OLD) and the bike network"
   ]
  },
  {
   "cell_type": "code",
   "execution_count": 13,
   "id": "963c116c",
   "metadata": {},
   "outputs": [],
   "source": [
    "#--- Get data, turn to GeoDataFrame\n",
    "# Edges\n",
    "edges_with_id = pd.read_csv('data/clean/initial_network_edges.csv') \n",
    "edges_with_id['edge_id'] = edges_with_id['edge_id'].apply(convert_path_to_list)\n",
    "edges_with_id['edge_id'] = edges_with_id['edge_id'].apply(lambda x: [int(float(num)) for num in x])\n",
    "edges_with_id['edge_id'] = edges_with_id['edge_id'].apply(lambda x: sorted(x))\n",
    "edges_with_id['x'] = edges_with_id['edge_id'].apply(lambda x: x[0])\n",
    "edges_with_id['y'] = edges_with_id['edge_id'].apply(lambda x: x[1])\n",
    "\n",
    "edges_with_id[\"geometry\"] = edges_with_id.apply(lambda x: shapely.wkt.loads(x.geometry), axis = 1)\n",
    "edges_with_id = gpd.GeoDataFrame(edges_with_id, geometry = 'geometry', crs = crs_fr)\n",
    "\n",
    "# Nodes\n",
    "### CAREFUL!!!! you have to change the file name if this is your first time! \n",
    "nodes_carbike_centroids_RER_complete = pd.read_csv('data/clean/initial_network_nodes_complete.csv') \n",
    "nodes_carbike_centroids_RER_complete[\"geometry\"] = nodes_carbike_centroids_RER_complete.apply(lambda x: shapely.wkt.loads(x.geometry), axis = 1)\n",
    "nodes_carbike_centroids_RER_complete = gpd.GeoDataFrame(nodes_carbike_centroids_RER_complete, geometry = 'geometry', crs = crs_fr)\n",
    "\n",
    "# GPM\n",
    "GPM = GPM.to_crs(edges_with_id.crs)"
   ]
  },
  {
   "cell_type": "code",
   "execution_count": 14,
   "id": "9d9da28b",
   "metadata": {},
   "outputs": [],
   "source": [
    "# Recreate the attr_dict because python ...\n",
    "nodes_carbike_centroids_RER_complete[\"attr_dict\"] = nodes_carbike_centroids_RER_complete.apply(lambda x: make_attr_dict(\n",
    "                                                                  nodetype = x.nodetype,\n",
    "                                                                  centroid = x.centroid,\n",
    "                                                                  RER = x.RER,\n",
    "                                                                  IRIS = x.CODE_IRIS,\n",
    "                                                                  pop_dens = x.pop_density,\n",
    "                                                                  active_pop_density = x.active_pop_density,\n",
    "                                                                  school_pop_density = x.school_pop_density,\n",
    "                                                                  num_schools = x.school_count,\n",
    "                                                                  num_jobs = x.num_jobs,\n",
    "                                                                  ),\n",
    "                                                                  axis = 1) "
   ]
  },
  {
   "cell_type": "code",
   "execution_count": 15,
   "id": "3a6723bc",
   "metadata": {},
   "outputs": [
    {
     "name": "stdout",
     "output_type": "stream",
     "text": [
      "0\n",
      "-20\n"
     ]
    }
   ],
   "source": [
    "#--- Create Graph with all nodes and edges\n",
    "G = nx.from_pandas_edgelist(edges_with_id, source='x', target='y', edge_attr=True)\n",
    "G.add_nodes_from(nodes_carbike_centroids_RER_complete.loc[:,[\"osmid\", \"attr_dict\"]].itertuples(index = False))\n",
    "\n",
    "#--- Check if all nodes and edges are present\n",
    "# Both should be 0\n",
    "print(len(G.nodes()) - len(nodes_carbike_centroids_RER_complete))\n",
    "print(len(G.edges()) - len(edges_with_id)) #19?\n"
   ]
  },
  {
   "cell_type": "code",
   "execution_count": 16,
   "id": "ab845691",
   "metadata": {},
   "outputs": [
    {
     "name": "stdout",
     "output_type": "stream",
     "text": [
      "14527\n",
      "-4\n"
     ]
    }
   ],
   "source": [
    "#--- Create \"bikeable\" network B (Anastassia)\n",
    "B = G.copy()\n",
    "bikeable_nodes = [node for node in B.nodes if B.nodes[node][\"nodetype\"]!=\"car\" and B.nodes[node][\"nodetype\"]!=\"RER\"] \n",
    "B_noncar_induced = B.subgraph(bikeable_nodes).copy() \n",
    "\n",
    "# induced subgraph - still contains the car edges that lie between multi nodes; - exclude them:\n",
    "banw = B_noncar_induced.copy()\n",
    "banw.remove_edges_from([edge for edge in banw.edges if banw.edges[edge][\"edgetype\"]==\"car\"])\n",
    "banw.remove_edges_from([edge for edge in banw.edges if banw.edges[edge][\"edgetype\"]==\"RER\"])\n",
    "\n",
    "#--- Check if all nodes and edges are present\n",
    "# Both should be 0\n",
    "print(len(banw.nodes()) \n",
    "      - len(nodes_carbike_centroids_RER_complete.loc[nodes_carbike_centroids_RER_complete['nodetype'] == 'bike']))\n",
    "print(len(banw.edges()) \n",
    "      - len(edges_with_id.loc[edges_with_id['edgetype'] == 'bike']) \n",
    "      - len(edges_with_id.loc[edges_with_id['edgetype'] == 'both'])) # -3?\n"
   ]
  },
  {
   "cell_type": "code",
   "execution_count": 139,
   "id": "f9a5f102",
   "metadata": {},
   "outputs": [],
   "source": [
    "# #--- Create \"RER\" network R (based on Anastassia)\n",
    "# R = G.copy()\n",
    "# RER_nodes = [node for node in R.nodes if (R.nodes[node][\"RER\"] == True)] \n",
    "# R_noncar_induced = R.subgraph(RER_nodes).copy() \n",
    "\n",
    "# # induced subgraph - still contains the car edges that lie between multi nodes; - exclude them:\n",
    "# RERG = R_noncar_induced.copy()\n",
    "# RERG.remove_edges_from([edge for edge in RERG.edges if RERG.edges[edge][\"edgetype\"]==\"car\"])\n",
    "# RERG.remove_edges_from([edge for edge in RERG.edges if RERG.edges[edge][\"edgetype\"]==\"bike\"])\n",
    "\n",
    "# #--- Check if all nodes and edges are present\n",
    "# # Both should be 0\n",
    "# print(len(RERG.nodes()) \n",
    "#       - len(nodes_carbike_centroids_RER_complete.loc[nodes_carbike_centroids_RER_complete['RER'] == True]))\n",
    "# print(len(RERG.edges()) \n",
    "#       - len(edges_with_id.loc[edges_with_id['edgetype'] == 'RER']) ) \n"
   ]
  },
  {
   "cell_type": "code",
   "execution_count": 17,
   "id": "cf928dc5",
   "metadata": {},
   "outputs": [
    {
     "name": "stdout",
     "output_type": "stream",
     "text": [
      "True\n",
      "False\n"
     ]
    }
   ],
   "source": [
    "#--- Make all networks undirected\n",
    "G = G.to_undirected()\n",
    "print(nx.is_connected(G)) # True\n",
    "banw = banw.to_undirected()\n",
    "print(nx.is_connected(banw)) # most likely False\n",
    "# RERG = RERG.to_undirected()\n",
    "# print(nx.is_connected(RERG)) # True"
   ]
  },
  {
   "cell_type": "code",
   "execution_count": 141,
   "id": "d17e8fd6",
   "metadata": {},
   "outputs": [],
   "source": [
    "# #--- Routing between centroids\n",
    "# # Pick two random nodes with centroid = True\n",
    "# start_node = nodes_carbike_centroids_RER_complete.loc[nodes_carbike_centroids_RER_complete['centroid'] == True].sample(1)\n",
    "# end_node = nodes_carbike_centroids_RER_complete.loc[nodes_carbike_centroids_RER_complete['centroid'] == True].sample(1)\n",
    "\n",
    "# # Check if they are connected on the bike network\n",
    "# print(nx.has_path(banw, start_node['osmid'].iloc[0], end_node['osmid'].iloc[0]))\n",
    "\n",
    "# # Check if they are connected on the car network\n",
    "# # This should always return True!!!!!!!\n",
    "# print(nx.has_path(G, start_node['osmid'].iloc[0], end_node['osmid'].iloc[0]))\n",
    "\n",
    "# #--- Routing between RER stations\n",
    "\n",
    "# # Pick two random nodes with RER = True\n",
    "# start_node = nodes_carbike_centroids_RER_complete.loc[nodes_carbike_centroids_RER_complete['RER'] == True].sample(1)\n",
    "# end_node = nodes_carbike_centroids_RER_complete.loc[nodes_carbike_centroids_RER_complete['RER'] == True].sample(1)\n",
    "\n",
    "# # Check if they are connected on the bike network\n",
    "# print(nx.has_path(banw, start_node['osmid'].iloc[0], end_node['osmid'].iloc[0])) #Can be false\n",
    "\n",
    "# # Check if they are connected on the car network\n",
    "# print(nx.has_path(G, start_node['osmid'].iloc[0], end_node['osmid'].iloc[0])) #always True\n",
    "\n",
    "# # Check if they are connected on the RER network\n",
    "# print(nx.has_path(RERG, start_node['osmid'].iloc[0], end_node['osmid'].iloc[0])) #always True\n",
    "\n"
   ]
  },
  {
   "cell_type": "code",
   "execution_count": 142,
   "id": "0091bcb0",
   "metadata": {},
   "outputs": [],
   "source": [
    "# # Plot of bike network Vs. car network\n",
    "\n",
    "# ax = plt.axes()\n",
    "# plt.axis('off')\n",
    "# edges_with_id.loc[edges_with_id['edgetype'] == 'bike'].plot(ax=ax, linewidth = 0.5, alpha = 1, edgecolor = 'red')\n",
    "# edges_with_id.loc[edges_with_id['edgetype'] == 'car'].plot(ax=ax, linewidth = 0.3, alpha = 0.5)\n",
    "# nodes_carbike_centroids_RER_complete.loc[nodes_carbike_centroids_RER_complete['centroid'] == True].plot(ax=ax, markersize = 5, facecolor = 'black', alpha = 1)\n",
    "# GPM.plot(ax=ax, facecolor = 'none', edgecolor = 'black', linewidth = 1)"
   ]
  },
  {
   "attachments": {},
   "cell_type": "markdown",
   "id": "484ff116",
   "metadata": {},
   "source": [
    "# Set up IGraph / NetworkX interface"
   ]
  },
  {
   "cell_type": "code",
   "execution_count": 18,
   "id": "740e3053",
   "metadata": {},
   "outputs": [],
   "source": [
    "#--- Moving to igraph\n",
    "\n",
    "# conversion to igraph\n",
    "g = ig.Graph.from_networkx(G)\n",
    "b = ig.Graph.from_networkx(banw)\n",
    "\n",
    "# eids: \"conversion table\" for edge ids from igraph to nx \n",
    "# MOD removed literal_eval\n",
    "eids_nx = [tuple(sorted(g.es(i)[\"edge_id\"][0])) for i in range(len(g.es))]\n",
    "eids_ig = [i for i in range(len(g.es))]\n",
    "eids_conv = pd.DataFrame({\"nx\": eids_nx, \"ig\": eids_ig})\n",
    "\n",
    "# nids: \"conversion table\" for node ids from igraph to nx\n",
    "nids_nx = [g.vs(i)[\"_nx_name\"][0] for i in range(len(g.vs))]\n",
    "nids_ig = [i for i in range(len(g.vs))]\n",
    "nids_conv = pd.DataFrame({\"nx\": nids_nx, \"ig\": nids_ig})\n",
    "\n",
    "# eids_conv.to_pickle(\"./data/pickle/eids_conv.pickle\")\n",
    "# nids_conv.to_pickle(\"./data/pickle/nids_conv.pickle\")\n",
    "\n",
    "g.write_graphml(\"data/clean/i_graph.graphml\")\n",
    "eids_conv.to_csv('data/clean/eids_conv.csv')\n",
    "nids_conv.to_csv('data/clean/nids_conv.csv')"
   ]
  },
  {
   "cell_type": "code",
   "execution_count": 144,
   "id": "a306a26e",
   "metadata": {},
   "outputs": [],
   "source": [
    "# %%time\n",
    "# ### CAREFUL: THIS TAKES 1.5 HOURS!!!\n",
    "# # extract edge and node attributes as dictionaries\n",
    "\n",
    "# tnd = nx.get_node_attributes(G, \"nodetype\") # type of nodes dictionary tnd\n",
    "# ted = nx.get_edge_attributes(G, \"edgetype\") # type of edges dictionary tnd\n",
    "# led = nx.get_edge_attributes(G, \"length\") # length of edges dictionary led\n",
    "# cnd = nx.get_node_attributes(G, \"pos\") # coordinates of nodes dictionary cnd\n",
    "ced = nx.get_edge_attributes(G, \"geometry\") # coordinates of edges dictionary ced\n",
    "ced = {tuple(sorted(key)): value for key, value in ced.items()}\n",
    "\n",
    "# # make data frame of ebc with:\n",
    "# ebc = pd.DataFrame({\"edge_ig\": [e.index for e in g.es]}) # igraph edge ID\n",
    "# ebc[\"edge_nx\"] = ebc.apply(lambda x: tuple(literal_eval(g.es[x.edge_ig][\"edge_id\"])), axis = 1) # nx edge ID\n",
    "# ebc[\"length\"] = ebc.apply(lambda x: g.es[x.edge_ig][\"length\"], axis = 1) # length in meters\n",
    "\n",
    "# # compute ebcs:\n",
    "# ebc[\"ebc_inf\"] = g.edge_betweenness(directed = False, cutoff = None, weights = \"length\") # \"standard\" ebc\n",
    "# # ebc[\"ebc_lambda\"] = g.edge_betweenness(directed = False, cutoff = 2500, weights = \"length\") # ebc only including *paths* below 2500m\n",
    "\n"
   ]
  },
  {
   "cell_type": "code",
   "execution_count": 145,
   "id": "c2f28db4",
   "metadata": {},
   "outputs": [],
   "source": [
    "# ebc.to_pickle(\"./data/pickle/ebc.pickle\")"
   ]
  },
  {
   "attachments": {},
   "cell_type": "markdown",
   "id": "ec2d4c9d",
   "metadata": {},
   "source": [
    "# Identify gaps (easier to do it here than to create yet another notebook)"
   ]
  },
  {
   "attachments": {},
   "cell_type": "markdown",
   "id": "676cae64",
   "metadata": {},
   "source": [
    "## Find gaps "
   ]
  },
  {
   "cell_type": "code",
   "execution_count": 147,
   "id": "a31bd87d",
   "metadata": {},
   "outputs": [
    {
     "name": "stdout",
     "output_type": "stream",
     "text": [
      "3159950 gaps found\n"
     ]
    }
   ],
   "source": [
    "# cs: set of car edges\n",
    "cs = set()\n",
    "for edge in eids_conv[\"ig\"]:\n",
    "    if g.es[edge][\"edgetype\"] == \"car\":\n",
    "        cs.add(edge)\n",
    "\n",
    "mygaps = []\n",
    "\n",
    "# ALL CONTACT NODES FROM THE NETWORK\n",
    "nodestack = [node.index for node in g.vs() if g.vs[node.index][\"nodetype\"] == \"both\"]\n",
    "count = 0\n",
    "\n",
    "mygaps = []  # Initialize the list to store processed paths\n",
    "\n",
    "while nodestack:\n",
    "\n",
    "    node = nodestack.pop()\n",
    "\n",
    "    # ADDING SHORTEST PATHS FROM CURRENT NODE TO ALL OTHER NODES REMAINING IN THE STACK\n",
    "    plist = g.get_shortest_paths(node, to=nodestack, weights=\"length\", mode=\"out\", output=\"epath\")\n",
    "\n",
    "    # PROCESSING EACH PATH\n",
    "    for path in plist:\n",
    "        # Check if the path consists only of car edges\n",
    "        if set(path).issubset(cs):\n",
    "            # Add the path to the list of processed paths\n",
    "            mygaps.append(path)\n",
    "\n",
    "    # Delete the processed chunk\n",
    "    del(plist)\n",
    "\n",
    "print(len(mygaps), \"gaps found\")\n",
    "# CONVERT GAPS LIST TO DF AND ADD LENGTH, ORIGIN, DESTINATION\n",
    "# to df\n",
    "mygaps = pd.DataFrame({\"path\": mygaps})\n",
    "mygaps = mygaps.dropna().copy()"
   ]
  },
  {
   "cell_type": "code",
   "execution_count": 151,
   "id": "39c5842b",
   "metadata": {},
   "outputs": [],
   "source": [
    "# save mygaps as csv for future use\n",
    "mygaps.to_csv(\"./data/clean/mygaps.csv\", index=False)"
   ]
  },
  {
   "attachments": {},
   "cell_type": "markdown",
   "id": "ad3f7e73",
   "metadata": {},
   "source": [
    "## Post-finding processing"
   ]
  },
  {
   "attachments": {},
   "cell_type": "markdown",
   "id": "b249222a",
   "metadata": {},
   "source": [
    "### 1)"
   ]
  },
  {
   "cell_type": "code",
   "execution_count": 3,
   "id": "3f32e488",
   "metadata": {},
   "outputs": [],
   "source": [
    "#read mygaps from csv\n",
    "mygaps = pd.read_csv(\"./data/clean/mygaps.csv\")"
   ]
  },
  {
   "cell_type": "code",
   "execution_count": 154,
   "id": "373d3dae",
   "metadata": {},
   "outputs": [],
   "source": [
    "# divide the dataframe into multiple\n",
    "\n",
    "# Define the number of rows per chunk\n",
    "rows_per_chunk = 50000\n",
    "\n",
    "# Calculate the number of chunks\n",
    "num_chunks = int(len(mygaps) / rows_per_chunk) + 1\n",
    "\n",
    "# Split the dataframe into smaller chunks\n",
    "df_chunks = [mygaps[i*rows_per_chunk:(i+1)*rows_per_chunk] for i in range(num_chunks)]"
   ]
  },
  {
   "cell_type": "code",
   "execution_count": 156,
   "id": "df7e2ee5",
   "metadata": {},
   "outputs": [
    {
     "name": "stdout",
     "output_type": "stream",
     "text": [
      "chunk 1 of 64\n"
     ]
    },
    {
     "name": "stderr",
     "output_type": "stream",
     "text": [
      "<timed exec>:10: SettingWithCopyWarning: \n",
      "A value is trying to be set on a copy of a slice from a DataFrame.\n",
      "Try using .loc[row_indexer,col_indexer] = value instead\n",
      "\n",
      "See the caveats in the documentation: https://pandas.pydata.org/pandas-docs/stable/user_guide/indexing.html#returning-a-view-versus-a-copy\n",
      "<timed exec>:14: SettingWithCopyWarning: \n",
      "A value is trying to be set on a copy of a slice from a DataFrame.\n",
      "Try using .loc[row_indexer,col_indexer] = value instead\n",
      "\n",
      "See the caveats in the documentation: https://pandas.pydata.org/pandas-docs/stable/user_guide/indexing.html#returning-a-view-versus-a-copy\n",
      "<timed exec>:18: SettingWithCopyWarning: \n",
      "A value is trying to be set on a copy of a slice from a DataFrame.\n",
      "Try using .loc[row_indexer,col_indexer] = value instead\n",
      "\n",
      "See the caveats in the documentation: https://pandas.pydata.org/pandas-docs/stable/user_guide/indexing.html#returning-a-view-versus-a-copy\n"
     ]
    },
    {
     "name": "stdout",
     "output_type": "stream",
     "text": [
      "chunk 2 of 64\n"
     ]
    },
    {
     "name": "stderr",
     "output_type": "stream",
     "text": [
      "<timed exec>:10: SettingWithCopyWarning: \n",
      "A value is trying to be set on a copy of a slice from a DataFrame.\n",
      "Try using .loc[row_indexer,col_indexer] = value instead\n",
      "\n",
      "See the caveats in the documentation: https://pandas.pydata.org/pandas-docs/stable/user_guide/indexing.html#returning-a-view-versus-a-copy\n",
      "<timed exec>:14: SettingWithCopyWarning: \n",
      "A value is trying to be set on a copy of a slice from a DataFrame.\n",
      "Try using .loc[row_indexer,col_indexer] = value instead\n",
      "\n",
      "See the caveats in the documentation: https://pandas.pydata.org/pandas-docs/stable/user_guide/indexing.html#returning-a-view-versus-a-copy\n",
      "<timed exec>:18: SettingWithCopyWarning: \n",
      "A value is trying to be set on a copy of a slice from a DataFrame.\n",
      "Try using .loc[row_indexer,col_indexer] = value instead\n",
      "\n",
      "See the caveats in the documentation: https://pandas.pydata.org/pandas-docs/stable/user_guide/indexing.html#returning-a-view-versus-a-copy\n"
     ]
    },
    {
     "name": "stdout",
     "output_type": "stream",
     "text": [
      "chunk 3 of 64\n"
     ]
    },
    {
     "name": "stderr",
     "output_type": "stream",
     "text": [
      "<timed exec>:10: SettingWithCopyWarning: \n",
      "A value is trying to be set on a copy of a slice from a DataFrame.\n",
      "Try using .loc[row_indexer,col_indexer] = value instead\n",
      "\n",
      "See the caveats in the documentation: https://pandas.pydata.org/pandas-docs/stable/user_guide/indexing.html#returning-a-view-versus-a-copy\n",
      "<timed exec>:14: SettingWithCopyWarning: \n",
      "A value is trying to be set on a copy of a slice from a DataFrame.\n",
      "Try using .loc[row_indexer,col_indexer] = value instead\n",
      "\n",
      "See the caveats in the documentation: https://pandas.pydata.org/pandas-docs/stable/user_guide/indexing.html#returning-a-view-versus-a-copy\n",
      "<timed exec>:18: SettingWithCopyWarning: \n",
      "A value is trying to be set on a copy of a slice from a DataFrame.\n",
      "Try using .loc[row_indexer,col_indexer] = value instead\n",
      "\n",
      "See the caveats in the documentation: https://pandas.pydata.org/pandas-docs/stable/user_guide/indexing.html#returning-a-view-versus-a-copy\n"
     ]
    },
    {
     "name": "stdout",
     "output_type": "stream",
     "text": [
      "chunk 4 of 64\n"
     ]
    },
    {
     "name": "stderr",
     "output_type": "stream",
     "text": [
      "<timed exec>:10: SettingWithCopyWarning: \n",
      "A value is trying to be set on a copy of a slice from a DataFrame.\n",
      "Try using .loc[row_indexer,col_indexer] = value instead\n",
      "\n",
      "See the caveats in the documentation: https://pandas.pydata.org/pandas-docs/stable/user_guide/indexing.html#returning-a-view-versus-a-copy\n",
      "<timed exec>:14: SettingWithCopyWarning: \n",
      "A value is trying to be set on a copy of a slice from a DataFrame.\n",
      "Try using .loc[row_indexer,col_indexer] = value instead\n",
      "\n",
      "See the caveats in the documentation: https://pandas.pydata.org/pandas-docs/stable/user_guide/indexing.html#returning-a-view-versus-a-copy\n",
      "<timed exec>:18: SettingWithCopyWarning: \n",
      "A value is trying to be set on a copy of a slice from a DataFrame.\n",
      "Try using .loc[row_indexer,col_indexer] = value instead\n",
      "\n",
      "See the caveats in the documentation: https://pandas.pydata.org/pandas-docs/stable/user_guide/indexing.html#returning-a-view-versus-a-copy\n"
     ]
    },
    {
     "name": "stdout",
     "output_type": "stream",
     "text": [
      "chunk 5 of 64\n"
     ]
    },
    {
     "name": "stderr",
     "output_type": "stream",
     "text": [
      "<timed exec>:10: SettingWithCopyWarning: \n",
      "A value is trying to be set on a copy of a slice from a DataFrame.\n",
      "Try using .loc[row_indexer,col_indexer] = value instead\n",
      "\n",
      "See the caveats in the documentation: https://pandas.pydata.org/pandas-docs/stable/user_guide/indexing.html#returning-a-view-versus-a-copy\n",
      "<timed exec>:14: SettingWithCopyWarning: \n",
      "A value is trying to be set on a copy of a slice from a DataFrame.\n",
      "Try using .loc[row_indexer,col_indexer] = value instead\n",
      "\n",
      "See the caveats in the documentation: https://pandas.pydata.org/pandas-docs/stable/user_guide/indexing.html#returning-a-view-versus-a-copy\n",
      "<timed exec>:18: SettingWithCopyWarning: \n",
      "A value is trying to be set on a copy of a slice from a DataFrame.\n",
      "Try using .loc[row_indexer,col_indexer] = value instead\n",
      "\n",
      "See the caveats in the documentation: https://pandas.pydata.org/pandas-docs/stable/user_guide/indexing.html#returning-a-view-versus-a-copy\n"
     ]
    },
    {
     "name": "stdout",
     "output_type": "stream",
     "text": [
      "chunk 6 of 64\n"
     ]
    },
    {
     "name": "stderr",
     "output_type": "stream",
     "text": [
      "<timed exec>:10: SettingWithCopyWarning: \n",
      "A value is trying to be set on a copy of a slice from a DataFrame.\n",
      "Try using .loc[row_indexer,col_indexer] = value instead\n",
      "\n",
      "See the caveats in the documentation: https://pandas.pydata.org/pandas-docs/stable/user_guide/indexing.html#returning-a-view-versus-a-copy\n",
      "<timed exec>:14: SettingWithCopyWarning: \n",
      "A value is trying to be set on a copy of a slice from a DataFrame.\n",
      "Try using .loc[row_indexer,col_indexer] = value instead\n",
      "\n",
      "See the caveats in the documentation: https://pandas.pydata.org/pandas-docs/stable/user_guide/indexing.html#returning-a-view-versus-a-copy\n",
      "<timed exec>:18: SettingWithCopyWarning: \n",
      "A value is trying to be set on a copy of a slice from a DataFrame.\n",
      "Try using .loc[row_indexer,col_indexer] = value instead\n",
      "\n",
      "See the caveats in the documentation: https://pandas.pydata.org/pandas-docs/stable/user_guide/indexing.html#returning-a-view-versus-a-copy\n"
     ]
    },
    {
     "name": "stdout",
     "output_type": "stream",
     "text": [
      "chunk 7 of 64\n"
     ]
    },
    {
     "name": "stderr",
     "output_type": "stream",
     "text": [
      "<timed exec>:10: SettingWithCopyWarning: \n",
      "A value is trying to be set on a copy of a slice from a DataFrame.\n",
      "Try using .loc[row_indexer,col_indexer] = value instead\n",
      "\n",
      "See the caveats in the documentation: https://pandas.pydata.org/pandas-docs/stable/user_guide/indexing.html#returning-a-view-versus-a-copy\n",
      "<timed exec>:14: SettingWithCopyWarning: \n",
      "A value is trying to be set on a copy of a slice from a DataFrame.\n",
      "Try using .loc[row_indexer,col_indexer] = value instead\n",
      "\n",
      "See the caveats in the documentation: https://pandas.pydata.org/pandas-docs/stable/user_guide/indexing.html#returning-a-view-versus-a-copy\n",
      "<timed exec>:18: SettingWithCopyWarning: \n",
      "A value is trying to be set on a copy of a slice from a DataFrame.\n",
      "Try using .loc[row_indexer,col_indexer] = value instead\n",
      "\n",
      "See the caveats in the documentation: https://pandas.pydata.org/pandas-docs/stable/user_guide/indexing.html#returning-a-view-versus-a-copy\n"
     ]
    },
    {
     "name": "stdout",
     "output_type": "stream",
     "text": [
      "chunk 8 of 64\n"
     ]
    },
    {
     "name": "stderr",
     "output_type": "stream",
     "text": [
      "<timed exec>:10: SettingWithCopyWarning: \n",
      "A value is trying to be set on a copy of a slice from a DataFrame.\n",
      "Try using .loc[row_indexer,col_indexer] = value instead\n",
      "\n",
      "See the caveats in the documentation: https://pandas.pydata.org/pandas-docs/stable/user_guide/indexing.html#returning-a-view-versus-a-copy\n",
      "<timed exec>:14: SettingWithCopyWarning: \n",
      "A value is trying to be set on a copy of a slice from a DataFrame.\n",
      "Try using .loc[row_indexer,col_indexer] = value instead\n",
      "\n",
      "See the caveats in the documentation: https://pandas.pydata.org/pandas-docs/stable/user_guide/indexing.html#returning-a-view-versus-a-copy\n",
      "<timed exec>:18: SettingWithCopyWarning: \n",
      "A value is trying to be set on a copy of a slice from a DataFrame.\n",
      "Try using .loc[row_indexer,col_indexer] = value instead\n",
      "\n",
      "See the caveats in the documentation: https://pandas.pydata.org/pandas-docs/stable/user_guide/indexing.html#returning-a-view-versus-a-copy\n"
     ]
    },
    {
     "name": "stdout",
     "output_type": "stream",
     "text": [
      "chunk 9 of 64\n"
     ]
    },
    {
     "name": "stderr",
     "output_type": "stream",
     "text": [
      "<timed exec>:10: SettingWithCopyWarning: \n",
      "A value is trying to be set on a copy of a slice from a DataFrame.\n",
      "Try using .loc[row_indexer,col_indexer] = value instead\n",
      "\n",
      "See the caveats in the documentation: https://pandas.pydata.org/pandas-docs/stable/user_guide/indexing.html#returning-a-view-versus-a-copy\n",
      "<timed exec>:14: SettingWithCopyWarning: \n",
      "A value is trying to be set on a copy of a slice from a DataFrame.\n",
      "Try using .loc[row_indexer,col_indexer] = value instead\n",
      "\n",
      "See the caveats in the documentation: https://pandas.pydata.org/pandas-docs/stable/user_guide/indexing.html#returning-a-view-versus-a-copy\n",
      "<timed exec>:18: SettingWithCopyWarning: \n",
      "A value is trying to be set on a copy of a slice from a DataFrame.\n",
      "Try using .loc[row_indexer,col_indexer] = value instead\n",
      "\n",
      "See the caveats in the documentation: https://pandas.pydata.org/pandas-docs/stable/user_guide/indexing.html#returning-a-view-versus-a-copy\n"
     ]
    },
    {
     "name": "stdout",
     "output_type": "stream",
     "text": [
      "chunk 10 of 64\n"
     ]
    },
    {
     "name": "stderr",
     "output_type": "stream",
     "text": [
      "<timed exec>:10: SettingWithCopyWarning: \n",
      "A value is trying to be set on a copy of a slice from a DataFrame.\n",
      "Try using .loc[row_indexer,col_indexer] = value instead\n",
      "\n",
      "See the caveats in the documentation: https://pandas.pydata.org/pandas-docs/stable/user_guide/indexing.html#returning-a-view-versus-a-copy\n",
      "<timed exec>:14: SettingWithCopyWarning: \n",
      "A value is trying to be set on a copy of a slice from a DataFrame.\n",
      "Try using .loc[row_indexer,col_indexer] = value instead\n",
      "\n",
      "See the caveats in the documentation: https://pandas.pydata.org/pandas-docs/stable/user_guide/indexing.html#returning-a-view-versus-a-copy\n",
      "<timed exec>:18: SettingWithCopyWarning: \n",
      "A value is trying to be set on a copy of a slice from a DataFrame.\n",
      "Try using .loc[row_indexer,col_indexer] = value instead\n",
      "\n",
      "See the caveats in the documentation: https://pandas.pydata.org/pandas-docs/stable/user_guide/indexing.html#returning-a-view-versus-a-copy\n"
     ]
    },
    {
     "name": "stdout",
     "output_type": "stream",
     "text": [
      "chunk 11 of 64\n"
     ]
    },
    {
     "name": "stderr",
     "output_type": "stream",
     "text": [
      "<timed exec>:10: SettingWithCopyWarning: \n",
      "A value is trying to be set on a copy of a slice from a DataFrame.\n",
      "Try using .loc[row_indexer,col_indexer] = value instead\n",
      "\n",
      "See the caveats in the documentation: https://pandas.pydata.org/pandas-docs/stable/user_guide/indexing.html#returning-a-view-versus-a-copy\n",
      "<timed exec>:14: SettingWithCopyWarning: \n",
      "A value is trying to be set on a copy of a slice from a DataFrame.\n",
      "Try using .loc[row_indexer,col_indexer] = value instead\n",
      "\n",
      "See the caveats in the documentation: https://pandas.pydata.org/pandas-docs/stable/user_guide/indexing.html#returning-a-view-versus-a-copy\n",
      "<timed exec>:18: SettingWithCopyWarning: \n",
      "A value is trying to be set on a copy of a slice from a DataFrame.\n",
      "Try using .loc[row_indexer,col_indexer] = value instead\n",
      "\n",
      "See the caveats in the documentation: https://pandas.pydata.org/pandas-docs/stable/user_guide/indexing.html#returning-a-view-versus-a-copy\n"
     ]
    },
    {
     "name": "stdout",
     "output_type": "stream",
     "text": [
      "chunk 12 of 64\n"
     ]
    },
    {
     "name": "stderr",
     "output_type": "stream",
     "text": [
      "<timed exec>:10: SettingWithCopyWarning: \n",
      "A value is trying to be set on a copy of a slice from a DataFrame.\n",
      "Try using .loc[row_indexer,col_indexer] = value instead\n",
      "\n",
      "See the caveats in the documentation: https://pandas.pydata.org/pandas-docs/stable/user_guide/indexing.html#returning-a-view-versus-a-copy\n",
      "<timed exec>:14: SettingWithCopyWarning: \n",
      "A value is trying to be set on a copy of a slice from a DataFrame.\n",
      "Try using .loc[row_indexer,col_indexer] = value instead\n",
      "\n",
      "See the caveats in the documentation: https://pandas.pydata.org/pandas-docs/stable/user_guide/indexing.html#returning-a-view-versus-a-copy\n",
      "<timed exec>:18: SettingWithCopyWarning: \n",
      "A value is trying to be set on a copy of a slice from a DataFrame.\n",
      "Try using .loc[row_indexer,col_indexer] = value instead\n",
      "\n",
      "See the caveats in the documentation: https://pandas.pydata.org/pandas-docs/stable/user_guide/indexing.html#returning-a-view-versus-a-copy\n"
     ]
    },
    {
     "name": "stdout",
     "output_type": "stream",
     "text": [
      "chunk 13 of 64\n"
     ]
    },
    {
     "name": "stderr",
     "output_type": "stream",
     "text": [
      "<timed exec>:10: SettingWithCopyWarning: \n",
      "A value is trying to be set on a copy of a slice from a DataFrame.\n",
      "Try using .loc[row_indexer,col_indexer] = value instead\n",
      "\n",
      "See the caveats in the documentation: https://pandas.pydata.org/pandas-docs/stable/user_guide/indexing.html#returning-a-view-versus-a-copy\n",
      "<timed exec>:14: SettingWithCopyWarning: \n",
      "A value is trying to be set on a copy of a slice from a DataFrame.\n",
      "Try using .loc[row_indexer,col_indexer] = value instead\n",
      "\n",
      "See the caveats in the documentation: https://pandas.pydata.org/pandas-docs/stable/user_guide/indexing.html#returning-a-view-versus-a-copy\n",
      "<timed exec>:18: SettingWithCopyWarning: \n",
      "A value is trying to be set on a copy of a slice from a DataFrame.\n",
      "Try using .loc[row_indexer,col_indexer] = value instead\n",
      "\n",
      "See the caveats in the documentation: https://pandas.pydata.org/pandas-docs/stable/user_guide/indexing.html#returning-a-view-versus-a-copy\n"
     ]
    },
    {
     "name": "stdout",
     "output_type": "stream",
     "text": [
      "chunk 14 of 64\n"
     ]
    },
    {
     "name": "stderr",
     "output_type": "stream",
     "text": [
      "<timed exec>:10: SettingWithCopyWarning: \n",
      "A value is trying to be set on a copy of a slice from a DataFrame.\n",
      "Try using .loc[row_indexer,col_indexer] = value instead\n",
      "\n",
      "See the caveats in the documentation: https://pandas.pydata.org/pandas-docs/stable/user_guide/indexing.html#returning-a-view-versus-a-copy\n",
      "<timed exec>:14: SettingWithCopyWarning: \n",
      "A value is trying to be set on a copy of a slice from a DataFrame.\n",
      "Try using .loc[row_indexer,col_indexer] = value instead\n",
      "\n",
      "See the caveats in the documentation: https://pandas.pydata.org/pandas-docs/stable/user_guide/indexing.html#returning-a-view-versus-a-copy\n",
      "<timed exec>:18: SettingWithCopyWarning: \n",
      "A value is trying to be set on a copy of a slice from a DataFrame.\n",
      "Try using .loc[row_indexer,col_indexer] = value instead\n",
      "\n",
      "See the caveats in the documentation: https://pandas.pydata.org/pandas-docs/stable/user_guide/indexing.html#returning-a-view-versus-a-copy\n"
     ]
    },
    {
     "name": "stdout",
     "output_type": "stream",
     "text": [
      "chunk 15 of 64\n"
     ]
    },
    {
     "name": "stderr",
     "output_type": "stream",
     "text": [
      "<timed exec>:10: SettingWithCopyWarning: \n",
      "A value is trying to be set on a copy of a slice from a DataFrame.\n",
      "Try using .loc[row_indexer,col_indexer] = value instead\n",
      "\n",
      "See the caveats in the documentation: https://pandas.pydata.org/pandas-docs/stable/user_guide/indexing.html#returning-a-view-versus-a-copy\n",
      "<timed exec>:14: SettingWithCopyWarning: \n",
      "A value is trying to be set on a copy of a slice from a DataFrame.\n",
      "Try using .loc[row_indexer,col_indexer] = value instead\n",
      "\n",
      "See the caveats in the documentation: https://pandas.pydata.org/pandas-docs/stable/user_guide/indexing.html#returning-a-view-versus-a-copy\n",
      "<timed exec>:18: SettingWithCopyWarning: \n",
      "A value is trying to be set on a copy of a slice from a DataFrame.\n",
      "Try using .loc[row_indexer,col_indexer] = value instead\n",
      "\n",
      "See the caveats in the documentation: https://pandas.pydata.org/pandas-docs/stable/user_guide/indexing.html#returning-a-view-versus-a-copy\n"
     ]
    },
    {
     "name": "stdout",
     "output_type": "stream",
     "text": [
      "chunk 16 of 64\n"
     ]
    },
    {
     "name": "stderr",
     "output_type": "stream",
     "text": [
      "<timed exec>:10: SettingWithCopyWarning: \n",
      "A value is trying to be set on a copy of a slice from a DataFrame.\n",
      "Try using .loc[row_indexer,col_indexer] = value instead\n",
      "\n",
      "See the caveats in the documentation: https://pandas.pydata.org/pandas-docs/stable/user_guide/indexing.html#returning-a-view-versus-a-copy\n",
      "<timed exec>:14: SettingWithCopyWarning: \n",
      "A value is trying to be set on a copy of a slice from a DataFrame.\n",
      "Try using .loc[row_indexer,col_indexer] = value instead\n",
      "\n",
      "See the caveats in the documentation: https://pandas.pydata.org/pandas-docs/stable/user_guide/indexing.html#returning-a-view-versus-a-copy\n",
      "<timed exec>:18: SettingWithCopyWarning: \n",
      "A value is trying to be set on a copy of a slice from a DataFrame.\n",
      "Try using .loc[row_indexer,col_indexer] = value instead\n",
      "\n",
      "See the caveats in the documentation: https://pandas.pydata.org/pandas-docs/stable/user_guide/indexing.html#returning-a-view-versus-a-copy\n"
     ]
    },
    {
     "name": "stdout",
     "output_type": "stream",
     "text": [
      "chunk 17 of 64\n"
     ]
    },
    {
     "name": "stderr",
     "output_type": "stream",
     "text": [
      "<timed exec>:10: SettingWithCopyWarning: \n",
      "A value is trying to be set on a copy of a slice from a DataFrame.\n",
      "Try using .loc[row_indexer,col_indexer] = value instead\n",
      "\n",
      "See the caveats in the documentation: https://pandas.pydata.org/pandas-docs/stable/user_guide/indexing.html#returning-a-view-versus-a-copy\n",
      "<timed exec>:14: SettingWithCopyWarning: \n",
      "A value is trying to be set on a copy of a slice from a DataFrame.\n",
      "Try using .loc[row_indexer,col_indexer] = value instead\n",
      "\n",
      "See the caveats in the documentation: https://pandas.pydata.org/pandas-docs/stable/user_guide/indexing.html#returning-a-view-versus-a-copy\n",
      "<timed exec>:18: SettingWithCopyWarning: \n",
      "A value is trying to be set on a copy of a slice from a DataFrame.\n",
      "Try using .loc[row_indexer,col_indexer] = value instead\n",
      "\n",
      "See the caveats in the documentation: https://pandas.pydata.org/pandas-docs/stable/user_guide/indexing.html#returning-a-view-versus-a-copy\n"
     ]
    },
    {
     "name": "stdout",
     "output_type": "stream",
     "text": [
      "chunk 18 of 64\n"
     ]
    },
    {
     "name": "stderr",
     "output_type": "stream",
     "text": [
      "<timed exec>:10: SettingWithCopyWarning: \n",
      "A value is trying to be set on a copy of a slice from a DataFrame.\n",
      "Try using .loc[row_indexer,col_indexer] = value instead\n",
      "\n",
      "See the caveats in the documentation: https://pandas.pydata.org/pandas-docs/stable/user_guide/indexing.html#returning-a-view-versus-a-copy\n",
      "<timed exec>:14: SettingWithCopyWarning: \n",
      "A value is trying to be set on a copy of a slice from a DataFrame.\n",
      "Try using .loc[row_indexer,col_indexer] = value instead\n",
      "\n",
      "See the caveats in the documentation: https://pandas.pydata.org/pandas-docs/stable/user_guide/indexing.html#returning-a-view-versus-a-copy\n",
      "<timed exec>:18: SettingWithCopyWarning: \n",
      "A value is trying to be set on a copy of a slice from a DataFrame.\n",
      "Try using .loc[row_indexer,col_indexer] = value instead\n",
      "\n",
      "See the caveats in the documentation: https://pandas.pydata.org/pandas-docs/stable/user_guide/indexing.html#returning-a-view-versus-a-copy\n"
     ]
    },
    {
     "name": "stdout",
     "output_type": "stream",
     "text": [
      "chunk 19 of 64\n"
     ]
    },
    {
     "name": "stderr",
     "output_type": "stream",
     "text": [
      "<timed exec>:10: SettingWithCopyWarning: \n",
      "A value is trying to be set on a copy of a slice from a DataFrame.\n",
      "Try using .loc[row_indexer,col_indexer] = value instead\n",
      "\n",
      "See the caveats in the documentation: https://pandas.pydata.org/pandas-docs/stable/user_guide/indexing.html#returning-a-view-versus-a-copy\n",
      "<timed exec>:14: SettingWithCopyWarning: \n",
      "A value is trying to be set on a copy of a slice from a DataFrame.\n",
      "Try using .loc[row_indexer,col_indexer] = value instead\n",
      "\n",
      "See the caveats in the documentation: https://pandas.pydata.org/pandas-docs/stable/user_guide/indexing.html#returning-a-view-versus-a-copy\n",
      "<timed exec>:18: SettingWithCopyWarning: \n",
      "A value is trying to be set on a copy of a slice from a DataFrame.\n",
      "Try using .loc[row_indexer,col_indexer] = value instead\n",
      "\n",
      "See the caveats in the documentation: https://pandas.pydata.org/pandas-docs/stable/user_guide/indexing.html#returning-a-view-versus-a-copy\n"
     ]
    },
    {
     "name": "stdout",
     "output_type": "stream",
     "text": [
      "chunk 20 of 64\n"
     ]
    },
    {
     "name": "stderr",
     "output_type": "stream",
     "text": [
      "<timed exec>:10: SettingWithCopyWarning: \n",
      "A value is trying to be set on a copy of a slice from a DataFrame.\n",
      "Try using .loc[row_indexer,col_indexer] = value instead\n",
      "\n",
      "See the caveats in the documentation: https://pandas.pydata.org/pandas-docs/stable/user_guide/indexing.html#returning-a-view-versus-a-copy\n",
      "<timed exec>:14: SettingWithCopyWarning: \n",
      "A value is trying to be set on a copy of a slice from a DataFrame.\n",
      "Try using .loc[row_indexer,col_indexer] = value instead\n",
      "\n",
      "See the caveats in the documentation: https://pandas.pydata.org/pandas-docs/stable/user_guide/indexing.html#returning-a-view-versus-a-copy\n",
      "<timed exec>:18: SettingWithCopyWarning: \n",
      "A value is trying to be set on a copy of a slice from a DataFrame.\n",
      "Try using .loc[row_indexer,col_indexer] = value instead\n",
      "\n",
      "See the caveats in the documentation: https://pandas.pydata.org/pandas-docs/stable/user_guide/indexing.html#returning-a-view-versus-a-copy\n"
     ]
    },
    {
     "name": "stdout",
     "output_type": "stream",
     "text": [
      "chunk 21 of 64\n"
     ]
    },
    {
     "name": "stderr",
     "output_type": "stream",
     "text": [
      "<timed exec>:10: SettingWithCopyWarning: \n",
      "A value is trying to be set on a copy of a slice from a DataFrame.\n",
      "Try using .loc[row_indexer,col_indexer] = value instead\n",
      "\n",
      "See the caveats in the documentation: https://pandas.pydata.org/pandas-docs/stable/user_guide/indexing.html#returning-a-view-versus-a-copy\n",
      "<timed exec>:14: SettingWithCopyWarning: \n",
      "A value is trying to be set on a copy of a slice from a DataFrame.\n",
      "Try using .loc[row_indexer,col_indexer] = value instead\n",
      "\n",
      "See the caveats in the documentation: https://pandas.pydata.org/pandas-docs/stable/user_guide/indexing.html#returning-a-view-versus-a-copy\n",
      "<timed exec>:18: SettingWithCopyWarning: \n",
      "A value is trying to be set on a copy of a slice from a DataFrame.\n",
      "Try using .loc[row_indexer,col_indexer] = value instead\n",
      "\n",
      "See the caveats in the documentation: https://pandas.pydata.org/pandas-docs/stable/user_guide/indexing.html#returning-a-view-versus-a-copy\n"
     ]
    },
    {
     "name": "stdout",
     "output_type": "stream",
     "text": [
      "chunk 22 of 64\n"
     ]
    },
    {
     "name": "stderr",
     "output_type": "stream",
     "text": [
      "<timed exec>:10: SettingWithCopyWarning: \n",
      "A value is trying to be set on a copy of a slice from a DataFrame.\n",
      "Try using .loc[row_indexer,col_indexer] = value instead\n",
      "\n",
      "See the caveats in the documentation: https://pandas.pydata.org/pandas-docs/stable/user_guide/indexing.html#returning-a-view-versus-a-copy\n",
      "<timed exec>:14: SettingWithCopyWarning: \n",
      "A value is trying to be set on a copy of a slice from a DataFrame.\n",
      "Try using .loc[row_indexer,col_indexer] = value instead\n",
      "\n",
      "See the caveats in the documentation: https://pandas.pydata.org/pandas-docs/stable/user_guide/indexing.html#returning-a-view-versus-a-copy\n",
      "<timed exec>:18: SettingWithCopyWarning: \n",
      "A value is trying to be set on a copy of a slice from a DataFrame.\n",
      "Try using .loc[row_indexer,col_indexer] = value instead\n",
      "\n",
      "See the caveats in the documentation: https://pandas.pydata.org/pandas-docs/stable/user_guide/indexing.html#returning-a-view-versus-a-copy\n"
     ]
    },
    {
     "name": "stdout",
     "output_type": "stream",
     "text": [
      "chunk 23 of 64\n"
     ]
    },
    {
     "name": "stderr",
     "output_type": "stream",
     "text": [
      "<timed exec>:10: SettingWithCopyWarning: \n",
      "A value is trying to be set on a copy of a slice from a DataFrame.\n",
      "Try using .loc[row_indexer,col_indexer] = value instead\n",
      "\n",
      "See the caveats in the documentation: https://pandas.pydata.org/pandas-docs/stable/user_guide/indexing.html#returning-a-view-versus-a-copy\n",
      "<timed exec>:14: SettingWithCopyWarning: \n",
      "A value is trying to be set on a copy of a slice from a DataFrame.\n",
      "Try using .loc[row_indexer,col_indexer] = value instead\n",
      "\n",
      "See the caveats in the documentation: https://pandas.pydata.org/pandas-docs/stable/user_guide/indexing.html#returning-a-view-versus-a-copy\n",
      "<timed exec>:18: SettingWithCopyWarning: \n",
      "A value is trying to be set on a copy of a slice from a DataFrame.\n",
      "Try using .loc[row_indexer,col_indexer] = value instead\n",
      "\n",
      "See the caveats in the documentation: https://pandas.pydata.org/pandas-docs/stable/user_guide/indexing.html#returning-a-view-versus-a-copy\n"
     ]
    },
    {
     "name": "stdout",
     "output_type": "stream",
     "text": [
      "chunk 24 of 64\n"
     ]
    },
    {
     "name": "stderr",
     "output_type": "stream",
     "text": [
      "<timed exec>:10: SettingWithCopyWarning: \n",
      "A value is trying to be set on a copy of a slice from a DataFrame.\n",
      "Try using .loc[row_indexer,col_indexer] = value instead\n",
      "\n",
      "See the caveats in the documentation: https://pandas.pydata.org/pandas-docs/stable/user_guide/indexing.html#returning-a-view-versus-a-copy\n",
      "<timed exec>:14: SettingWithCopyWarning: \n",
      "A value is trying to be set on a copy of a slice from a DataFrame.\n",
      "Try using .loc[row_indexer,col_indexer] = value instead\n",
      "\n",
      "See the caveats in the documentation: https://pandas.pydata.org/pandas-docs/stable/user_guide/indexing.html#returning-a-view-versus-a-copy\n",
      "<timed exec>:18: SettingWithCopyWarning: \n",
      "A value is trying to be set on a copy of a slice from a DataFrame.\n",
      "Try using .loc[row_indexer,col_indexer] = value instead\n",
      "\n",
      "See the caveats in the documentation: https://pandas.pydata.org/pandas-docs/stable/user_guide/indexing.html#returning-a-view-versus-a-copy\n"
     ]
    },
    {
     "name": "stdout",
     "output_type": "stream",
     "text": [
      "chunk 25 of 64\n"
     ]
    },
    {
     "name": "stderr",
     "output_type": "stream",
     "text": [
      "<timed exec>:10: SettingWithCopyWarning: \n",
      "A value is trying to be set on a copy of a slice from a DataFrame.\n",
      "Try using .loc[row_indexer,col_indexer] = value instead\n",
      "\n",
      "See the caveats in the documentation: https://pandas.pydata.org/pandas-docs/stable/user_guide/indexing.html#returning-a-view-versus-a-copy\n",
      "<timed exec>:14: SettingWithCopyWarning: \n",
      "A value is trying to be set on a copy of a slice from a DataFrame.\n",
      "Try using .loc[row_indexer,col_indexer] = value instead\n",
      "\n",
      "See the caveats in the documentation: https://pandas.pydata.org/pandas-docs/stable/user_guide/indexing.html#returning-a-view-versus-a-copy\n",
      "<timed exec>:18: SettingWithCopyWarning: \n",
      "A value is trying to be set on a copy of a slice from a DataFrame.\n",
      "Try using .loc[row_indexer,col_indexer] = value instead\n",
      "\n",
      "See the caveats in the documentation: https://pandas.pydata.org/pandas-docs/stable/user_guide/indexing.html#returning-a-view-versus-a-copy\n"
     ]
    },
    {
     "name": "stdout",
     "output_type": "stream",
     "text": [
      "chunk 26 of 64\n"
     ]
    },
    {
     "name": "stderr",
     "output_type": "stream",
     "text": [
      "<timed exec>:10: SettingWithCopyWarning: \n",
      "A value is trying to be set on a copy of a slice from a DataFrame.\n",
      "Try using .loc[row_indexer,col_indexer] = value instead\n",
      "\n",
      "See the caveats in the documentation: https://pandas.pydata.org/pandas-docs/stable/user_guide/indexing.html#returning-a-view-versus-a-copy\n",
      "<timed exec>:14: SettingWithCopyWarning: \n",
      "A value is trying to be set on a copy of a slice from a DataFrame.\n",
      "Try using .loc[row_indexer,col_indexer] = value instead\n",
      "\n",
      "See the caveats in the documentation: https://pandas.pydata.org/pandas-docs/stable/user_guide/indexing.html#returning-a-view-versus-a-copy\n",
      "<timed exec>:18: SettingWithCopyWarning: \n",
      "A value is trying to be set on a copy of a slice from a DataFrame.\n",
      "Try using .loc[row_indexer,col_indexer] = value instead\n",
      "\n",
      "See the caveats in the documentation: https://pandas.pydata.org/pandas-docs/stable/user_guide/indexing.html#returning-a-view-versus-a-copy\n"
     ]
    },
    {
     "name": "stdout",
     "output_type": "stream",
     "text": [
      "chunk 27 of 64\n"
     ]
    },
    {
     "name": "stderr",
     "output_type": "stream",
     "text": [
      "<timed exec>:10: SettingWithCopyWarning: \n",
      "A value is trying to be set on a copy of a slice from a DataFrame.\n",
      "Try using .loc[row_indexer,col_indexer] = value instead\n",
      "\n",
      "See the caveats in the documentation: https://pandas.pydata.org/pandas-docs/stable/user_guide/indexing.html#returning-a-view-versus-a-copy\n",
      "<timed exec>:14: SettingWithCopyWarning: \n",
      "A value is trying to be set on a copy of a slice from a DataFrame.\n",
      "Try using .loc[row_indexer,col_indexer] = value instead\n",
      "\n",
      "See the caveats in the documentation: https://pandas.pydata.org/pandas-docs/stable/user_guide/indexing.html#returning-a-view-versus-a-copy\n",
      "<timed exec>:18: SettingWithCopyWarning: \n",
      "A value is trying to be set on a copy of a slice from a DataFrame.\n",
      "Try using .loc[row_indexer,col_indexer] = value instead\n",
      "\n",
      "See the caveats in the documentation: https://pandas.pydata.org/pandas-docs/stable/user_guide/indexing.html#returning-a-view-versus-a-copy\n"
     ]
    },
    {
     "name": "stdout",
     "output_type": "stream",
     "text": [
      "chunk 28 of 64\n"
     ]
    },
    {
     "name": "stderr",
     "output_type": "stream",
     "text": [
      "<timed exec>:10: SettingWithCopyWarning: \n",
      "A value is trying to be set on a copy of a slice from a DataFrame.\n",
      "Try using .loc[row_indexer,col_indexer] = value instead\n",
      "\n",
      "See the caveats in the documentation: https://pandas.pydata.org/pandas-docs/stable/user_guide/indexing.html#returning-a-view-versus-a-copy\n",
      "<timed exec>:14: SettingWithCopyWarning: \n",
      "A value is trying to be set on a copy of a slice from a DataFrame.\n",
      "Try using .loc[row_indexer,col_indexer] = value instead\n",
      "\n",
      "See the caveats in the documentation: https://pandas.pydata.org/pandas-docs/stable/user_guide/indexing.html#returning-a-view-versus-a-copy\n",
      "<timed exec>:18: SettingWithCopyWarning: \n",
      "A value is trying to be set on a copy of a slice from a DataFrame.\n",
      "Try using .loc[row_indexer,col_indexer] = value instead\n",
      "\n",
      "See the caveats in the documentation: https://pandas.pydata.org/pandas-docs/stable/user_guide/indexing.html#returning-a-view-versus-a-copy\n"
     ]
    },
    {
     "name": "stdout",
     "output_type": "stream",
     "text": [
      "chunk 29 of 64\n"
     ]
    },
    {
     "name": "stderr",
     "output_type": "stream",
     "text": [
      "<timed exec>:10: SettingWithCopyWarning: \n",
      "A value is trying to be set on a copy of a slice from a DataFrame.\n",
      "Try using .loc[row_indexer,col_indexer] = value instead\n",
      "\n",
      "See the caveats in the documentation: https://pandas.pydata.org/pandas-docs/stable/user_guide/indexing.html#returning-a-view-versus-a-copy\n",
      "<timed exec>:14: SettingWithCopyWarning: \n",
      "A value is trying to be set on a copy of a slice from a DataFrame.\n",
      "Try using .loc[row_indexer,col_indexer] = value instead\n",
      "\n",
      "See the caveats in the documentation: https://pandas.pydata.org/pandas-docs/stable/user_guide/indexing.html#returning-a-view-versus-a-copy\n",
      "<timed exec>:18: SettingWithCopyWarning: \n",
      "A value is trying to be set on a copy of a slice from a DataFrame.\n",
      "Try using .loc[row_indexer,col_indexer] = value instead\n",
      "\n",
      "See the caveats in the documentation: https://pandas.pydata.org/pandas-docs/stable/user_guide/indexing.html#returning-a-view-versus-a-copy\n"
     ]
    },
    {
     "name": "stdout",
     "output_type": "stream",
     "text": [
      "chunk 30 of 64\n"
     ]
    },
    {
     "name": "stderr",
     "output_type": "stream",
     "text": [
      "<timed exec>:10: SettingWithCopyWarning: \n",
      "A value is trying to be set on a copy of a slice from a DataFrame.\n",
      "Try using .loc[row_indexer,col_indexer] = value instead\n",
      "\n",
      "See the caveats in the documentation: https://pandas.pydata.org/pandas-docs/stable/user_guide/indexing.html#returning-a-view-versus-a-copy\n",
      "<timed exec>:14: SettingWithCopyWarning: \n",
      "A value is trying to be set on a copy of a slice from a DataFrame.\n",
      "Try using .loc[row_indexer,col_indexer] = value instead\n",
      "\n",
      "See the caveats in the documentation: https://pandas.pydata.org/pandas-docs/stable/user_guide/indexing.html#returning-a-view-versus-a-copy\n",
      "<timed exec>:18: SettingWithCopyWarning: \n",
      "A value is trying to be set on a copy of a slice from a DataFrame.\n",
      "Try using .loc[row_indexer,col_indexer] = value instead\n",
      "\n",
      "See the caveats in the documentation: https://pandas.pydata.org/pandas-docs/stable/user_guide/indexing.html#returning-a-view-versus-a-copy\n"
     ]
    },
    {
     "name": "stdout",
     "output_type": "stream",
     "text": [
      "chunk 31 of 64\n"
     ]
    },
    {
     "name": "stderr",
     "output_type": "stream",
     "text": [
      "<timed exec>:10: SettingWithCopyWarning: \n",
      "A value is trying to be set on a copy of a slice from a DataFrame.\n",
      "Try using .loc[row_indexer,col_indexer] = value instead\n",
      "\n",
      "See the caveats in the documentation: https://pandas.pydata.org/pandas-docs/stable/user_guide/indexing.html#returning-a-view-versus-a-copy\n",
      "<timed exec>:14: SettingWithCopyWarning: \n",
      "A value is trying to be set on a copy of a slice from a DataFrame.\n",
      "Try using .loc[row_indexer,col_indexer] = value instead\n",
      "\n",
      "See the caveats in the documentation: https://pandas.pydata.org/pandas-docs/stable/user_guide/indexing.html#returning-a-view-versus-a-copy\n",
      "<timed exec>:18: SettingWithCopyWarning: \n",
      "A value is trying to be set on a copy of a slice from a DataFrame.\n",
      "Try using .loc[row_indexer,col_indexer] = value instead\n",
      "\n",
      "See the caveats in the documentation: https://pandas.pydata.org/pandas-docs/stable/user_guide/indexing.html#returning-a-view-versus-a-copy\n"
     ]
    },
    {
     "name": "stdout",
     "output_type": "stream",
     "text": [
      "chunk 32 of 64\n"
     ]
    },
    {
     "name": "stderr",
     "output_type": "stream",
     "text": [
      "<timed exec>:10: SettingWithCopyWarning: \n",
      "A value is trying to be set on a copy of a slice from a DataFrame.\n",
      "Try using .loc[row_indexer,col_indexer] = value instead\n",
      "\n",
      "See the caveats in the documentation: https://pandas.pydata.org/pandas-docs/stable/user_guide/indexing.html#returning-a-view-versus-a-copy\n",
      "<timed exec>:14: SettingWithCopyWarning: \n",
      "A value is trying to be set on a copy of a slice from a DataFrame.\n",
      "Try using .loc[row_indexer,col_indexer] = value instead\n",
      "\n",
      "See the caveats in the documentation: https://pandas.pydata.org/pandas-docs/stable/user_guide/indexing.html#returning-a-view-versus-a-copy\n",
      "<timed exec>:18: SettingWithCopyWarning: \n",
      "A value is trying to be set on a copy of a slice from a DataFrame.\n",
      "Try using .loc[row_indexer,col_indexer] = value instead\n",
      "\n",
      "See the caveats in the documentation: https://pandas.pydata.org/pandas-docs/stable/user_guide/indexing.html#returning-a-view-versus-a-copy\n"
     ]
    },
    {
     "name": "stdout",
     "output_type": "stream",
     "text": [
      "chunk 33 of 64\n"
     ]
    },
    {
     "name": "stderr",
     "output_type": "stream",
     "text": [
      "<timed exec>:10: SettingWithCopyWarning: \n",
      "A value is trying to be set on a copy of a slice from a DataFrame.\n",
      "Try using .loc[row_indexer,col_indexer] = value instead\n",
      "\n",
      "See the caveats in the documentation: https://pandas.pydata.org/pandas-docs/stable/user_guide/indexing.html#returning-a-view-versus-a-copy\n",
      "<timed exec>:14: SettingWithCopyWarning: \n",
      "A value is trying to be set on a copy of a slice from a DataFrame.\n",
      "Try using .loc[row_indexer,col_indexer] = value instead\n",
      "\n",
      "See the caveats in the documentation: https://pandas.pydata.org/pandas-docs/stable/user_guide/indexing.html#returning-a-view-versus-a-copy\n",
      "<timed exec>:18: SettingWithCopyWarning: \n",
      "A value is trying to be set on a copy of a slice from a DataFrame.\n",
      "Try using .loc[row_indexer,col_indexer] = value instead\n",
      "\n",
      "See the caveats in the documentation: https://pandas.pydata.org/pandas-docs/stable/user_guide/indexing.html#returning-a-view-versus-a-copy\n"
     ]
    },
    {
     "name": "stdout",
     "output_type": "stream",
     "text": [
      "chunk 34 of 64\n"
     ]
    },
    {
     "name": "stderr",
     "output_type": "stream",
     "text": [
      "<timed exec>:10: SettingWithCopyWarning: \n",
      "A value is trying to be set on a copy of a slice from a DataFrame.\n",
      "Try using .loc[row_indexer,col_indexer] = value instead\n",
      "\n",
      "See the caveats in the documentation: https://pandas.pydata.org/pandas-docs/stable/user_guide/indexing.html#returning-a-view-versus-a-copy\n",
      "<timed exec>:14: SettingWithCopyWarning: \n",
      "A value is trying to be set on a copy of a slice from a DataFrame.\n",
      "Try using .loc[row_indexer,col_indexer] = value instead\n",
      "\n",
      "See the caveats in the documentation: https://pandas.pydata.org/pandas-docs/stable/user_guide/indexing.html#returning-a-view-versus-a-copy\n",
      "<timed exec>:18: SettingWithCopyWarning: \n",
      "A value is trying to be set on a copy of a slice from a DataFrame.\n",
      "Try using .loc[row_indexer,col_indexer] = value instead\n",
      "\n",
      "See the caveats in the documentation: https://pandas.pydata.org/pandas-docs/stable/user_guide/indexing.html#returning-a-view-versus-a-copy\n"
     ]
    },
    {
     "name": "stdout",
     "output_type": "stream",
     "text": [
      "chunk 35 of 64\n"
     ]
    },
    {
     "name": "stderr",
     "output_type": "stream",
     "text": [
      "<timed exec>:10: SettingWithCopyWarning: \n",
      "A value is trying to be set on a copy of a slice from a DataFrame.\n",
      "Try using .loc[row_indexer,col_indexer] = value instead\n",
      "\n",
      "See the caveats in the documentation: https://pandas.pydata.org/pandas-docs/stable/user_guide/indexing.html#returning-a-view-versus-a-copy\n",
      "<timed exec>:14: SettingWithCopyWarning: \n",
      "A value is trying to be set on a copy of a slice from a DataFrame.\n",
      "Try using .loc[row_indexer,col_indexer] = value instead\n",
      "\n",
      "See the caveats in the documentation: https://pandas.pydata.org/pandas-docs/stable/user_guide/indexing.html#returning-a-view-versus-a-copy\n",
      "<timed exec>:18: SettingWithCopyWarning: \n",
      "A value is trying to be set on a copy of a slice from a DataFrame.\n",
      "Try using .loc[row_indexer,col_indexer] = value instead\n",
      "\n",
      "See the caveats in the documentation: https://pandas.pydata.org/pandas-docs/stable/user_guide/indexing.html#returning-a-view-versus-a-copy\n"
     ]
    },
    {
     "name": "stdout",
     "output_type": "stream",
     "text": [
      "chunk 36 of 64\n"
     ]
    },
    {
     "name": "stderr",
     "output_type": "stream",
     "text": [
      "<timed exec>:10: SettingWithCopyWarning: \n",
      "A value is trying to be set on a copy of a slice from a DataFrame.\n",
      "Try using .loc[row_indexer,col_indexer] = value instead\n",
      "\n",
      "See the caveats in the documentation: https://pandas.pydata.org/pandas-docs/stable/user_guide/indexing.html#returning-a-view-versus-a-copy\n",
      "<timed exec>:14: SettingWithCopyWarning: \n",
      "A value is trying to be set on a copy of a slice from a DataFrame.\n",
      "Try using .loc[row_indexer,col_indexer] = value instead\n",
      "\n",
      "See the caveats in the documentation: https://pandas.pydata.org/pandas-docs/stable/user_guide/indexing.html#returning-a-view-versus-a-copy\n",
      "<timed exec>:18: SettingWithCopyWarning: \n",
      "A value is trying to be set on a copy of a slice from a DataFrame.\n",
      "Try using .loc[row_indexer,col_indexer] = value instead\n",
      "\n",
      "See the caveats in the documentation: https://pandas.pydata.org/pandas-docs/stable/user_guide/indexing.html#returning-a-view-versus-a-copy\n"
     ]
    },
    {
     "name": "stdout",
     "output_type": "stream",
     "text": [
      "chunk 37 of 64\n"
     ]
    },
    {
     "name": "stderr",
     "output_type": "stream",
     "text": [
      "<timed exec>:10: SettingWithCopyWarning: \n",
      "A value is trying to be set on a copy of a slice from a DataFrame.\n",
      "Try using .loc[row_indexer,col_indexer] = value instead\n",
      "\n",
      "See the caveats in the documentation: https://pandas.pydata.org/pandas-docs/stable/user_guide/indexing.html#returning-a-view-versus-a-copy\n",
      "<timed exec>:14: SettingWithCopyWarning: \n",
      "A value is trying to be set on a copy of a slice from a DataFrame.\n",
      "Try using .loc[row_indexer,col_indexer] = value instead\n",
      "\n",
      "See the caveats in the documentation: https://pandas.pydata.org/pandas-docs/stable/user_guide/indexing.html#returning-a-view-versus-a-copy\n",
      "<timed exec>:18: SettingWithCopyWarning: \n",
      "A value is trying to be set on a copy of a slice from a DataFrame.\n",
      "Try using .loc[row_indexer,col_indexer] = value instead\n",
      "\n",
      "See the caveats in the documentation: https://pandas.pydata.org/pandas-docs/stable/user_guide/indexing.html#returning-a-view-versus-a-copy\n"
     ]
    },
    {
     "name": "stdout",
     "output_type": "stream",
     "text": [
      "chunk 38 of 64\n"
     ]
    },
    {
     "name": "stderr",
     "output_type": "stream",
     "text": [
      "<timed exec>:10: SettingWithCopyWarning: \n",
      "A value is trying to be set on a copy of a slice from a DataFrame.\n",
      "Try using .loc[row_indexer,col_indexer] = value instead\n",
      "\n",
      "See the caveats in the documentation: https://pandas.pydata.org/pandas-docs/stable/user_guide/indexing.html#returning-a-view-versus-a-copy\n",
      "<timed exec>:14: SettingWithCopyWarning: \n",
      "A value is trying to be set on a copy of a slice from a DataFrame.\n",
      "Try using .loc[row_indexer,col_indexer] = value instead\n",
      "\n",
      "See the caveats in the documentation: https://pandas.pydata.org/pandas-docs/stable/user_guide/indexing.html#returning-a-view-versus-a-copy\n",
      "<timed exec>:18: SettingWithCopyWarning: \n",
      "A value is trying to be set on a copy of a slice from a DataFrame.\n",
      "Try using .loc[row_indexer,col_indexer] = value instead\n",
      "\n",
      "See the caveats in the documentation: https://pandas.pydata.org/pandas-docs/stable/user_guide/indexing.html#returning-a-view-versus-a-copy\n"
     ]
    },
    {
     "name": "stdout",
     "output_type": "stream",
     "text": [
      "chunk 39 of 64\n"
     ]
    },
    {
     "name": "stderr",
     "output_type": "stream",
     "text": [
      "<timed exec>:10: SettingWithCopyWarning: \n",
      "A value is trying to be set on a copy of a slice from a DataFrame.\n",
      "Try using .loc[row_indexer,col_indexer] = value instead\n",
      "\n",
      "See the caveats in the documentation: https://pandas.pydata.org/pandas-docs/stable/user_guide/indexing.html#returning-a-view-versus-a-copy\n",
      "<timed exec>:14: SettingWithCopyWarning: \n",
      "A value is trying to be set on a copy of a slice from a DataFrame.\n",
      "Try using .loc[row_indexer,col_indexer] = value instead\n",
      "\n",
      "See the caveats in the documentation: https://pandas.pydata.org/pandas-docs/stable/user_guide/indexing.html#returning-a-view-versus-a-copy\n",
      "<timed exec>:18: SettingWithCopyWarning: \n",
      "A value is trying to be set on a copy of a slice from a DataFrame.\n",
      "Try using .loc[row_indexer,col_indexer] = value instead\n",
      "\n",
      "See the caveats in the documentation: https://pandas.pydata.org/pandas-docs/stable/user_guide/indexing.html#returning-a-view-versus-a-copy\n"
     ]
    },
    {
     "name": "stdout",
     "output_type": "stream",
     "text": [
      "chunk 40 of 64\n"
     ]
    },
    {
     "name": "stderr",
     "output_type": "stream",
     "text": [
      "<timed exec>:10: SettingWithCopyWarning: \n",
      "A value is trying to be set on a copy of a slice from a DataFrame.\n",
      "Try using .loc[row_indexer,col_indexer] = value instead\n",
      "\n",
      "See the caveats in the documentation: https://pandas.pydata.org/pandas-docs/stable/user_guide/indexing.html#returning-a-view-versus-a-copy\n",
      "<timed exec>:14: SettingWithCopyWarning: \n",
      "A value is trying to be set on a copy of a slice from a DataFrame.\n",
      "Try using .loc[row_indexer,col_indexer] = value instead\n",
      "\n",
      "See the caveats in the documentation: https://pandas.pydata.org/pandas-docs/stable/user_guide/indexing.html#returning-a-view-versus-a-copy\n",
      "<timed exec>:18: SettingWithCopyWarning: \n",
      "A value is trying to be set on a copy of a slice from a DataFrame.\n",
      "Try using .loc[row_indexer,col_indexer] = value instead\n",
      "\n",
      "See the caveats in the documentation: https://pandas.pydata.org/pandas-docs/stable/user_guide/indexing.html#returning-a-view-versus-a-copy\n"
     ]
    },
    {
     "name": "stdout",
     "output_type": "stream",
     "text": [
      "chunk 41 of 64\n"
     ]
    },
    {
     "name": "stderr",
     "output_type": "stream",
     "text": [
      "<timed exec>:10: SettingWithCopyWarning: \n",
      "A value is trying to be set on a copy of a slice from a DataFrame.\n",
      "Try using .loc[row_indexer,col_indexer] = value instead\n",
      "\n",
      "See the caveats in the documentation: https://pandas.pydata.org/pandas-docs/stable/user_guide/indexing.html#returning-a-view-versus-a-copy\n",
      "<timed exec>:14: SettingWithCopyWarning: \n",
      "A value is trying to be set on a copy of a slice from a DataFrame.\n",
      "Try using .loc[row_indexer,col_indexer] = value instead\n",
      "\n",
      "See the caveats in the documentation: https://pandas.pydata.org/pandas-docs/stable/user_guide/indexing.html#returning-a-view-versus-a-copy\n",
      "<timed exec>:18: SettingWithCopyWarning: \n",
      "A value is trying to be set on a copy of a slice from a DataFrame.\n",
      "Try using .loc[row_indexer,col_indexer] = value instead\n",
      "\n",
      "See the caveats in the documentation: https://pandas.pydata.org/pandas-docs/stable/user_guide/indexing.html#returning-a-view-versus-a-copy\n"
     ]
    },
    {
     "name": "stdout",
     "output_type": "stream",
     "text": [
      "chunk 42 of 64\n"
     ]
    },
    {
     "name": "stderr",
     "output_type": "stream",
     "text": [
      "<timed exec>:10: SettingWithCopyWarning: \n",
      "A value is trying to be set on a copy of a slice from a DataFrame.\n",
      "Try using .loc[row_indexer,col_indexer] = value instead\n",
      "\n",
      "See the caveats in the documentation: https://pandas.pydata.org/pandas-docs/stable/user_guide/indexing.html#returning-a-view-versus-a-copy\n",
      "<timed exec>:14: SettingWithCopyWarning: \n",
      "A value is trying to be set on a copy of a slice from a DataFrame.\n",
      "Try using .loc[row_indexer,col_indexer] = value instead\n",
      "\n",
      "See the caveats in the documentation: https://pandas.pydata.org/pandas-docs/stable/user_guide/indexing.html#returning-a-view-versus-a-copy\n",
      "<timed exec>:18: SettingWithCopyWarning: \n",
      "A value is trying to be set on a copy of a slice from a DataFrame.\n",
      "Try using .loc[row_indexer,col_indexer] = value instead\n",
      "\n",
      "See the caveats in the documentation: https://pandas.pydata.org/pandas-docs/stable/user_guide/indexing.html#returning-a-view-versus-a-copy\n"
     ]
    },
    {
     "name": "stdout",
     "output_type": "stream",
     "text": [
      "chunk 43 of 64\n"
     ]
    },
    {
     "name": "stderr",
     "output_type": "stream",
     "text": [
      "<timed exec>:10: SettingWithCopyWarning: \n",
      "A value is trying to be set on a copy of a slice from a DataFrame.\n",
      "Try using .loc[row_indexer,col_indexer] = value instead\n",
      "\n",
      "See the caveats in the documentation: https://pandas.pydata.org/pandas-docs/stable/user_guide/indexing.html#returning-a-view-versus-a-copy\n",
      "<timed exec>:14: SettingWithCopyWarning: \n",
      "A value is trying to be set on a copy of a slice from a DataFrame.\n",
      "Try using .loc[row_indexer,col_indexer] = value instead\n",
      "\n",
      "See the caveats in the documentation: https://pandas.pydata.org/pandas-docs/stable/user_guide/indexing.html#returning-a-view-versus-a-copy\n",
      "<timed exec>:18: SettingWithCopyWarning: \n",
      "A value is trying to be set on a copy of a slice from a DataFrame.\n",
      "Try using .loc[row_indexer,col_indexer] = value instead\n",
      "\n",
      "See the caveats in the documentation: https://pandas.pydata.org/pandas-docs/stable/user_guide/indexing.html#returning-a-view-versus-a-copy\n"
     ]
    },
    {
     "name": "stdout",
     "output_type": "stream",
     "text": [
      "chunk 44 of 64\n"
     ]
    },
    {
     "name": "stderr",
     "output_type": "stream",
     "text": [
      "<timed exec>:10: SettingWithCopyWarning: \n",
      "A value is trying to be set on a copy of a slice from a DataFrame.\n",
      "Try using .loc[row_indexer,col_indexer] = value instead\n",
      "\n",
      "See the caveats in the documentation: https://pandas.pydata.org/pandas-docs/stable/user_guide/indexing.html#returning-a-view-versus-a-copy\n",
      "<timed exec>:14: SettingWithCopyWarning: \n",
      "A value is trying to be set on a copy of a slice from a DataFrame.\n",
      "Try using .loc[row_indexer,col_indexer] = value instead\n",
      "\n",
      "See the caveats in the documentation: https://pandas.pydata.org/pandas-docs/stable/user_guide/indexing.html#returning-a-view-versus-a-copy\n",
      "<timed exec>:18: SettingWithCopyWarning: \n",
      "A value is trying to be set on a copy of a slice from a DataFrame.\n",
      "Try using .loc[row_indexer,col_indexer] = value instead\n",
      "\n",
      "See the caveats in the documentation: https://pandas.pydata.org/pandas-docs/stable/user_guide/indexing.html#returning-a-view-versus-a-copy\n"
     ]
    },
    {
     "name": "stdout",
     "output_type": "stream",
     "text": [
      "chunk 45 of 64\n"
     ]
    },
    {
     "name": "stderr",
     "output_type": "stream",
     "text": [
      "<timed exec>:10: SettingWithCopyWarning: \n",
      "A value is trying to be set on a copy of a slice from a DataFrame.\n",
      "Try using .loc[row_indexer,col_indexer] = value instead\n",
      "\n",
      "See the caveats in the documentation: https://pandas.pydata.org/pandas-docs/stable/user_guide/indexing.html#returning-a-view-versus-a-copy\n",
      "<timed exec>:14: SettingWithCopyWarning: \n",
      "A value is trying to be set on a copy of a slice from a DataFrame.\n",
      "Try using .loc[row_indexer,col_indexer] = value instead\n",
      "\n",
      "See the caveats in the documentation: https://pandas.pydata.org/pandas-docs/stable/user_guide/indexing.html#returning-a-view-versus-a-copy\n",
      "<timed exec>:18: SettingWithCopyWarning: \n",
      "A value is trying to be set on a copy of a slice from a DataFrame.\n",
      "Try using .loc[row_indexer,col_indexer] = value instead\n",
      "\n",
      "See the caveats in the documentation: https://pandas.pydata.org/pandas-docs/stable/user_guide/indexing.html#returning-a-view-versus-a-copy\n"
     ]
    },
    {
     "name": "stdout",
     "output_type": "stream",
     "text": [
      "chunk 46 of 64\n"
     ]
    },
    {
     "name": "stderr",
     "output_type": "stream",
     "text": [
      "<timed exec>:10: SettingWithCopyWarning: \n",
      "A value is trying to be set on a copy of a slice from a DataFrame.\n",
      "Try using .loc[row_indexer,col_indexer] = value instead\n",
      "\n",
      "See the caveats in the documentation: https://pandas.pydata.org/pandas-docs/stable/user_guide/indexing.html#returning-a-view-versus-a-copy\n",
      "<timed exec>:14: SettingWithCopyWarning: \n",
      "A value is trying to be set on a copy of a slice from a DataFrame.\n",
      "Try using .loc[row_indexer,col_indexer] = value instead\n",
      "\n",
      "See the caveats in the documentation: https://pandas.pydata.org/pandas-docs/stable/user_guide/indexing.html#returning-a-view-versus-a-copy\n",
      "<timed exec>:18: SettingWithCopyWarning: \n",
      "A value is trying to be set on a copy of a slice from a DataFrame.\n",
      "Try using .loc[row_indexer,col_indexer] = value instead\n",
      "\n",
      "See the caveats in the documentation: https://pandas.pydata.org/pandas-docs/stable/user_guide/indexing.html#returning-a-view-versus-a-copy\n"
     ]
    },
    {
     "name": "stdout",
     "output_type": "stream",
     "text": [
      "chunk 47 of 64\n"
     ]
    },
    {
     "name": "stderr",
     "output_type": "stream",
     "text": [
      "<timed exec>:10: SettingWithCopyWarning: \n",
      "A value is trying to be set on a copy of a slice from a DataFrame.\n",
      "Try using .loc[row_indexer,col_indexer] = value instead\n",
      "\n",
      "See the caveats in the documentation: https://pandas.pydata.org/pandas-docs/stable/user_guide/indexing.html#returning-a-view-versus-a-copy\n",
      "<timed exec>:14: SettingWithCopyWarning: \n",
      "A value is trying to be set on a copy of a slice from a DataFrame.\n",
      "Try using .loc[row_indexer,col_indexer] = value instead\n",
      "\n",
      "See the caveats in the documentation: https://pandas.pydata.org/pandas-docs/stable/user_guide/indexing.html#returning-a-view-versus-a-copy\n",
      "<timed exec>:18: SettingWithCopyWarning: \n",
      "A value is trying to be set on a copy of a slice from a DataFrame.\n",
      "Try using .loc[row_indexer,col_indexer] = value instead\n",
      "\n",
      "See the caveats in the documentation: https://pandas.pydata.org/pandas-docs/stable/user_guide/indexing.html#returning-a-view-versus-a-copy\n"
     ]
    },
    {
     "name": "stdout",
     "output_type": "stream",
     "text": [
      "chunk 48 of 64\n"
     ]
    },
    {
     "name": "stderr",
     "output_type": "stream",
     "text": [
      "<timed exec>:10: SettingWithCopyWarning: \n",
      "A value is trying to be set on a copy of a slice from a DataFrame.\n",
      "Try using .loc[row_indexer,col_indexer] = value instead\n",
      "\n",
      "See the caveats in the documentation: https://pandas.pydata.org/pandas-docs/stable/user_guide/indexing.html#returning-a-view-versus-a-copy\n",
      "<timed exec>:14: SettingWithCopyWarning: \n",
      "A value is trying to be set on a copy of a slice from a DataFrame.\n",
      "Try using .loc[row_indexer,col_indexer] = value instead\n",
      "\n",
      "See the caveats in the documentation: https://pandas.pydata.org/pandas-docs/stable/user_guide/indexing.html#returning-a-view-versus-a-copy\n",
      "<timed exec>:18: SettingWithCopyWarning: \n",
      "A value is trying to be set on a copy of a slice from a DataFrame.\n",
      "Try using .loc[row_indexer,col_indexer] = value instead\n",
      "\n",
      "See the caveats in the documentation: https://pandas.pydata.org/pandas-docs/stable/user_guide/indexing.html#returning-a-view-versus-a-copy\n"
     ]
    },
    {
     "name": "stdout",
     "output_type": "stream",
     "text": [
      "chunk 49 of 64\n"
     ]
    },
    {
     "name": "stderr",
     "output_type": "stream",
     "text": [
      "<timed exec>:10: SettingWithCopyWarning: \n",
      "A value is trying to be set on a copy of a slice from a DataFrame.\n",
      "Try using .loc[row_indexer,col_indexer] = value instead\n",
      "\n",
      "See the caveats in the documentation: https://pandas.pydata.org/pandas-docs/stable/user_guide/indexing.html#returning-a-view-versus-a-copy\n",
      "<timed exec>:14: SettingWithCopyWarning: \n",
      "A value is trying to be set on a copy of a slice from a DataFrame.\n",
      "Try using .loc[row_indexer,col_indexer] = value instead\n",
      "\n",
      "See the caveats in the documentation: https://pandas.pydata.org/pandas-docs/stable/user_guide/indexing.html#returning-a-view-versus-a-copy\n",
      "<timed exec>:18: SettingWithCopyWarning: \n",
      "A value is trying to be set on a copy of a slice from a DataFrame.\n",
      "Try using .loc[row_indexer,col_indexer] = value instead\n",
      "\n",
      "See the caveats in the documentation: https://pandas.pydata.org/pandas-docs/stable/user_guide/indexing.html#returning-a-view-versus-a-copy\n"
     ]
    },
    {
     "name": "stdout",
     "output_type": "stream",
     "text": [
      "chunk 50 of 64\n"
     ]
    },
    {
     "name": "stderr",
     "output_type": "stream",
     "text": [
      "<timed exec>:10: SettingWithCopyWarning: \n",
      "A value is trying to be set on a copy of a slice from a DataFrame.\n",
      "Try using .loc[row_indexer,col_indexer] = value instead\n",
      "\n",
      "See the caveats in the documentation: https://pandas.pydata.org/pandas-docs/stable/user_guide/indexing.html#returning-a-view-versus-a-copy\n",
      "<timed exec>:14: SettingWithCopyWarning: \n",
      "A value is trying to be set on a copy of a slice from a DataFrame.\n",
      "Try using .loc[row_indexer,col_indexer] = value instead\n",
      "\n",
      "See the caveats in the documentation: https://pandas.pydata.org/pandas-docs/stable/user_guide/indexing.html#returning-a-view-versus-a-copy\n",
      "<timed exec>:18: SettingWithCopyWarning: \n",
      "A value is trying to be set on a copy of a slice from a DataFrame.\n",
      "Try using .loc[row_indexer,col_indexer] = value instead\n",
      "\n",
      "See the caveats in the documentation: https://pandas.pydata.org/pandas-docs/stable/user_guide/indexing.html#returning-a-view-versus-a-copy\n"
     ]
    },
    {
     "name": "stdout",
     "output_type": "stream",
     "text": [
      "chunk 51 of 64\n"
     ]
    },
    {
     "name": "stderr",
     "output_type": "stream",
     "text": [
      "<timed exec>:10: SettingWithCopyWarning: \n",
      "A value is trying to be set on a copy of a slice from a DataFrame.\n",
      "Try using .loc[row_indexer,col_indexer] = value instead\n",
      "\n",
      "See the caveats in the documentation: https://pandas.pydata.org/pandas-docs/stable/user_guide/indexing.html#returning-a-view-versus-a-copy\n",
      "<timed exec>:14: SettingWithCopyWarning: \n",
      "A value is trying to be set on a copy of a slice from a DataFrame.\n",
      "Try using .loc[row_indexer,col_indexer] = value instead\n",
      "\n",
      "See the caveats in the documentation: https://pandas.pydata.org/pandas-docs/stable/user_guide/indexing.html#returning-a-view-versus-a-copy\n",
      "<timed exec>:18: SettingWithCopyWarning: \n",
      "A value is trying to be set on a copy of a slice from a DataFrame.\n",
      "Try using .loc[row_indexer,col_indexer] = value instead\n",
      "\n",
      "See the caveats in the documentation: https://pandas.pydata.org/pandas-docs/stable/user_guide/indexing.html#returning-a-view-versus-a-copy\n"
     ]
    },
    {
     "name": "stdout",
     "output_type": "stream",
     "text": [
      "chunk 52 of 64\n"
     ]
    },
    {
     "name": "stderr",
     "output_type": "stream",
     "text": [
      "<timed exec>:10: SettingWithCopyWarning: \n",
      "A value is trying to be set on a copy of a slice from a DataFrame.\n",
      "Try using .loc[row_indexer,col_indexer] = value instead\n",
      "\n",
      "See the caveats in the documentation: https://pandas.pydata.org/pandas-docs/stable/user_guide/indexing.html#returning-a-view-versus-a-copy\n",
      "<timed exec>:14: SettingWithCopyWarning: \n",
      "A value is trying to be set on a copy of a slice from a DataFrame.\n",
      "Try using .loc[row_indexer,col_indexer] = value instead\n",
      "\n",
      "See the caveats in the documentation: https://pandas.pydata.org/pandas-docs/stable/user_guide/indexing.html#returning-a-view-versus-a-copy\n",
      "<timed exec>:18: SettingWithCopyWarning: \n",
      "A value is trying to be set on a copy of a slice from a DataFrame.\n",
      "Try using .loc[row_indexer,col_indexer] = value instead\n",
      "\n",
      "See the caveats in the documentation: https://pandas.pydata.org/pandas-docs/stable/user_guide/indexing.html#returning-a-view-versus-a-copy\n"
     ]
    },
    {
     "name": "stdout",
     "output_type": "stream",
     "text": [
      "chunk 53 of 64\n"
     ]
    },
    {
     "name": "stderr",
     "output_type": "stream",
     "text": [
      "<timed exec>:10: SettingWithCopyWarning: \n",
      "A value is trying to be set on a copy of a slice from a DataFrame.\n",
      "Try using .loc[row_indexer,col_indexer] = value instead\n",
      "\n",
      "See the caveats in the documentation: https://pandas.pydata.org/pandas-docs/stable/user_guide/indexing.html#returning-a-view-versus-a-copy\n",
      "<timed exec>:14: SettingWithCopyWarning: \n",
      "A value is trying to be set on a copy of a slice from a DataFrame.\n",
      "Try using .loc[row_indexer,col_indexer] = value instead\n",
      "\n",
      "See the caveats in the documentation: https://pandas.pydata.org/pandas-docs/stable/user_guide/indexing.html#returning-a-view-versus-a-copy\n",
      "<timed exec>:18: SettingWithCopyWarning: \n",
      "A value is trying to be set on a copy of a slice from a DataFrame.\n",
      "Try using .loc[row_indexer,col_indexer] = value instead\n",
      "\n",
      "See the caveats in the documentation: https://pandas.pydata.org/pandas-docs/stable/user_guide/indexing.html#returning-a-view-versus-a-copy\n"
     ]
    },
    {
     "name": "stdout",
     "output_type": "stream",
     "text": [
      "chunk 54 of 64\n"
     ]
    },
    {
     "name": "stderr",
     "output_type": "stream",
     "text": [
      "<timed exec>:10: SettingWithCopyWarning: \n",
      "A value is trying to be set on a copy of a slice from a DataFrame.\n",
      "Try using .loc[row_indexer,col_indexer] = value instead\n",
      "\n",
      "See the caveats in the documentation: https://pandas.pydata.org/pandas-docs/stable/user_guide/indexing.html#returning-a-view-versus-a-copy\n",
      "<timed exec>:14: SettingWithCopyWarning: \n",
      "A value is trying to be set on a copy of a slice from a DataFrame.\n",
      "Try using .loc[row_indexer,col_indexer] = value instead\n",
      "\n",
      "See the caveats in the documentation: https://pandas.pydata.org/pandas-docs/stable/user_guide/indexing.html#returning-a-view-versus-a-copy\n",
      "<timed exec>:18: SettingWithCopyWarning: \n",
      "A value is trying to be set on a copy of a slice from a DataFrame.\n",
      "Try using .loc[row_indexer,col_indexer] = value instead\n",
      "\n",
      "See the caveats in the documentation: https://pandas.pydata.org/pandas-docs/stable/user_guide/indexing.html#returning-a-view-versus-a-copy\n"
     ]
    },
    {
     "name": "stdout",
     "output_type": "stream",
     "text": [
      "chunk 55 of 64\n"
     ]
    },
    {
     "name": "stderr",
     "output_type": "stream",
     "text": [
      "<timed exec>:10: SettingWithCopyWarning: \n",
      "A value is trying to be set on a copy of a slice from a DataFrame.\n",
      "Try using .loc[row_indexer,col_indexer] = value instead\n",
      "\n",
      "See the caveats in the documentation: https://pandas.pydata.org/pandas-docs/stable/user_guide/indexing.html#returning-a-view-versus-a-copy\n",
      "<timed exec>:14: SettingWithCopyWarning: \n",
      "A value is trying to be set on a copy of a slice from a DataFrame.\n",
      "Try using .loc[row_indexer,col_indexer] = value instead\n",
      "\n",
      "See the caveats in the documentation: https://pandas.pydata.org/pandas-docs/stable/user_guide/indexing.html#returning-a-view-versus-a-copy\n",
      "<timed exec>:18: SettingWithCopyWarning: \n",
      "A value is trying to be set on a copy of a slice from a DataFrame.\n",
      "Try using .loc[row_indexer,col_indexer] = value instead\n",
      "\n",
      "See the caveats in the documentation: https://pandas.pydata.org/pandas-docs/stable/user_guide/indexing.html#returning-a-view-versus-a-copy\n"
     ]
    },
    {
     "name": "stdout",
     "output_type": "stream",
     "text": [
      "chunk 56 of 64\n"
     ]
    },
    {
     "name": "stderr",
     "output_type": "stream",
     "text": [
      "<timed exec>:10: SettingWithCopyWarning: \n",
      "A value is trying to be set on a copy of a slice from a DataFrame.\n",
      "Try using .loc[row_indexer,col_indexer] = value instead\n",
      "\n",
      "See the caveats in the documentation: https://pandas.pydata.org/pandas-docs/stable/user_guide/indexing.html#returning-a-view-versus-a-copy\n",
      "<timed exec>:14: SettingWithCopyWarning: \n",
      "A value is trying to be set on a copy of a slice from a DataFrame.\n",
      "Try using .loc[row_indexer,col_indexer] = value instead\n",
      "\n",
      "See the caveats in the documentation: https://pandas.pydata.org/pandas-docs/stable/user_guide/indexing.html#returning-a-view-versus-a-copy\n",
      "<timed exec>:18: SettingWithCopyWarning: \n",
      "A value is trying to be set on a copy of a slice from a DataFrame.\n",
      "Try using .loc[row_indexer,col_indexer] = value instead\n",
      "\n",
      "See the caveats in the documentation: https://pandas.pydata.org/pandas-docs/stable/user_guide/indexing.html#returning-a-view-versus-a-copy\n"
     ]
    },
    {
     "name": "stdout",
     "output_type": "stream",
     "text": [
      "chunk 57 of 64\n"
     ]
    },
    {
     "name": "stderr",
     "output_type": "stream",
     "text": [
      "<timed exec>:10: SettingWithCopyWarning: \n",
      "A value is trying to be set on a copy of a slice from a DataFrame.\n",
      "Try using .loc[row_indexer,col_indexer] = value instead\n",
      "\n",
      "See the caveats in the documentation: https://pandas.pydata.org/pandas-docs/stable/user_guide/indexing.html#returning-a-view-versus-a-copy\n",
      "<timed exec>:14: SettingWithCopyWarning: \n",
      "A value is trying to be set on a copy of a slice from a DataFrame.\n",
      "Try using .loc[row_indexer,col_indexer] = value instead\n",
      "\n",
      "See the caveats in the documentation: https://pandas.pydata.org/pandas-docs/stable/user_guide/indexing.html#returning-a-view-versus-a-copy\n",
      "<timed exec>:18: SettingWithCopyWarning: \n",
      "A value is trying to be set on a copy of a slice from a DataFrame.\n",
      "Try using .loc[row_indexer,col_indexer] = value instead\n",
      "\n",
      "See the caveats in the documentation: https://pandas.pydata.org/pandas-docs/stable/user_guide/indexing.html#returning-a-view-versus-a-copy\n"
     ]
    },
    {
     "name": "stdout",
     "output_type": "stream",
     "text": [
      "chunk 58 of 64\n"
     ]
    },
    {
     "name": "stderr",
     "output_type": "stream",
     "text": [
      "<timed exec>:10: SettingWithCopyWarning: \n",
      "A value is trying to be set on a copy of a slice from a DataFrame.\n",
      "Try using .loc[row_indexer,col_indexer] = value instead\n",
      "\n",
      "See the caveats in the documentation: https://pandas.pydata.org/pandas-docs/stable/user_guide/indexing.html#returning-a-view-versus-a-copy\n",
      "<timed exec>:14: SettingWithCopyWarning: \n",
      "A value is trying to be set on a copy of a slice from a DataFrame.\n",
      "Try using .loc[row_indexer,col_indexer] = value instead\n",
      "\n",
      "See the caveats in the documentation: https://pandas.pydata.org/pandas-docs/stable/user_guide/indexing.html#returning-a-view-versus-a-copy\n",
      "<timed exec>:18: SettingWithCopyWarning: \n",
      "A value is trying to be set on a copy of a slice from a DataFrame.\n",
      "Try using .loc[row_indexer,col_indexer] = value instead\n",
      "\n",
      "See the caveats in the documentation: https://pandas.pydata.org/pandas-docs/stable/user_guide/indexing.html#returning-a-view-versus-a-copy\n"
     ]
    },
    {
     "name": "stdout",
     "output_type": "stream",
     "text": [
      "chunk 59 of 64\n"
     ]
    },
    {
     "name": "stderr",
     "output_type": "stream",
     "text": [
      "<timed exec>:10: SettingWithCopyWarning: \n",
      "A value is trying to be set on a copy of a slice from a DataFrame.\n",
      "Try using .loc[row_indexer,col_indexer] = value instead\n",
      "\n",
      "See the caveats in the documentation: https://pandas.pydata.org/pandas-docs/stable/user_guide/indexing.html#returning-a-view-versus-a-copy\n",
      "<timed exec>:14: SettingWithCopyWarning: \n",
      "A value is trying to be set on a copy of a slice from a DataFrame.\n",
      "Try using .loc[row_indexer,col_indexer] = value instead\n",
      "\n",
      "See the caveats in the documentation: https://pandas.pydata.org/pandas-docs/stable/user_guide/indexing.html#returning-a-view-versus-a-copy\n",
      "<timed exec>:18: SettingWithCopyWarning: \n",
      "A value is trying to be set on a copy of a slice from a DataFrame.\n",
      "Try using .loc[row_indexer,col_indexer] = value instead\n",
      "\n",
      "See the caveats in the documentation: https://pandas.pydata.org/pandas-docs/stable/user_guide/indexing.html#returning-a-view-versus-a-copy\n"
     ]
    },
    {
     "name": "stdout",
     "output_type": "stream",
     "text": [
      "chunk 60 of 64\n"
     ]
    },
    {
     "name": "stderr",
     "output_type": "stream",
     "text": [
      "<timed exec>:10: SettingWithCopyWarning: \n",
      "A value is trying to be set on a copy of a slice from a DataFrame.\n",
      "Try using .loc[row_indexer,col_indexer] = value instead\n",
      "\n",
      "See the caveats in the documentation: https://pandas.pydata.org/pandas-docs/stable/user_guide/indexing.html#returning-a-view-versus-a-copy\n",
      "<timed exec>:14: SettingWithCopyWarning: \n",
      "A value is trying to be set on a copy of a slice from a DataFrame.\n",
      "Try using .loc[row_indexer,col_indexer] = value instead\n",
      "\n",
      "See the caveats in the documentation: https://pandas.pydata.org/pandas-docs/stable/user_guide/indexing.html#returning-a-view-versus-a-copy\n",
      "<timed exec>:18: SettingWithCopyWarning: \n",
      "A value is trying to be set on a copy of a slice from a DataFrame.\n",
      "Try using .loc[row_indexer,col_indexer] = value instead\n",
      "\n",
      "See the caveats in the documentation: https://pandas.pydata.org/pandas-docs/stable/user_guide/indexing.html#returning-a-view-versus-a-copy\n"
     ]
    },
    {
     "name": "stdout",
     "output_type": "stream",
     "text": [
      "chunk 61 of 64\n"
     ]
    },
    {
     "name": "stderr",
     "output_type": "stream",
     "text": [
      "<timed exec>:10: SettingWithCopyWarning: \n",
      "A value is trying to be set on a copy of a slice from a DataFrame.\n",
      "Try using .loc[row_indexer,col_indexer] = value instead\n",
      "\n",
      "See the caveats in the documentation: https://pandas.pydata.org/pandas-docs/stable/user_guide/indexing.html#returning-a-view-versus-a-copy\n",
      "<timed exec>:14: SettingWithCopyWarning: \n",
      "A value is trying to be set on a copy of a slice from a DataFrame.\n",
      "Try using .loc[row_indexer,col_indexer] = value instead\n",
      "\n",
      "See the caveats in the documentation: https://pandas.pydata.org/pandas-docs/stable/user_guide/indexing.html#returning-a-view-versus-a-copy\n",
      "<timed exec>:18: SettingWithCopyWarning: \n",
      "A value is trying to be set on a copy of a slice from a DataFrame.\n",
      "Try using .loc[row_indexer,col_indexer] = value instead\n",
      "\n",
      "See the caveats in the documentation: https://pandas.pydata.org/pandas-docs/stable/user_guide/indexing.html#returning-a-view-versus-a-copy\n"
     ]
    },
    {
     "name": "stdout",
     "output_type": "stream",
     "text": [
      "chunk 62 of 64\n"
     ]
    },
    {
     "name": "stderr",
     "output_type": "stream",
     "text": [
      "<timed exec>:10: SettingWithCopyWarning: \n",
      "A value is trying to be set on a copy of a slice from a DataFrame.\n",
      "Try using .loc[row_indexer,col_indexer] = value instead\n",
      "\n",
      "See the caveats in the documentation: https://pandas.pydata.org/pandas-docs/stable/user_guide/indexing.html#returning-a-view-versus-a-copy\n",
      "<timed exec>:14: SettingWithCopyWarning: \n",
      "A value is trying to be set on a copy of a slice from a DataFrame.\n",
      "Try using .loc[row_indexer,col_indexer] = value instead\n",
      "\n",
      "See the caveats in the documentation: https://pandas.pydata.org/pandas-docs/stable/user_guide/indexing.html#returning-a-view-versus-a-copy\n",
      "<timed exec>:18: SettingWithCopyWarning: \n",
      "A value is trying to be set on a copy of a slice from a DataFrame.\n",
      "Try using .loc[row_indexer,col_indexer] = value instead\n",
      "\n",
      "See the caveats in the documentation: https://pandas.pydata.org/pandas-docs/stable/user_guide/indexing.html#returning-a-view-versus-a-copy\n"
     ]
    },
    {
     "name": "stdout",
     "output_type": "stream",
     "text": [
      "chunk 63 of 64\n"
     ]
    },
    {
     "name": "stderr",
     "output_type": "stream",
     "text": [
      "<timed exec>:10: SettingWithCopyWarning: \n",
      "A value is trying to be set on a copy of a slice from a DataFrame.\n",
      "Try using .loc[row_indexer,col_indexer] = value instead\n",
      "\n",
      "See the caveats in the documentation: https://pandas.pydata.org/pandas-docs/stable/user_guide/indexing.html#returning-a-view-versus-a-copy\n",
      "<timed exec>:14: SettingWithCopyWarning: \n",
      "A value is trying to be set on a copy of a slice from a DataFrame.\n",
      "Try using .loc[row_indexer,col_indexer] = value instead\n",
      "\n",
      "See the caveats in the documentation: https://pandas.pydata.org/pandas-docs/stable/user_guide/indexing.html#returning-a-view-versus-a-copy\n",
      "<timed exec>:18: SettingWithCopyWarning: \n",
      "A value is trying to be set on a copy of a slice from a DataFrame.\n",
      "Try using .loc[row_indexer,col_indexer] = value instead\n",
      "\n",
      "See the caveats in the documentation: https://pandas.pydata.org/pandas-docs/stable/user_guide/indexing.html#returning-a-view-versus-a-copy\n"
     ]
    },
    {
     "name": "stdout",
     "output_type": "stream",
     "text": [
      "chunk 64 of 64\n"
     ]
    },
    {
     "name": "stderr",
     "output_type": "stream",
     "text": [
      "<timed exec>:10: SettingWithCopyWarning: \n",
      "A value is trying to be set on a copy of a slice from a DataFrame.\n",
      "Try using .loc[row_indexer,col_indexer] = value instead\n",
      "\n",
      "See the caveats in the documentation: https://pandas.pydata.org/pandas-docs/stable/user_guide/indexing.html#returning-a-view-versus-a-copy\n",
      "<timed exec>:14: SettingWithCopyWarning: \n",
      "A value is trying to be set on a copy of a slice from a DataFrame.\n",
      "Try using .loc[row_indexer,col_indexer] = value instead\n",
      "\n",
      "See the caveats in the documentation: https://pandas.pydata.org/pandas-docs/stable/user_guide/indexing.html#returning-a-view-versus-a-copy\n"
     ]
    },
    {
     "name": "stdout",
     "output_type": "stream",
     "text": [
      "CPU times: user 24min 53s, sys: 8min 4s, total: 32min 57s\n",
      "Wall time: 46min 34s\n"
     ]
    },
    {
     "name": "stderr",
     "output_type": "stream",
     "text": [
      "<timed exec>:18: SettingWithCopyWarning: \n",
      "A value is trying to be set on a copy of a slice from a DataFrame.\n",
      "Try using .loc[row_indexer,col_indexer] = value instead\n",
      "\n",
      "See the caveats in the documentation: https://pandas.pydata.org/pandas-docs/stable/user_guide/indexing.html#returning-a-view-versus-a-copy\n"
     ]
    }
   ],
   "source": [
    "%%time \n",
    "#runs for 45min\n",
    "\n",
    "# Iterate over each dataframe in df_chunks (takes a long time)\n",
    "i=1\n",
    "for df_chunk in df_chunks:\n",
    "    print('chunk', i, 'of', num_chunks)\n",
    "\n",
    "\n",
    "    # turn string to list\n",
    "    df_chunk['path'] = df_chunk['path'].apply(convert_path_to_list)\n",
    "\n",
    "\n",
    "    # add length\n",
    "    df_chunk[\"length\"] = df_chunk.apply(lambda x: np.sum([g.es[e][\"weight\"] for e in x.path]), axis = 1)\n",
    "\n",
    "\n",
    "    # add path in nx edge id\n",
    "    df_chunk[\"path_nx\"] = df_chunk.apply(lambda x: \n",
    "                                    [tuple(sorted(g.es[edge][\"edge_id\"])) for edge in x.path], \n",
    "                                    axis = 1)\n",
    "\n",
    "\n",
    "    \n",
    "    i +=1"
   ]
  },
  {
   "cell_type": "code",
   "execution_count": 157,
   "id": "1c794c7a",
   "metadata": {},
   "outputs": [],
   "source": [
    "# Bring the chunks back into one dataframe\n",
    "mygaps = pd.concat(df_chunks)\n",
    "\n",
    "\n",
    "# Save to csv\n",
    "mygaps.to_csv(\"./data/clean/mygaps1.csv\", index=False)\n",
    "mygaps.loc[mygaps['length'] < 80].to_csv(\"./data/clean/mygaps1_under80.csv\", index=False)"
   ]
  },
  {
   "attachments": {},
   "cell_type": "markdown",
   "id": "d14ffded",
   "metadata": {},
   "source": [
    "### 2)"
   ]
  },
  {
   "cell_type": "code",
   "execution_count": 4,
   "id": "99f3738e",
   "metadata": {},
   "outputs": [],
   "source": [
    "# import mygaps1\n",
    "num_of_rows = 100000\n",
    "mygaps = pd.read_csv(\"./data/clean/mygaps1_under80.csv\", chunksize = 100)\n",
    "df_chunks = [df_chunk for df_chunk in mygaps]"
   ]
  },
  {
   "cell_type": "code",
   "execution_count": 6,
   "id": "ac3be769",
   "metadata": {},
   "outputs": [
    {
     "name": "stdout",
     "output_type": "stream",
     "text": [
      "chunk 1 of 13\n",
      "chunk 2 of 13\n",
      "chunk 3 of 13\n",
      "chunk 4 of 13\n",
      "chunk 5 of 13\n",
      "chunk 6 of 13\n",
      "chunk 7 of 13\n",
      "chunk 8 of 13\n",
      "chunk 9 of 13\n",
      "chunk 10 of 13\n",
      "chunk 11 of 13\n",
      "chunk 12 of 13\n",
      "chunk 13 of 13\n",
      "CPU times: user 47.5 s, sys: 643 ms, total: 48.1 s\n",
      "Wall time: 49.4 s\n"
     ]
    }
   ],
   "source": [
    "%%time \n",
    "\n",
    "# Iterate over each dataframe in df_chunks \n",
    "i=1\n",
    "for df_chunk in df_chunks:\n",
    "    print('chunk', i, 'of', len(df_chunks))\n",
    "\n",
    "    # add origin and destination nodes\n",
    "    # (separate procedure for gaps with edgenumber (enr) == 1 vs. gaps with enr > 1)\n",
    "    df_chunk[\"enr\"] = df_chunk.apply(lambda x: len(x.path), axis = 1)\n",
    "    df_chunk[\"o_nx\"] = None\n",
    "    df_chunk[\"d_nx\"] = None\n",
    "    df_chunk.loc[df_chunk[\"enr\"]==1, \"o_nx\"] = df_chunk[df_chunk[\"enr\"] == 1].apply(lambda x: x.path_nx[0][0], axis = 1)\n",
    "    df_chunk.loc[df_chunk[\"enr\"]==1, \"d_nx\"] = df_chunk[df_chunk[\"enr\"] == 1].apply(lambda x: x.path_nx[0][1], axis = 1)\n",
    "    df_chunk.loc[df_chunk[\"enr\"]!=1, \"o_nx\"] = df_chunk[df_chunk[\"enr\"]!=1].apply(lambda x: set(x.path_nx[0]).difference(x.path_nx[1]).pop(), axis = 1)\n",
    "    df_chunk.loc[df_chunk[\"enr\"]!=1, \"d_nx\"] = df_chunk[df_chunk[\"enr\"]!=1].apply(lambda x: set(x.path_nx[-1]).difference(x.path_nx[-2]).pop(), axis = 1)\n",
    "    df_chunk.drop(columns = \"enr\", inplace = True)\n",
    "\n",
    "    i +=1"
   ]
  },
  {
   "cell_type": "code",
   "execution_count": 7,
   "id": "4e944484",
   "metadata": {},
   "outputs": [
    {
     "name": "stdout",
     "output_type": "stream",
     "text": [
      "All sub-dataframes have been saved to ./data/clean/mygaps2_under80.csv\n"
     ]
    }
   ],
   "source": [
    "# Open the output file in append mode\n",
    "output_file = \"./data/clean/mygaps2_under80.csv\" #\n",
    "with open(output_file, \"a\") as f:\n",
    "    # Process and save each sub-dataframe to the file\n",
    "    for df_chunk in df_chunks:\n",
    "        df_chunk.to_csv(f, header=f.tell() == 0, index=False)\n",
    "\n",
    "print(\"All sub-dataframes have been saved to\", output_file)\n"
   ]
  },
  {
   "attachments": {},
   "cell_type": "markdown",
   "id": "99e80c3e",
   "metadata": {},
   "source": [
    "## Discard parallel paths"
   ]
  },
  {
   "cell_type": "code",
   "execution_count": 10,
   "id": "0565f195",
   "metadata": {},
   "outputs": [],
   "source": [
    "# import mygaps2\n",
    "mygaps = pd.read_csv(\"./data/clean/mygaps2_under80.csv\", chunksize = 100) \n",
    "df_chunks = [df_chunk for df_chunk in mygaps]"
   ]
  },
  {
   "cell_type": "code",
   "execution_count": 11,
   "id": "facf0d25",
   "metadata": {},
   "outputs": [
    {
     "ename": "NameError",
     "evalue": "name 'df_chunks' is not defined",
     "output_type": "error",
     "traceback": [
      "\u001b[0;31m---------------------------------------------------------------------------\u001b[0m",
      "\u001b[0;31mNameError\u001b[0m                                 Traceback (most recent call last)",
      "Cell \u001b[0;32mIn[11], line 5\u001b[0m\n\u001b[1;32m      3\u001b[0m \u001b[39m# Iterate over each dataframe in df_chunks (takes a long time)\u001b[39;00m\n\u001b[1;32m      4\u001b[0m i\u001b[39m=\u001b[39m\u001b[39m1\u001b[39m\n\u001b[0;32m----> 5\u001b[0m \u001b[39mfor\u001b[39;00m df_chunk \u001b[39min\u001b[39;00m df_chunks:\n\u001b[1;32m      6\u001b[0m     \u001b[39mprint\u001b[39m(\u001b[39m'\u001b[39m\u001b[39mchunk\u001b[39m\u001b[39m'\u001b[39m, i)\n\u001b[1;32m      7\u001b[0m     \u001b[39m# compute detour factor on bike network\u001b[39;00m\n",
      "\u001b[0;31mNameError\u001b[0m: name 'df_chunks' is not defined"
     ]
    }
   ],
   "source": [
    "D_min = 1.5 # set minimum detour factor for path to count as gap\n",
    "\n",
    "# Iterate over each dataframe in df_chunks (takes a long time)\n",
    "i=1\n",
    "for df_chunk in df_chunks:\n",
    "    print('chunk', i)\n",
    "    # compute detour factor on bike network\n",
    "    df_chunk[\"length_b\"] = df_chunk.apply(lambda x: pathlength_if_connected(banw, x.o_nx, x.d_nx), axis = 1)\n",
    "    df_chunk[\"detour\"] = df_chunk[\"length_b\"]/df_chunk[\"length\"]\n",
    "    df_chunk = df_chunk[df_chunk[\"detour\"]>=D_min].reset_index(drop = True)\n",
    "    i +=1\n"
   ]
  },
  {
   "cell_type": "code",
   "execution_count": null,
   "id": "e420e710",
   "metadata": {},
   "outputs": [
    {
     "name": "stdout",
     "output_type": "stream",
     "text": [
      "All sub-dataframes have been saved to ./data/clean/identified_gaps_under80.csv\n"
     ]
    }
   ],
   "source": [
    "# Open the output file in append mode\n",
    "output_file = \"./data/clean/identified_gaps_under80.csv\"\n",
    "with open(output_file, \"a\") as f:\n",
    "    # Process and save each sub-dataframe to the file\n",
    "    for i in range(len(df_chunks)-1):\n",
    "        df_chunk.to_csv(f, header=f.tell() == 0, index=False)\n",
    "\n",
    "print(\"All sub-dataframes have been saved to\", output_file)\n",
    "#TODO SOMETHING IS WRONG THE FILE DON'T WORK\n"
   ]
  },
  {
   "cell_type": "code",
   "execution_count": 7,
   "id": "2e40c972",
   "metadata": {},
   "outputs": [
    {
     "data": {
      "text/plain": [
       "(1247872, 5)"
      ]
     },
     "execution_count": 7,
     "metadata": {},
     "output_type": "execute_result"
    }
   ],
   "source": [
    "mygaps = pd.read_csv(\"./data/clean/mygaps2_under80.csv\")\n",
    "mygaps.shape \n"
   ]
  },
  {
   "attachments": {},
   "cell_type": "markdown",
   "id": "3ae7ee77",
   "metadata": {},
   "source": [
    "### 3) NOT DONE (but not super necesary yet?)"
   ]
  },
  {
   "cell_type": "code",
   "execution_count": null,
   "id": "8e746bad",
   "metadata": {},
   "outputs": [],
   "source": [
    "# # import mygaps2\n",
    "# num_of_rows = 100000\n",
    "# mygaps = pd.read_csv(\"./data/clean/identified_gaps.csv\", chunksize=num_of_rows)\n",
    "# sub_dataframes = [df_chunk for df_chunk in mygaps]\n",
    "\n",
    "# # Iterate over each dataframe in df_chunks (takes a long time)\n",
    "# i=1\n",
    "# for df_chunk in sub_dataframes:\n",
    "#     print('chunk', i)\n",
    "\n",
    "#     # turn string to list\n",
    "#     df_chunk['path_nx'] = df_chunk['path_nx'].apply(convert_path_to_list)\n",
    "\n",
    "\n",
    "#     # add coordinates for  plotting\n",
    "#     df_chunk[\"gapcoord\"] = df_chunk.apply(lambda x: get_path_coords(x.path_nx, ced), axis = 1)\n",
    "    \n",
    "#     i +=1\n",
    "\n",
    "#     # Open the output file in append mode\n",
    "# output_file = \"./data/clean/mygaps3.csv\"\n",
    "# with open(output_file, \"a\") as f:\n",
    "#     # Process and save each sub-dataframe to the file\n",
    "#     for df_chunk in sub_dataframes:\n",
    "#         df_chunk.to_csv(f, header=f.tell() == 0, index=False)\n",
    "\n",
    "# print(\"All sub-dataframes have been saved to\", output_file)\n"
   ]
  },
  {
   "cell_type": "code",
   "execution_count": 2,
   "id": "3a1fe9a4",
   "metadata": {},
   "outputs": [
    {
     "data": {
      "text/html": [
       "<div>\n",
       "<style scoped>\n",
       "    .dataframe tbody tr th:only-of-type {\n",
       "        vertical-align: middle;\n",
       "    }\n",
       "\n",
       "    .dataframe tbody tr th {\n",
       "        vertical-align: top;\n",
       "    }\n",
       "\n",
       "    .dataframe thead th {\n",
       "        text-align: right;\n",
       "    }\n",
       "</style>\n",
       "<table border=\"1\" class=\"dataframe\">\n",
       "  <thead>\n",
       "    <tr style=\"text-align: right;\">\n",
       "      <th></th>\n",
       "      <th>Edge</th>\n",
       "      <th>Betweenness Centrality</th>\n",
       "    </tr>\n",
       "  </thead>\n",
       "  <tbody>\n",
       "    <tr>\n",
       "      <th>0</th>\n",
       "      <td>0</td>\n",
       "      <td>1661941</td>\n",
       "    </tr>\n",
       "    <tr>\n",
       "      <th>1</th>\n",
       "      <td>1</td>\n",
       "      <td>590828</td>\n",
       "    </tr>\n",
       "    <tr>\n",
       "      <th>2</th>\n",
       "      <td>2</td>\n",
       "      <td>1132677</td>\n",
       "    </tr>\n",
       "    <tr>\n",
       "      <th>3</th>\n",
       "      <td>3</td>\n",
       "      <td>1720084</td>\n",
       "    </tr>\n",
       "    <tr>\n",
       "      <th>4</th>\n",
       "      <td>4</td>\n",
       "      <td>169753</td>\n",
       "    </tr>\n",
       "    <tr>\n",
       "      <th>5</th>\n",
       "      <td>5</td>\n",
       "      <td>224390</td>\n",
       "    </tr>\n",
       "    <tr>\n",
       "      <th>6</th>\n",
       "      <td>6</td>\n",
       "      <td>497514</td>\n",
       "    </tr>\n",
       "    <tr>\n",
       "      <th>7</th>\n",
       "      <td>7</td>\n",
       "      <td>540493</td>\n",
       "    </tr>\n",
       "    <tr>\n",
       "      <th>8</th>\n",
       "      <td>8</td>\n",
       "      <td>593432</td>\n",
       "    </tr>\n",
       "    <tr>\n",
       "      <th>9</th>\n",
       "      <td>9</td>\n",
       "      <td>1745522</td>\n",
       "    </tr>\n",
       "  </tbody>\n",
       "</table>\n",
       "</div>"
      ],
      "text/plain": [
       "   Edge  Betweenness Centrality\n",
       "0     0                 1661941\n",
       "1     1                  590828\n",
       "2     2                 1132677\n",
       "3     3                 1720084\n",
       "4     4                  169753\n",
       "5     5                  224390\n",
       "6     6                  497514\n",
       "7     7                  540493\n",
       "8     8                  593432\n",
       "9     9                 1745522"
      ]
     },
     "execution_count": 2,
     "metadata": {},
     "output_type": "execute_result"
    }
   ],
   "source": [
    "import pandas as pd\n",
    "test = pd.read_csv('data/results/identified_gaps_under80.csv', nrows = 10)\n",
    "test"
   ]
  },
  {
   "cell_type": "code",
   "execution_count": null,
   "id": "fce25565",
   "metadata": {},
   "outputs": [],
   "source": []
  }
 ],
 "metadata": {
  "kernelspec": {
   "display_name": "thesis",
   "language": "python",
   "name": "python3"
  },
  "language_info": {
   "codemirror_mode": {
    "name": "ipython",
    "version": 3
   },
   "file_extension": ".py",
   "mimetype": "text/x-python",
   "name": "python",
   "nbconvert_exporter": "python",
   "pygments_lexer": "ipython3",
   "version": "3.10.9"
  },
  "vscode": {
   "interpreter": {
    "hash": "7de29617dd1965d342a82e394a9e83291f588e76da49db2a4d1d4af10faa311c"
   }
  }
 },
 "nbformat": 4,
 "nbformat_minor": 5
}

{
 "cells": [
  {
   "cell_type": "code",
   "execution_count": 1,
   "id": "c0a5f43b",
   "metadata": {},
   "outputs": [],
   "source": [
    "# Subset Geofabrik commune data\n",
    "\n",
    "import osmium \n",
    "import shapely.wkb\n",
    "import pandas as pd \n",
    "import geopandas as gpd\n",
    "\n",
    "def merge_two_dicts(x, y):\n",
    "    z = x.copy()   # start with keys and values of x\n",
    "    z.update(y)    # modifies z with keys and values of y\n",
    "    return z\n",
    "\n",
    "class AdminAreaHandler(osmium.SimpleHandler):\n",
    "    def __init__(self):\n",
    "        osmium.SimpleHandler.__init__(self)\n",
    "\n",
    "        self.areas = []\n",
    "        self.wkbfab = osmium.geom.WKBFactory()\n",
    "\n",
    "    def area(self, a):            \n",
    "        if  \"admin_level\" in a.tags:\n",
    "\n",
    "            wkbshape = self.wkbfab.create_multipolygon(a)\n",
    "            shapely_obj = shapely.wkb.loads(wkbshape, hex=True)\n",
    "            \n",
    "            area = { \"id\": a.id, \"geo\": shapely_obj }\n",
    "            area = merge_two_dicts(area, a.tags)\n",
    "            \n",
    "            self.areas.append(area)\n",
    "        \n",
    "handler = AdminAreaHandler()\n",
    "\n",
    "# path to file to local drive\n",
    "# download from https://download.geofabrik.de/index.html\n",
    "osm_file = \"ile-de-france-latest.osm.pbf\"\n",
    "\n",
    "# start data file processing\n",
    "handler.apply_file(osm_file, locations=True, idx='flex_mem')\n",
    "\n",
    "df = pd.DataFrame(handler.areas)\n",
    "gdf = gpd.GeoDataFrame(df, geometry=\"geo\")\n",
    "\n",
    "gdf.to_csv(\"communes_IDF.csv\")"
   ]
  }
 ],
 "metadata": {
  "kernelspec": {
   "display_name": "Python 3 (ipykernel)",
   "language": "python",
   "name": "python3"
  },
  "language_info": {
   "codemirror_mode": {
    "name": "ipython",
    "version": 3
   },
   "file_extension": ".py",
   "mimetype": "text/x-python",
   "name": "python",
   "nbconvert_exporter": "python",
   "pygments_lexer": "ipython3",
   "version": "3.8.12"
  }
 },
 "nbformat": 4,
 "nbformat_minor": 5
}

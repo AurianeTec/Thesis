{
 "cells": [
  {
   "cell_type": "markdown",
   "id": "bf425c0f",
   "metadata": {},
   "source": [
    "# Public transport data from Geofabrik on IDF scale\n",
    "This data is later subsetted to GPM in QGIS.\n",
    "WARNING: I DID NOT RERUN THIS SINCE CHANGING EPSGs, MAKE SURE TO RUN IT AGAIN!"
   ]
  },
  {
   "cell_type": "code",
   "execution_count": 3,
   "id": "2ddea241",
   "metadata": {},
   "outputs": [],
   "source": [
    "import shapely.wkb\n",
    "import pandas as pd \n",
    "import geopandas as gpd\n",
    "from pyrosm import OSM\n",
    "from pyrosm import get_data\n",
    "import matplotlib.pyplot as plt\n",
    "import networkx as nx\n",
    "\n",
    "plt.rcParams['figure.figsize'] = (15, 15)\n",
    "crs_fr = 2154\n"
   ]
  },
  {
   "cell_type": "code",
   "execution_count": 4,
   "id": "5d316fe9",
   "metadata": {},
   "outputs": [
    {
     "name": "stdout",
     "output_type": "stream",
     "text": [
      "Downloaded Protobuf data 'ile-de-france-latest.osm.pbf' (281.26 MB) to:\n",
      "'/var/folders/2m/lkz691q11b72bpprh6_v34_h0000gn/T/pyrosm/ile-de-france-latest.osm.pbf'\n"
     ]
    }
   ],
   "source": [
    "# Get data on IDF level\n",
    "fp = get_data(\"Ile_de_France\")\n",
    "\n",
    "# Initialize the OSM parser object\n",
    "osm = OSM(fp)"
   ]
  },
  {
   "cell_type": "code",
   "execution_count": 5,
   "id": "7d8bd01d",
   "metadata": {},
   "outputs": [],
   "source": [
    "import osmium\n",
    "import shapely.wkb\n",
    "import pandas as pd\n",
    "import geopandas as gpd\n",
    "\n",
    "\n",
    "def merge_two_dicts(x, y):\n",
    "    z = x.copy()   # start with keys and values of x\n",
    "    z.update(y)    # modifies z with keys and values of y\n",
    "    return z\n",
    "\n",
    "class AdminAreaHandler(osmium.SimpleHandler):\n",
    "    def __init__(self):\n",
    "        osmium.SimpleHandler.__init__(self)\n",
    "\n",
    "        self.areas = []\n",
    "        self.wkbfab = osmium.geom.WKBFactory()\n",
    "\n",
    "    def area(self, a):            \n",
    "        if  \"admin_level\" in a.tags:\n",
    "\n",
    "            wkbshape = self.wkbfab.create_multipolygon(a)\n",
    "            shapely_obj = shapely.wkb.loads(wkbshape, hex=True)\n",
    "\n",
    "            area = { \"id\": a.id, \"geo\": shapely_obj }\n",
    "            area = merge_two_dicts(area, a.tags)\n",
    "\n",
    "            self.areas.append(area)\n",
    "        \n",
    "handler = AdminAreaHandler()\n",
    "\n",
    "# path to file to local drive\n",
    "# download from https://download.geofabrik.de/index.html\n",
    "#osm_file = osm\n",
    "\n",
    "# start data file processing\n",
    "handler.apply_file(fp, locations=True, idx='flex_mem')\n",
    "\n",
    "df = pd.DataFrame(handler.areas)"
   ]
  },
  {
   "cell_type": "code",
   "execution_count": 6,
   "id": "1701e3a3-586a-4a2c-87b2-18b082688367",
   "metadata": {},
   "outputs": [
    {
     "data": {
      "text/html": [
       "<div>\n",
       "<style scoped>\n",
       "    .dataframe tbody tr th:only-of-type {\n",
       "        vertical-align: middle;\n",
       "    }\n",
       "\n",
       "    .dataframe tbody tr th {\n",
       "        vertical-align: top;\n",
       "    }\n",
       "\n",
       "    .dataframe thead th {\n",
       "        text-align: right;\n",
       "    }\n",
       "</style>\n",
       "<table border=\"1\" class=\"dataframe\">\n",
       "  <thead>\n",
       "    <tr style=\"text-align: right;\">\n",
       "      <th></th>\n",
       "      <th>id</th>\n",
       "      <th>geo</th>\n",
       "      <th>admin_level</th>\n",
       "      <th>boundary</th>\n",
       "      <th>name</th>\n",
       "      <th>population</th>\n",
       "      <th>population:date</th>\n",
       "      <th>postal_code</th>\n",
       "      <th>ref:INSEE</th>\n",
       "      <th>source:population</th>\n",
       "      <th>...</th>\n",
       "      <th>name:gd</th>\n",
       "      <th>manufacturer</th>\n",
       "      <th>source:name:br</th>\n",
       "      <th>name:az</th>\n",
       "      <th>name:pt</th>\n",
       "      <th>name:sr-Latn</th>\n",
       "      <th>name:zh-Hant</th>\n",
       "      <th>ref:nuts:1</th>\n",
       "      <th>ref:nuts:2</th>\n",
       "      <th>source:name:oc</th>\n",
       "    </tr>\n",
       "  </thead>\n",
       "  <tbody>\n",
       "    <tr>\n",
       "      <th>0</th>\n",
       "      <td>55263</td>\n",
       "      <td>MULTIPOLYGON (((2.12315 48.75362, 2.12323 48.7...</td>\n",
       "      <td>8</td>\n",
       "      <td>administrative</td>\n",
       "      <td>Les Loges-en-Josas</td>\n",
       "      <td>1629</td>\n",
       "      <td>2019</td>\n",
       "      <td>78350</td>\n",
       "      <td>78343</td>\n",
       "      <td>INSEE 2022</td>\n",
       "      <td>...</td>\n",
       "      <td>NaN</td>\n",
       "      <td>NaN</td>\n",
       "      <td>NaN</td>\n",
       "      <td>NaN</td>\n",
       "      <td>NaN</td>\n",
       "      <td>NaN</td>\n",
       "      <td>NaN</td>\n",
       "      <td>NaN</td>\n",
       "      <td>NaN</td>\n",
       "      <td>NaN</td>\n",
       "    </tr>\n",
       "  </tbody>\n",
       "</table>\n",
       "<p>1 rows × 248 columns</p>\n",
       "</div>"
      ],
      "text/plain": [
       "      id                                                geo admin_level  \\\n",
       "0  55263  MULTIPOLYGON (((2.12315 48.75362, 2.12323 48.7...           8   \n",
       "\n",
       "         boundary                name population population:date postal_code  \\\n",
       "0  administrative  Les Loges-en-Josas       1629            2019       78350   \n",
       "\n",
       "  ref:INSEE source:population  ... name:gd manufacturer source:name:br  \\\n",
       "0     78343        INSEE 2022  ...     NaN          NaN            NaN   \n",
       "\n",
       "  name:az name:pt name:sr-Latn name:zh-Hant ref:nuts:1 ref:nuts:2  \\\n",
       "0     NaN     NaN          NaN          NaN        NaN        NaN   \n",
       "\n",
       "  source:name:oc  \n",
       "0            NaN  \n",
       "\n",
       "[1 rows x 248 columns]"
      ]
     },
     "execution_count": 6,
     "metadata": {},
     "output_type": "execute_result"
    }
   ],
   "source": [
    "gdf = gpd.GeoDataFrame(df, geometry=\"geo\")\n",
    "gdf.head(1)"
   ]
  },
  {
   "cell_type": "markdown",
   "id": "34adf1cb",
   "metadata": {},
   "source": [
    "# Bus"
   ]
  },
  {
   "cell_type": "code",
   "execution_count": null,
   "id": "c6754630",
   "metadata": {},
   "outputs": [
    {
     "name": "stderr",
     "output_type": "stream",
     "text": [
      "IOStream.flush timed out\n"
     ]
    }
   ],
   "source": [
    "# Get bus stops and routes\n",
    "# =====================================\n",
    "\n",
    "custom_filter = {'public_transport':['stop_position'],'route':['bus']}\n",
    "bus_IDF = osm.get_pois(custom_filter=custom_filter)\n",
    "bus_IDF = bus_stops_IDF.to_crs(crs_fr)\n",
    "\n",
    "bus_IDF[\"bus_stop\"] = bus_stops_IDF[\"public_transport\"]\n",
    "bus_IDF[\"bus_route\"] = bus_stops_IDF[\"route\"]"
   ]
  },
  {
   "cell_type": "code",
   "execution_count": null,
   "id": "bd4bfae6",
   "metadata": {},
   "outputs": [],
   "source": [
    "# Plot for test \n",
    "ax = plt.axes()\n",
    "\n",
    "bus_IDF.plot(column='bus_route', ax=ax, linewidth = 0.5, edgecolor = 'red')\n",
    "bus_IDF.plot(column='bus_stop', ax=ax, markersize=1.5)"
   ]
  },
  {
   "cell_type": "code",
   "execution_count": null,
   "id": "11a16af1",
   "metadata": {},
   "outputs": [],
   "source": [
    "bus_IDF.head()"
   ]
  },
  {
   "cell_type": "code",
   "execution_count": null,
   "id": "1d7ceaaa",
   "metadata": {},
   "outputs": [],
   "source": [
    "# Save to geojson to use in QGIS \n",
    "#bus_IDF = pois\n",
    "bus_IDF.to_file('data/processed/bus_IDF.geojson', driver='GeoJSON')"
   ]
  },
  {
   "cell_type": "markdown",
   "id": "46a6817d",
   "metadata": {},
   "source": [
    "# Metro"
   ]
  },
  {
   "cell_type": "code",
   "execution_count": 7,
   "id": "901f74fc",
   "metadata": {},
   "outputs": [
    {
     "ename": "AttributeError",
     "evalue": "module 'shapely.geos' has no attribute 'lgeos'",
     "output_type": "error",
     "traceback": [
      "\u001b[0;31m---------------------------------------------------------------------------\u001b[0m",
      "\u001b[0;31mAttributeError\u001b[0m                            Traceback (most recent call last)",
      "Cell \u001b[0;32mIn[7], line 6\u001b[0m\n\u001b[1;32m      1\u001b[0m \u001b[39m# Get metro stops and routes\u001b[39;00m\n\u001b[1;32m      2\u001b[0m \u001b[39m# =====================================\u001b[39;00m\n\u001b[1;32m      3\u001b[0m \n\u001b[1;32m      4\u001b[0m \u001b[39m# TODO find out correct keywords\u001b[39;00m\n\u001b[1;32m      5\u001b[0m custom_filter \u001b[39m=\u001b[39m {\u001b[39m'\u001b[39m\u001b[39mpublic_transport\u001b[39m\u001b[39m'\u001b[39m:[\u001b[39m'\u001b[39m\u001b[39mstop_position\u001b[39m\u001b[39m'\u001b[39m],\u001b[39m'\u001b[39m\u001b[39mroute\u001b[39m\u001b[39m'\u001b[39m:[\u001b[39m'\u001b[39m\u001b[39mmetro\u001b[39m\u001b[39m'\u001b[39m]}\n\u001b[0;32m----> 6\u001b[0m metro_stops_IDF \u001b[39m=\u001b[39m osm\u001b[39m.\u001b[39;49mget_pois(custom_filter\u001b[39m=\u001b[39;49mcustom_filter)\n",
      "File \u001b[0;32m~/opt/miniconda3/envs/thesis/lib/python3.10/site-packages/pyrosm/pyrosm.py:576\u001b[0m, in \u001b[0;36mOSM.get_pois\u001b[0;34m(self, custom_filter, extra_attributes)\u001b[0m\n\u001b[1;32m    573\u001b[0m \u001b[39mif\u001b[39;00m \u001b[39misinstance\u001b[39m(\u001b[39mself\u001b[39m\u001b[39m.\u001b[39m_nodes, \u001b[39mlist\u001b[39m):\n\u001b[1;32m    574\u001b[0m     \u001b[39mself\u001b[39m\u001b[39m.\u001b[39m_nodes \u001b[39m=\u001b[39m concatenate_dicts_of_arrays(\u001b[39mself\u001b[39m\u001b[39m.\u001b[39m_nodes)\n\u001b[0;32m--> 576\u001b[0m gdf \u001b[39m=\u001b[39m get_poi_data(\n\u001b[1;32m    577\u001b[0m     \u001b[39mself\u001b[39;49m\u001b[39m.\u001b[39;49m_nodes,\n\u001b[1;32m    578\u001b[0m     \u001b[39mself\u001b[39;49m\u001b[39m.\u001b[39;49m_node_coordinates,\n\u001b[1;32m    579\u001b[0m     \u001b[39mself\u001b[39;49m\u001b[39m.\u001b[39;49m_way_records,\n\u001b[1;32m    580\u001b[0m     \u001b[39mself\u001b[39;49m\u001b[39m.\u001b[39;49m_relations,\n\u001b[1;32m    581\u001b[0m     tags_as_columns,\n\u001b[1;32m    582\u001b[0m     custom_filter,\n\u001b[1;32m    583\u001b[0m     \u001b[39mself\u001b[39;49m\u001b[39m.\u001b[39;49mbounding_box,\n\u001b[1;32m    584\u001b[0m )\n\u001b[1;32m    586\u001b[0m \u001b[39m# Do not keep node information unless specifically asked for\u001b[39;00m\n\u001b[1;32m    587\u001b[0m \u001b[39m# (they are in a list, and can cause issues when saving the files)\u001b[39;00m\n\u001b[1;32m    588\u001b[0m \u001b[39mif\u001b[39;00m \u001b[39mnot\u001b[39;00m \u001b[39mself\u001b[39m\u001b[39m.\u001b[39mkeep_node_info \u001b[39mand\u001b[39;00m gdf \u001b[39mis\u001b[39;00m \u001b[39mnot\u001b[39;00m \u001b[39mNone\u001b[39;00m:\n",
      "File \u001b[0;32m~/opt/miniconda3/envs/thesis/lib/python3.10/site-packages/pyrosm/pois.py:38\u001b[0m, in \u001b[0;36mget_poi_data\u001b[0;34m(nodes, node_coordinates, way_records, relations, tags_as_columns, custom_filter, bounding_box)\u001b[0m\n\u001b[1;32m     35\u001b[0m     \u001b[39mreturn\u001b[39;00m \u001b[39mNone\u001b[39;00m\n\u001b[1;32m     37\u001b[0m \u001b[39m# Prepare GeoDataFrame\u001b[39;00m\n\u001b[0;32m---> 38\u001b[0m gdf \u001b[39m=\u001b[39m prepare_geodataframe(\n\u001b[1;32m     39\u001b[0m     nodes,\n\u001b[1;32m     40\u001b[0m     node_coordinates,\n\u001b[1;32m     41\u001b[0m     ways,\n\u001b[1;32m     42\u001b[0m     relations,\n\u001b[1;32m     43\u001b[0m     relation_ways,\n\u001b[1;32m     44\u001b[0m     tags_as_columns,\n\u001b[1;32m     45\u001b[0m     bounding_box,\n\u001b[1;32m     46\u001b[0m )\n\u001b[1;32m     48\u001b[0m \u001b[39mreturn\u001b[39;00m gdf\n",
      "File \u001b[0;32m~/opt/miniconda3/envs/thesis/lib/python3.10/site-packages/pyrosm/frames.pyx:134\u001b[0m, in \u001b[0;36mpyrosm.frames.prepare_geodataframe\u001b[0;34m()\u001b[0m\n",
      "File \u001b[0;32m~/opt/miniconda3/envs/thesis/lib/python3.10/site-packages/pyrosm/frames.pyx:153\u001b[0m, in \u001b[0;36mpyrosm.frames.prepare_geodataframe\u001b[0;34m()\u001b[0m\n",
      "File \u001b[0;32m~/opt/miniconda3/envs/thesis/lib/python3.10/site-packages/pyrosm/frames.pyx:115\u001b[0m, in \u001b[0;36mpyrosm.frames.prepare_node_gdf\u001b[0;34m()\u001b[0m\n",
      "File \u001b[0;32m~/opt/miniconda3/envs/thesis/lib/python3.10/site-packages/pyrosm/frames.pyx:30\u001b[0m, in \u001b[0;36mpyrosm.frames.create_nodes_gdf\u001b[0;34m()\u001b[0m\n",
      "File \u001b[0;32m~/opt/miniconda3/envs/thesis/lib/python3.10/site-packages/pyrosm/geometry.pyx:152\u001b[0m, in \u001b[0;36mpyrosm.geometry._create_point_geometries\u001b[0;34m()\u001b[0m\n",
      "File \u001b[0;32m~/opt/miniconda3/envs/thesis/lib/python3.10/site-packages/pyrosm/geometry.pyx:88\u001b[0m, in \u001b[0;36mpyrosm.geometry.to_shapely\u001b[0;34m()\u001b[0m\n",
      "File \u001b[0;32m~/opt/miniconda3/envs/thesis/lib/python3.10/site-packages/pyrosm/geometry.pyx:83\u001b[0m, in \u001b[0;36mpyrosm.geometry.pygeos_to_shapely\u001b[0;34m()\u001b[0m\n",
      "\u001b[0;31mAttributeError\u001b[0m: module 'shapely.geos' has no attribute 'lgeos'"
     ]
    }
   ],
   "source": [
    "# Get metro stops and routes\n",
    "# =====================================\n",
    "\n",
    "# TODO find out correct keywords\n",
    "custom_filter = {'public_transport':['stop_position'],'route':['metro']}\n",
    "metro_stops_IDF = osm.get_pois(custom_filter=custom_filter)"
   ]
  },
  {
   "cell_type": "code",
   "execution_count": null,
   "id": "0077aaa6",
   "metadata": {},
   "outputs": [],
   "source": []
  }
 ],
 "metadata": {
  "kernelspec": {
   "display_name": "thesis",
   "language": "python",
   "name": "python3"
  },
  "language_info": {
   "codemirror_mode": {
    "name": "ipython",
    "version": 3
   },
   "file_extension": ".py",
   "mimetype": "text/x-python",
   "name": "python",
   "nbconvert_exporter": "python",
   "pygments_lexer": "ipython3",
   "version": "3.10.9"
  }
 },
 "nbformat": 4,
 "nbformat_minor": 5
}

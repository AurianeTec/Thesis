{
 "cells": [
  {
   "cell_type": "markdown",
   "id": "5b9c27de",
   "metadata": {},
   "source": [
    "# Create complete network\n",
    "- get all layers created so far (grid, roads for cars and bikes, public transport layer(s))\n",
    "- Make sure they are connected to each other (aligning nodes or creating new edges when needed)\n",
    "- Add everything to at NetworkX graph "
   ]
  },
  {
   "cell_type": "code",
   "execution_count": 1,
   "id": "f4daab84",
   "metadata": {},
   "outputs": [
    {
     "name": "stderr",
     "output_type": "stream",
     "text": [
      "/Users/auriane/opt/miniconda3/envs/thesis/lib/python3.10/site-packages/geopandas/_compat.py:123: UserWarning: The Shapely GEOS version (3.11.2-CAPI-1.17.2) is incompatible with the GEOS version PyGEOS was compiled with (3.10.4-CAPI-1.16.2). Conversions between both will be slow.\n",
      "  warnings.warn(\n"
     ]
    }
   ],
   "source": [
    "import networkx as nx\n",
    "import os\n",
    "os.environ['USE_PYGEOS'] = '1'\n",
    "import geopandas as gpd\n",
    "import pandas as pd\n",
    "import matplotlib.pyplot as plt\n",
    "import shapely\n",
    "import snkit\n",
    "import snkit.network\n",
    "crs_fr = 2154 #4326 ?\n",
    "plt.rcParams['figure.figsize'] = (10,10)"
   ]
  },
  {
   "cell_type": "code",
   "execution_count": 2,
   "id": "a834e166-eed4-4c5c-8c0d-785a400ccf73",
   "metadata": {},
   "outputs": [],
   "source": [
    "# --- From Anastassia\n",
    "# import packages\n",
    "%run -i packages.py\n",
    "\n",
    "# CUSTOM FUNCTION\n",
    "\n",
    "# define function that creates attribute dictionary for nodes and edges\n",
    "# (for input to nx.add_edges_from/add_nodes_from)\n",
    "def make_attr_dict(*args, **kwargs): \n",
    "    \n",
    "    argCount = len(kwargs)\n",
    "    \n",
    "    if argCount > 0:\n",
    "        attributes = {}\n",
    "        for kwarg in kwargs:\n",
    "            attributes[kwarg] = kwargs.get(kwarg, None)\n",
    "        return attributes\n",
    "    else:\n",
    "        return None # (if no attributes are given)"
   ]
  },
  {
   "cell_type": "markdown",
   "id": "2d53887f",
   "metadata": {
    "tags": []
   },
   "source": [
    "## Get layers"
   ]
  },
  {
   "cell_type": "markdown",
   "id": "480ae820-a39c-40f8-a8d9-aeb8d912a0d5",
   "metadata": {
    "tags": []
   },
   "source": [
    "### grid, boundary"
   ]
  },
  {
   "cell_type": "code",
   "execution_count": 3,
   "id": "7db46715",
   "metadata": {},
   "outputs": [],
   "source": [
    "# Get boundary of GPM (for plots)\n",
    "\n",
    "GPM = gpd.read_file('data/raw/GPM_geometry/GPM.geojson').to_crs(crs_fr)"
   ]
  },
  {
   "cell_type": "code",
   "execution_count": 4,
   "id": "dbf03b27",
   "metadata": {},
   "outputs": [],
   "source": [
    "# Get grid and centroids\n",
    "grid = pd.read_csv('data/processed/IRIS_GPM.csv').rename(columns = {'geometry' : 'cells'})\n",
    "\n",
    "# turn into geodataframe and separate centroids (for plots)\n",
    "for c in ['cells', 'centroid']:\n",
    "    grid[c] = grid[c].apply(shapely.wkt.loads)\n",
    "    \n",
    "grid = gpd.GeoDataFrame(grid, crs = crs_fr, geometry= 'cells' )\n",
    "centroids = grid.set_geometry('centroid').set_crs(crs_fr)\n"
   ]
  },
  {
   "cell_type": "code",
   "execution_count": 5,
   "id": "7c5aa247-4c90-4218-b1cb-969be222a318",
   "metadata": {},
   "outputs": [],
   "source": [
    "# Create a unique number for each centroid\n",
    "centroids = centroids.reset_index(drop = False).rename(columns = {'index' : 'id'})\n",
    "centroids['nodetype'] = 'centroid'"
   ]
  },
  {
   "cell_type": "markdown",
   "id": "4fc46027-7895-4226-9a9d-57daa4519c10",
   "metadata": {
    "tags": []
   },
   "source": [
    "### roads "
   ]
  },
  {
   "cell_type": "code",
   "execution_count": 6,
   "id": "5a2651b6-b626-44bd-a4d5-86cd874b710f",
   "metadata": {},
   "outputs": [],
   "source": [
    "# Get roads (car/bike)\n",
    "edges_all = pd.read_csv(\"./data/processed/carbike_edges.csv\").drop(columns = 'key')"
   ]
  },
  {
   "cell_type": "code",
   "execution_count": null,
   "id": "e671a68f",
   "metadata": {},
   "outputs": [],
   "source": [
    "### Processing: taken from Anastassia's code\n",
    "    \n",
    "## Step 1: turn dataframes into geodataframes\n",
    "# Edges \n",
    "edges_all[\"geometry\"] = edges_all.apply(lambda x: shapely.wkt.loads(x.geometry), axis = 1)\n",
    "edges_all = gpd.GeoDataFrame(edges_all, geometry = \"geometry\") \n",
    "\n",
    "# add edge ids (strings with \"id1, id2\" sorted (id1 < id2))\n",
    "edges_all[\"edge_id\"] = edges_all.apply(lambda x: str(sorted([x[\"u\"], x[\"v\"]])), axis = 1)\n",
    "# (edge ids are set as strings; converting back: with \"from ast import literal_eval\" fct)\n",
    "# finding duplicates by [\"osmid\", \"oneway\", \"edge_id\", \"length\"]\n",
    "# simplifying network into undirected - beu and ceu contain the \"undirected\" edges\n",
    "# (removing all parallel edges)\n",
    "\n",
    "# MOD: removed oneway and length from the subset\n",
    "edges_all_unique = edges_all.drop_duplicates(subset = [\"osmid\", \"edge_id\"],\n",
    "                  keep = \"first\",\n",
    "                  inplace = False,\n",
    "                  ignore_index = True).copy()\n",
    "\n",
    "# remove duplicates\n",
    "edges_all_unique = edges_all_unique.drop_duplicates(subset = [\"u\", \"v\", \"osmid\", \"edge_id\", \"edgetype\"], \n",
    "                          keep = \"first\",\n",
    "                          ignore_index = True, \n",
    "                          inplace = False)\n",
    "\n",
    "edges_all_unique_tokeep = edges_all_unique[edges_all_unique.duplicated(\"edge_id\", keep = False) & (edges_all_unique[\"edgetype\"]==\"bike\")].index\n",
    "edges_all_unique_todrop = edges_all_unique[edges_all_unique.duplicated(\"edge_id\", keep = False) & (edges_all_unique[\"edgetype\"] == \"car\")].index\n",
    "\n",
    "# MOD changed \"multi\" to \"both\"\n",
    "edges_all_unique.loc[edges_all_unique_tokeep, \"edgetype\"] = \"both\"\n",
    "edges_all_unique = edges_all_unique.drop(edges_all_unique_todrop)\n",
    "\n",
    "# add attribute dictionary (for nx)\n",
    "edges_all_unique[\"attr_dict\"] = edges_all_unique.apply(lambda x: make_attr_dict(edgetype = x.edgetype,\n",
    "                                                    edge_id = x.edge_id,\n",
    "                                                    # MOD-Stephan: used to be coord\n",
    "                                                    geometry = x.geometry,\n",
    "                                                    intnodes = []), # intnodes attribute: for storing simplification info on interstitial nodes \n",
    "                             axis = 1)\n",
    "\n",
    "# sort by \"left\" node (id1 < id2 - to control order of tuple keys in nx)\n",
    "edges_all_unique[\"order\"] = edges_all_unique.apply(lambda x: np.min([x[\"u\"], x[\"v\"]]), axis = 1)\n",
    "edges_all_unique = edges_all_unique.sort_values(by = \"order\").reset_index(drop = True)\n",
    "# MOD: used \"x\" and \"y\" insteads of \"orgig\" and \"dest\"\n",
    "edges_all_unique[\"x\"] = edges_all_unique.apply(lambda x: np.min([x[\"u\"], x[\"v\"]]), axis = 1)\n",
    "edges_all_unique[\"y\"] = edges_all_unique.apply(lambda x: np.max([x[\"u\"], x[\"v\"]]), axis = 1)\n",
    "edges_all_unique = edges_all_unique.drop(columns = [\"order\", \"u\", \"v\"]) # instead of \"u\" and \"v\",\n",
    "# we will use \"origin\" and \"destination\" where osmid(origin) < osmid (destination)!\n",
    "\n",
    "del(edges_all_unique_todrop, edges_all_unique_tokeep)  "
   ]
  },
  {
   "cell_type": "code",
   "execution_count": 8,
   "id": "0fe64206-e7b9-4df6-aa29-96814aef494f",
   "metadata": {},
   "outputs": [],
   "source": [
    "# # Plot\n",
    "# ax = plt.axes()\n",
    "# edges_all.plot(ax=ax, linewidth = 0.3, alpha = 0.5)\n",
    "# nodes_all.plot(ax=ax, markersize = 0.05, facecolor = 'red', alpha = 1)\n",
    "# GPM.plot(ax=ax, facecolor = 'none', linewidth = 2)"
   ]
  },
  {
   "cell_type": "markdown",
   "id": "3228df2b-97c3-4741-a513-b5508e8882f9",
   "metadata": {
    "tags": []
   },
   "source": [
    "# Connect layers\n",
    "A network is created with\n",
    "- nodes = centroids\n",
    "- edges = roads\n",
    "\n",
    "These edges and nodes are connected by creating an edge between each centroid and its nearest edge."
   ]
  },
  {
   "cell_type": "code",
   "execution_count": 77,
   "id": "17669ba5-e64e-4329-9112-c6071f73540c",
   "metadata": {},
   "outputs": [],
   "source": [
    "# create the network based on current nodes/edges\n",
    "\n",
    "nodes = centroids.rename(columns = {'centroid' : 'geometry'}).set_geometry('geometry').set_crs(crs_fr).to_crs(4326)\n",
    "edges = gpd.GeoDataFrame(edges_all_unique, geometry = 'geometry', crs = 4326)\n",
    "base_network = snkit.Network(nodes, edges)\n",
    "\n",
    "# # plot\n",
    "# ax = plt.axes()\n",
    "# base_network.edges.plot(ax=ax, linewidth = 1, alpha = 0.6)\n",
    "# base_network.nodes.plot(ax=ax, facecolor = 'red', markersize = 3)"
   ]
  },
  {
   "cell_type": "code",
   "execution_count": 80,
   "id": "12b5988d-785b-4334-af27-17c711436cc7",
   "metadata": {},
   "outputs": [
    {
     "name": "stderr",
     "output_type": "stream",
     "text": [
      "/Users/auriane/opt/miniconda3/envs/thesis/lib/python3.10/site-packages/geopandas/array.py:1406: UserWarning: CRS not set for some of the concatenation inputs. Setting output's CRS as RGF93 v1 / Lambert-93 (the single non-null crs provided).\n",
      "  warnings.warn(\n",
      "/Users/auriane/opt/miniconda3/envs/thesis/lib/python3.10/site-packages/geopandas/array.py:1406: UserWarning: CRS not set for some of the concatenation inputs. Setting output's CRS as WGS 84 (the single non-null crs provided).\n",
      "  warnings.warn(\n",
      "/Users/auriane/opt/miniconda3/envs/thesis/lib/python3.10/site-packages/geopandas/array.py:1406: UserWarning: CRS not set for some of the concatenation inputs. Setting output's CRS as WGS 84 (the single non-null crs provided).\n",
      "  warnings.warn(\n"
     ]
    },
    {
     "name": "stdout",
     "output_type": "stream",
     "text": [
      "CPU times: user 12min 8s, sys: 5.14 s, total: 12min 13s\n",
      "Wall time: 12min 17s\n"
     ]
    }
   ],
   "source": [
    "%%time \n",
    "# link centroids to their nearest edge (takes a while)\n",
    "\n",
    "linked = snkit.network.link_nodes_to_nearest_edge(base_network) #wth is this warning?\n",
    "\n",
    "# # plot\n",
    "# ax = plt.axes()\n",
    "# linked.edges.plot(ax=ax, linewidth = 1, alpha = 0.5)\n",
    "# linked.nodes.plot(ax=ax, facecolor = 'red', markersize = 3, alpha = 1)"
   ]
  },
  {
   "cell_type": "code",
   "execution_count": 109,
   "id": "da3bfb1a-038b-4076-9608-ab081f33f96e",
   "metadata": {},
   "outputs": [],
   "source": [
    "# Separate old nodes (centroids) from new ones (intersection between centroid and nearest edge)\n",
    "new_nodes = linked.nodes.tail(linked.nodes.isna().sum()[2])\n",
    "\n",
    "# Separate old edges (carbike network) from new ones (modified carbike edges and new edges)\n",
    "new_edges = linked.edges.tail(linked.edges.isna().sum()[0])"
   ]
  },
  {
   "cell_type": "markdown",
   "id": "8d692ea2-f7d1-4d30-8bde-fba481bc8789",
   "metadata": {},
   "source": [
    "# Post-linking processing\n",
    "- The edges have been modified and new ones were created -> check it all makes sense! \n",
    "- The new nodes (intersection between new edge and old edge) need to be added to the car/bike node network"
   ]
  },
  {
   "cell_type": "code",
   "execution_count": 97,
   "id": "1d6530a2-584b-4618-8c25-d205d84af337",
   "metadata": {},
   "outputs": [],
   "source": [
    "# Create attr_dict for centroids \n",
    "## Adapted from Anastassia\n",
    "centroids[\"attr_dict\"] = centroids.apply(lambda x: make_attr_dict(geometry = x.centroid,\n",
    "                                                                  code_iris = x.CODE_IRIS,\n",
    "                                                                  nodetype = x.nodetype),\n",
    "                                                                  axis = 1) "
   ]
  },
  {
   "cell_type": "code",
   "execution_count": 98,
   "id": "12516bd7-d9e7-4f32-8392-e7d5f53fd167",
   "metadata": {},
   "outputs": [],
   "source": [
    "# Get carbike/nodes\n",
    "nodes_all = pd.read_csv(\"./data/processed/carbike_nodes.csv\")"
   ]
  },
  {
   "cell_type": "code",
   "execution_count": 99,
   "id": "2349e53d-0731-4b9e-b9bd-2b78e60caf45",
   "metadata": {},
   "outputs": [
    {
     "data": {
      "text/html": [
       "<div>\n",
       "<style scoped>\n",
       "    .dataframe tbody tr th:only-of-type {\n",
       "        vertical-align: middle;\n",
       "    }\n",
       "\n",
       "    .dataframe tbody tr th {\n",
       "        vertical-align: top;\n",
       "    }\n",
       "\n",
       "    .dataframe thead th {\n",
       "        text-align: right;\n",
       "    }\n",
       "</style>\n",
       "<table border=\"1\" class=\"dataframe\">\n",
       "  <thead>\n",
       "    <tr style=\"text-align: right;\">\n",
       "      <th></th>\n",
       "      <th>osmid</th>\n",
       "      <th>geometry</th>\n",
       "      <th>nodetype</th>\n",
       "      <th>x</th>\n",
       "      <th>y</th>\n",
       "    </tr>\n",
       "  </thead>\n",
       "  <tbody>\n",
       "    <tr>\n",
       "      <th>0</th>\n",
       "      <td>2844</td>\n",
       "      <td>POINT (2.37468 48.86970)</td>\n",
       "      <td>bike</td>\n",
       "      <td>2.374681</td>\n",
       "      <td>48.869698</td>\n",
       "    </tr>\n",
       "  </tbody>\n",
       "</table>\n",
       "</div>"
      ],
      "text/plain": [
       "   osmid                  geometry nodetype         x          y\n",
       "0   2844  POINT (2.37468 48.86970)     bike  2.374681  48.869698"
      ]
     },
     "execution_count": 99,
     "metadata": {},
     "output_type": "execute_result"
    }
   ],
   "source": [
    "# making new_nodes df compatible with nodes_all df\n",
    "new_nodes = new_nodes.drop(columns = ['NOM_COM',\n",
    "                                      'CODE_IRIS',\n",
    "                                      'NOM_IRIS',\n",
    "                                      'osm_id',\n",
    "                                      'cells',\n",
    "                                      'nodetype',\n",
    "                                     'id'])\n",
    "\n",
    "new_nodes = new_nodes.reset_index(drop = False).rename(columns = {'index' : 'osmid'})\n",
    "new_nodes['nodetype'] = 'bike'\n",
    "new_nodes['x'] = new_nodes.geometry.apply(lambda p: p.x)\n",
    "new_nodes['y'] = new_nodes.geometry.apply(lambda p: p.y)\n",
    "new_nodes.head(1)"
   ]
  },
  {
   "cell_type": "code",
   "execution_count": 100,
   "id": "70eb3455-c548-4dc0-9bf9-28a0c97e4b9b",
   "metadata": {},
   "outputs": [],
   "source": [
    "# dealing with the nodes like we used to (anastassia) \n",
    "\n",
    "# Creating the column \"nodetype\" \n",
    "bike_nodes = set(edges_all.loc[edges_all['edgetype'] == 'bike']['u'])\n",
    "\n",
    "nodes_all['nodetype'] = 0\n",
    "\n",
    "for index, row in nodes_all.iterrows():\n",
    "    if row[\"osmid\"] in bike_nodes:\n",
    "        nodes_all.loc[index, \"nodetype\"] = 'bike'\n",
    "    else:\n",
    "        nodes_all.loc[index, \"nodetype\"] = 'car'\n",
    "\n",
    "nodes_all[\"geometry\"] = nodes_all.apply(lambda x: shapely.wkt.loads(x.geometry), axis = 1)\n",
    "\n",
    "# MOD: Add the new_nodes to the old nodes \n",
    "nodes_all = pd.concat([nodes_all, new_nodes])\n",
    "\n",
    "nodes_all = gpd.GeoDataFrame(nodes_all, geometry = \"geometry\")\n",
    "\n",
    "## Sort values and drop duplicates \n",
    "nodes_all = nodes_all.sort_values(by = \"osmid\").reset_index(drop = True) # sort by osmid\n",
    "# make attribute dictionary with type and geocoordinates for each node\n",
    "# MOD: removed category_node = x.type \n",
    "# MOD: changed coord to geometry\n",
    "# MOD-Stpehan : split geometry into lat and lon\n",
    "nodes_all[\"attr_dict\"] = nodes_all.apply(lambda x: make_attr_dict(lat = x.x,\n",
    "                                                                  lon = x.y,\n",
    "                                                                  nodetype = x.nodetype),\n",
    "                                                                  axis = 1) \n"
   ]
  },
  {
   "cell_type": "code",
   "execution_count": 101,
   "id": "c14524f6-e9a8-46a9-85fd-5bed56f5f964",
   "metadata": {},
   "outputs": [],
   "source": [
    "# Save latest nodes\n",
    "nodes_final = pd.DataFrame(nodes_all)\n",
    "nodes_final.to_csv(\"./data/processed/carbike_centroids_link_nodes.csv\")"
   ]
  },
  {
   "cell_type": "code",
   "execution_count": 49,
   "id": "4435c581-d5bd-4e80-9149-f296ba640407",
   "metadata": {},
   "outputs": [
    {
     "data": {
      "text/html": [
       "<div>\n",
       "<style scoped>\n",
       "    .dataframe tbody tr th:only-of-type {\n",
       "        vertical-align: middle;\n",
       "    }\n",
       "\n",
       "    .dataframe tbody tr th {\n",
       "        vertical-align: top;\n",
       "    }\n",
       "\n",
       "    .dataframe thead th {\n",
       "        text-align: right;\n",
       "    }\n",
       "</style>\n",
       "<table border=\"1\" class=\"dataframe\">\n",
       "  <thead>\n",
       "    <tr style=\"text-align: right;\">\n",
       "      <th></th>\n",
       "      <th>osmid</th>\n",
       "      <th>edgetype</th>\n",
       "      <th>geometry</th>\n",
       "      <th>edge_id</th>\n",
       "      <th>attr_dict</th>\n",
       "      <th>x</th>\n",
       "      <th>y</th>\n",
       "    </tr>\n",
       "  </thead>\n",
       "  <tbody>\n",
       "    <tr>\n",
       "      <th>0</th>\n",
       "      <td>[332409156, 39750470, 39750471, 1105411815, 42...</td>\n",
       "      <td>car</td>\n",
       "      <td>LINESTRING (2.46355 48.88408, 2.46236 48.88415...</td>\n",
       "      <td>[122926, 318399738]</td>\n",
       "      <td>{'edgetype': 'car', 'edge_id': '[122926, 31839...</td>\n",
       "      <td>122926</td>\n",
       "      <td>318399738</td>\n",
       "    </tr>\n",
       "  </tbody>\n",
       "</table>\n",
       "</div>"
      ],
      "text/plain": [
       "                                               osmid edgetype  \\\n",
       "0  [332409156, 39750470, 39750471, 1105411815, 42...      car   \n",
       "\n",
       "                                            geometry              edge_id  \\\n",
       "0  LINESTRING (2.46355 48.88408, 2.46236 48.88415...  [122926, 318399738]   \n",
       "\n",
       "                                           attr_dict       x          y  \n",
       "0  {'edgetype': 'car', 'edge_id': '[122926, 31839...  122926  318399738  "
      ]
     },
     "execution_count": 49,
     "metadata": {},
     "output_type": "execute_result"
    }
   ],
   "source": [
    "# what about the edges?\n",
    "edges_all_unique.head(1)"
   ]
  },
  {
   "cell_type": "code",
   "execution_count": 111,
   "id": "75eb49b6-1996-4555-a06a-47175a51013a",
   "metadata": {},
   "outputs": [
    {
     "data": {
      "text/html": [
       "<div>\n",
       "<style scoped>\n",
       "    .dataframe tbody tr th:only-of-type {\n",
       "        vertical-align: middle;\n",
       "    }\n",
       "\n",
       "    .dataframe tbody tr th {\n",
       "        vertical-align: top;\n",
       "    }\n",
       "\n",
       "    .dataframe thead th {\n",
       "        text-align: right;\n",
       "    }\n",
       "</style>\n",
       "<table border=\"1\" class=\"dataframe\">\n",
       "  <thead>\n",
       "    <tr style=\"text-align: right;\">\n",
       "      <th></th>\n",
       "      <th>osmid</th>\n",
       "      <th>edgetype</th>\n",
       "      <th>geometry</th>\n",
       "      <th>edge_id</th>\n",
       "      <th>attr_dict</th>\n",
       "      <th>x</th>\n",
       "      <th>y</th>\n",
       "    </tr>\n",
       "  </thead>\n",
       "  <tbody>\n",
       "    <tr>\n",
       "      <th>167858</th>\n",
       "      <td>NaN</td>\n",
       "      <td>both</td>\n",
       "      <td>LINESTRING (2.27666 48.76719, 2.27667 48.76703)</td>\n",
       "      <td>NaN</td>\n",
       "      <td>NaN</td>\n",
       "      <td>NaN</td>\n",
       "      <td>NaN</td>\n",
       "    </tr>\n",
       "  </tbody>\n",
       "</table>\n",
       "</div>"
      ],
      "text/plain": [
       "       osmid edgetype                                         geometry  \\\n",
       "167858   NaN     both  LINESTRING (2.27666 48.76719, 2.27667 48.76703)   \n",
       "\n",
       "       edge_id attr_dict   x   y  \n",
       "167858     NaN       NaN NaN NaN  "
      ]
     },
     "execution_count": 111,
     "metadata": {},
     "output_type": "execute_result"
    }
   ],
   "source": [
    "# GOAL: modify linked.edges so it can become the new edges_all_unique\n",
    "edges_new = linked.edges\n",
    "\n",
    "# add edgetype\n",
    "edges_new['edgetype'] = edges_new['edgetype'].fillna('both')\n",
    "\n",
    "# add edge_ID (also gives x and y)\n",
    "# edges_new['x'] = edges_new.edge_id.apply(lambda p: p[0])\n",
    "# edges_new['y'] = edges_new.edge_id.apply(lambda p: p[1])\n",
    "\n",
    "\n",
    "new_edges.tail(1)"
   ]
  },
  {
   "cell_type": "markdown",
   "id": "7e353833-64f6-4c40-8b82-3fc01c1fcd1f",
   "metadata": {},
   "source": [
    "# Creating the NetworkX Graph"
   ]
  },
  {
   "cell_type": "code",
   "execution_count": 24,
   "id": "a99af667-9041-4581-af1d-a846e9b940ae",
   "metadata": {},
   "outputs": [
    {
     "ename": "NameError",
     "evalue": "name 'nodes_all' is not defined",
     "output_type": "error",
     "traceback": [
      "\u001b[0;31m---------------------------------------------------------------------------\u001b[0m",
      "\u001b[0;31mNameError\u001b[0m                                 Traceback (most recent call last)",
      "Cell \u001b[0;32mIn[24], line 6\u001b[0m\n\u001b[1;32m      1\u001b[0m \u001b[38;5;66;03m# Create NetworkX graph of the roads (Anastassia code)\u001b[39;00m\n\u001b[1;32m      2\u001b[0m \n\u001b[1;32m      3\u001b[0m \u001b[38;5;66;03m# CREATE NX OBJECTS\u001b[39;00m\n\u001b[1;32m      4\u001b[0m \u001b[38;5;66;03m# make multinetwork containing ALL edges\u001b[39;00m\n\u001b[1;32m      5\u001b[0m car_bike_graph \u001b[38;5;241m=\u001b[39m nx\u001b[38;5;241m.\u001b[39mGraph()\n\u001b[0;32m----> 6\u001b[0m car_bike_graph\u001b[38;5;241m.\u001b[39madd_nodes_from(\u001b[43mnodes_all\u001b[49m\u001b[38;5;241m.\u001b[39mloc[:,[\u001b[38;5;124m\"\u001b[39m\u001b[38;5;124mosmid\u001b[39m\u001b[38;5;124m\"\u001b[39m, \u001b[38;5;124m\"\u001b[39m\u001b[38;5;124mattr_dict\u001b[39m\u001b[38;5;124m\"\u001b[39m]]\u001b[38;5;241m.\u001b[39mitertuples(index \u001b[38;5;241m=\u001b[39m \u001b[38;5;28;01mFalse\u001b[39;00m))\n\u001b[1;32m      8\u001b[0m \u001b[38;5;66;03m# MOD: x and y instead of orig and dest\u001b[39;00m\n\u001b[1;32m      9\u001b[0m car_bike_graph\u001b[38;5;241m.\u001b[39madd_edges_from(edges_all_unique\u001b[38;5;241m.\u001b[39mloc[:,[\u001b[38;5;124m\"\u001b[39m\u001b[38;5;124mx\u001b[39m\u001b[38;5;124m\"\u001b[39m, \u001b[38;5;124m\"\u001b[39m\u001b[38;5;124my\u001b[39m\u001b[38;5;124m\"\u001b[39m, \u001b[38;5;124m\"\u001b[39m\u001b[38;5;124mattr_dict\u001b[39m\u001b[38;5;124m\"\u001b[39m]]\u001b[38;5;241m.\u001b[39mitertuples(index \u001b[38;5;241m=\u001b[39m \u001b[38;5;28;01mFalse\u001b[39;00m))\n",
      "\u001b[0;31mNameError\u001b[0m: name 'nodes_all' is not defined"
     ]
    }
   ],
   "source": [
    "# Create NetworkX graph of the roads (Anastassia code)\n",
    "\n",
    "# CREATE NX OBJECTS\n",
    "# make multinetwork containing ALL edges\n",
    "car_bike_graph = nx.Graph()\n",
    "car_bike_graph.add_nodes_from(nodes_all.loc[:,[\"osmid\", \"attr_dict\"]].itertuples(index = False))\n",
    "\n",
    "# MOD: x and y instead of orig and dest\n",
    "car_bike_graph.add_edges_from(edges_all_unique.loc[:,[\"x\", \"y\", \"attr_dict\"]].itertuples(index = False))\n",
    "\n",
    "# MOD: removed the LCC part"
   ]
  },
  {
   "cell_type": "code",
   "execution_count": null,
   "id": "9b964050-721e-47cf-9b42-3265264f6ef0",
   "metadata": {},
   "outputs": [],
   "source": [
    "networkx.shortest_path(G, 'node_0', 'node_10')"
   ]
  },
  {
   "cell_type": "markdown",
   "id": "c1a082f1-c540-4b94-9d32-a5a6d484374c",
   "metadata": {},
   "source": [
    "# What's next?\n",
    "\n",
    "THIS WEEK\n",
    "- try re-running the whole thing without an id column for the nodes -> does snkit give them an id and is it added to the edges info?\n",
    "- adapt code accordingly if so\n",
    "- if not, figure out how to find the edges that were cut into two, so they are not duplicate in the dataframe (are they even still there in their uncut form?)\n",
    "- move the cell that changes edges_all into edges_all_unique into the post-linking part as much as possbiel (at east the attr_dict part)\n",
    "YOU GOT THIS\n",
    "\n",
    "BUILDING THE SKELETAL NETWORK --April--\n",
    "- finish cleaning up edges/nodes for carbike after linking them with the centroids\n",
    "- import everything to networkX\n",
    "- make network travelable -> can I go from one centroid to another? \n",
    "- separate cars and bikes (add travel time as an attribute)\n",
    "- add restriction about how ot travel (either only bike or only car, not both)\n",
    "- add RER, but this time move the stations to nodes instead of changing stuff\n",
    "- send visuals and stuff to Anastassia and Trivik\n",
    "GOAL: I can pick two centroids and find the shortest path, which is all walk, all bike, or walk/bike to station then walk \n",
    "\n",
    "\n",
    "SOCIAL STUFF -- second midterm (May 22nd)--\n",
    "- define needed data for POIs and people \n",
    "- find data for POIs and people\n",
    "- add all of it to centroids\n",
    "- find/define OD matrix\n",
    "GOAL: I can pick one pop and one POI and find the shortest path\n",
    "\n",
    "OPTIMISATION STUFF (June)\n",
    "- find algorithm\n",
    "- modify network to allow for optimisation\n",
    "- do whatever it takes to get stuff to run\n",
    "- first results!! \n"
   ]
  },
  {
   "cell_type": "code",
   "execution_count": null,
   "id": "8a5209ca-1925-4084-82f9-08764be339e5",
   "metadata": {},
   "outputs": [],
   "source": []
  }
 ],
 "metadata": {
  "kernelspec": {
   "display_name": "Python 3 (ipykernel)",
   "language": "python",
   "name": "python3"
  },
  "language_info": {
   "codemirror_mode": {
    "name": "ipython",
    "version": 3
   },
   "file_extension": ".py",
   "mimetype": "text/x-python",
   "name": "python",
   "nbconvert_exporter": "python",
   "pygments_lexer": "ipython3",
   "version": "3.10.9"
  }
 },
 "nbformat": 4,
 "nbformat_minor": 5
}
